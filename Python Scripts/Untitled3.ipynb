{
 "cells": [
  {
   "cell_type": "code",
   "execution_count": 158,
   "metadata": {},
   "outputs": [],
   "source": [
    "import pandas as pd"
   ]
  },
  {
   "cell_type": "code",
   "execution_count": 159,
   "metadata": {},
   "outputs": [],
   "source": [
    "df_train = pd.read_csv(\"C:/Users/Admin/Documents/Datasets/Google_Stock_Price_Train.csv\")\n",
    "df_test = pd.read_csv(\"C:/Users/Admin/Documents/Datasets/Google_Stock_Price_Test.csv\") # Test Data"
   ]
  },
  {
   "cell_type": "code",
   "execution_count": 160,
   "metadata": {},
   "outputs": [
    {
     "data": {
      "text/plain": [
       "(1258, 6)"
      ]
     },
     "execution_count": 160,
     "metadata": {},
     "output_type": "execute_result"
    }
   ],
   "source": [
    "df_train.head(20)\n",
    "df_train.shape"
   ]
  },
  {
   "cell_type": "code",
   "execution_count": 161,
   "metadata": {},
   "outputs": [
    {
     "data": {
      "text/plain": [
       "(20, 6)"
      ]
     },
     "execution_count": 161,
     "metadata": {},
     "output_type": "execute_result"
    }
   ],
   "source": [
    "df_test.head(20)\n",
    "df_test.shape"
   ]
  },
  {
   "cell_type": "code",
   "execution_count": 162,
   "metadata": {},
   "outputs": [],
   "source": [
    "train = df_train.iloc[:, 1:2].values  # taking first column that is: \"Open\"\n",
    "test = df_test.iloc[:, 1:2].values # Test Set"
   ]
  },
  {
   "cell_type": "code",
   "execution_count": 163,
   "metadata": {},
   "outputs": [
    {
     "data": {
      "text/plain": [
       "array([[-1.37285476],\n",
       "       [-1.33320882],\n",
       "       [-1.34269224],\n",
       "       ...,\n",
       "       [ 1.71221829],\n",
       "       [ 1.64392454],\n",
       "       [ 1.64010483]])"
      ]
     },
     "execution_count": 163,
     "metadata": {},
     "output_type": "execute_result"
    }
   ],
   "source": [
    "# One way of standardization\n",
    "from sklearn.preprocessing import StandardScaler\n",
    "ss = StandardScaler()\n",
    "ss.fit_transform(train)"
   ]
  },
  {
   "cell_type": "code",
   "execution_count": 164,
   "metadata": {},
   "outputs": [
    {
     "data": {
      "text/plain": [
       "array([[5.78459412],\n",
       "       [5.80293375],\n",
       "       [5.79857737],\n",
       "       ...,\n",
       "       [6.67670556],\n",
       "       [6.66355406],\n",
       "       [6.66281336]])"
      ]
     },
     "execution_count": 164,
     "metadata": {},
     "output_type": "execute_result"
    }
   ],
   "source": [
    "# Another way of standardization\n",
    "import numpy as np\n",
    "np.log(train)"
   ]
  },
  {
   "cell_type": "code",
   "execution_count": 165,
   "metadata": {},
   "outputs": [
    {
     "data": {
      "text/plain": [
       "array([[0.08581368],\n",
       "       [0.09701243],\n",
       "       [0.09433366],\n",
       "       ...,\n",
       "       [0.95725128],\n",
       "       [0.93796041],\n",
       "       [0.93688146]])"
      ]
     },
     "execution_count": 165,
     "metadata": {},
     "output_type": "execute_result"
    }
   ],
   "source": [
    "# Another way of Standardization\n",
    "from sklearn.preprocessing import MinMaxScaler\n",
    "ms = MinMaxScaler(feature_range=(0, 1)) # feature-range 0 to 1 that is the standardized values will b between 0 and 1\n",
    "ms.fit_transform(train)"
   ]
  },
  {
   "cell_type": "code",
   "execution_count": 166,
   "metadata": {},
   "outputs": [
    {
     "data": {
      "text/plain": [
       "(20, 1)"
      ]
     },
     "execution_count": 166,
     "metadata": {},
     "output_type": "execute_result"
    }
   ],
   "source": [
    "# Using MinMaxScaler\n",
    "ms = MinMaxScaler(feature_range=(0,1))\n",
    "so = ms.fit_transform(train)\n",
    "so.shape\n",
    "\n",
    "# Test Set\n",
    "so_test = ms.transform(test)\n",
    "so_test.shape"
   ]
  },
  {
   "cell_type": "code",
   "execution_count": 167,
   "metadata": {},
   "outputs": [],
   "source": [
    "window = 5  # taking window of 60 observations of predictor variable \"Open\" to predict 61st value\n",
    "\n",
    "X_train = []\n",
    "y_train = []\n",
    "for i in range(window, 1258):\n",
    "    X_train.append(so[i-window: i, 0])\n",
    "    y_train.append(so[i, 0])  # taking 0th column of ith so.. bcoz \"so\" is (1258x1) array\n",
    "\n",
    "\n",
    "# Test Set\n",
    "X_test = []\n",
    "for i in range(window, 20):\n",
    "    X_test.append(so_test[i-window: i, 0])\n"
   ]
  },
  {
   "cell_type": "code",
   "execution_count": 168,
   "metadata": {},
   "outputs": [
    {
     "data": {
      "text/plain": [
       "(1253, 1, 5)"
      ]
     },
     "execution_count": 168,
     "metadata": {},
     "output_type": "execute_result"
    }
   ],
   "source": [
    "# np.array(X_train).shape\n",
    "# # np.array(X_train)[0]\n",
    "# # len(X_train)\n",
    "# # len(X_train[0])\n",
    "X_train = np.array(X_train)\n",
    "y_train = np.array(y_train)\n",
    "X_test = np.array(X_test)\n",
    "# reshape input to be [samples, time steps, features]\n",
    "X_train = np.reshape(X_train, (X_train.shape[0], 1, X_train.shape[1]))\n",
    "y_train = np.reshape(y_train, (y_train.shape[0], 1, 1))\n",
    "X_test = np.reshape(X_test, (X_test.shape[0], 1, X_test.shape[1]))\n",
    "# testX = numpy.reshape(testX, (testX.shape[0], 1, testX.shape[1]))\n",
    "# y_train[0]\n",
    "# y_train.reshape(y_train, ())\n",
    "# y_train = np.array(y_train)\n",
    "# y_train = np.reshape(trial, (trial.shape[0], 1, 1))\n",
    "X_train.shape"
   ]
  },
  {
   "cell_type": "code",
   "execution_count": 169,
   "metadata": {},
   "outputs": [],
   "source": [
    "X_train, y_train = np.array(X_train), np.array(y_train)"
   ]
  },
  {
   "cell_type": "code",
   "execution_count": 170,
   "metadata": {},
   "outputs": [],
   "source": [
    "from keras.models import Sequential\n",
    "from keras.layers import Dense, LSTM, Dropout"
   ]
  },
  {
   "cell_type": "markdown",
   "metadata": {},
   "source": [
    "# Classes' code not wrking for me\n",
    "# Referring:\n",
    "# https://keras.io/api/layers/recurrent_layers/lstm/\n",
    "# https://machinelearningmastery.com/time-series-prediction-lstm-recurrent-neural-networks-python-keras/"
   ]
  },
  {
   "cell_type": "code",
   "execution_count": 171,
   "metadata": {},
   "outputs": [],
   "source": [
    "# regressor = Sequential()\n",
    "# regressor.add(LSTM(units=50,return_sequences=True,input_shape = (xtrain.shape[1],1)))\n",
    "# regressor.add(Dropout(0.2))\n",
    "\n",
    "# regressor.add(LSTM(units=50,return_sequences=True))\n",
    "# regressor.add(Dropout(0.2))\n",
    "\n",
    "# regressor.add(LSTM(units=50,return_sequences=True))\n",
    "# regressor.add(Dropout(0.2))\n",
    "\n",
    "# regressor.add(LSTM(units=50,return_sequences=True))\n",
    "# regressor.add(Dropout(0.2))\n",
    "\n",
    "# regressor.add(Dense(units=1))"
   ]
  },
  {
   "cell_type": "code",
   "execution_count": 172,
   "metadata": {},
   "outputs": [
    {
     "name": "stdout",
     "output_type": "stream",
     "text": [
      "Model: \"sequential_22\"\n",
      "_________________________________________________________________\n",
      "Layer (type)                 Output Shape              Param #   \n",
      "=================================================================\n",
      "lstm_33 (LSTM)               (None, 1, 50)             11200     \n",
      "_________________________________________________________________\n",
      "dropout_17 (Dropout)         (None, 1, 50)             0         \n",
      "_________________________________________________________________\n",
      "lstm_34 (LSTM)               (None, 1, 50)             20200     \n",
      "_________________________________________________________________\n",
      "dropout_18 (Dropout)         (None, 1, 50)             0         \n",
      "_________________________________________________________________\n",
      "lstm_35 (LSTM)               (None, 1, 50)             20200     \n",
      "_________________________________________________________________\n",
      "dropout_19 (Dropout)         (None, 1, 50)             0         \n",
      "_________________________________________________________________\n",
      "lstm_36 (LSTM)               (None, 1, 50)             20200     \n",
      "_________________________________________________________________\n",
      "dropout_20 (Dropout)         (None, 1, 50)             0         \n",
      "_________________________________________________________________\n",
      "dense_15 (Dense)             (None, 1, 1)              51        \n",
      "=================================================================\n",
      "Total params: 71,851\n",
      "Trainable params: 71,851\n",
      "Non-trainable params: 0\n",
      "_________________________________________________________________\n"
     ]
    }
   ],
   "source": [
    "regressor = Sequential()\n",
    "regressor.add(LSTM(units=50, return_sequences=True, input_shape=(1, window)))\n",
    "regressor.add(Dropout(0.2))\n",
    "\n",
    "regressor.add(LSTM(units=50, return_sequences=True))\n",
    "regressor.add(Dropout(0.2))\n",
    "\n",
    "regressor.add(LSTM(units=50, return_sequences=True))\n",
    "regressor.add(Dropout(0.2))\n",
    "\n",
    "regressor.add(LSTM(units=50, return_sequences=True))\n",
    "regressor.add(Dropout(0.2))\n",
    "\n",
    "regressor.add(Dense(units=1))\n",
    "\n",
    "regressor.summary()"
   ]
  },
  {
   "cell_type": "code",
   "execution_count": 173,
   "metadata": {},
   "outputs": [
    {
     "name": "stdout",
     "output_type": "stream",
     "text": [
      "Epoch 1/5\n",
      "1253/1253 [==============================] - 2s 1ms/step - loss: 0.2484\n",
      "Epoch 2/5\n",
      "1253/1253 [==============================] - 0s 162us/step - loss: 0.0852\n",
      "Epoch 3/5\n",
      "1253/1253 [==============================] - 0s 172us/step - loss: 0.0825\n",
      "Epoch 4/5\n",
      "1253/1253 [==============================] - 0s 166us/step - loss: 0.0713\n",
      "Epoch 5/5\n",
      "1253/1253 [==============================] - 0s 162us/step - loss: 0.0665\n"
     ]
    },
    {
     "data": {
      "text/plain": [
       "<keras.callbacks.callbacks.History at 0x221d78daa20>"
      ]
     },
     "execution_count": 173,
     "metadata": {},
     "output_type": "execute_result"
    }
   ],
   "source": [
    "from keras.optimizers import RMSprop\n",
    "regressor.compile(optimizer=RMSprop(), loss=\"mean_absolute_error\")\n",
    "regressor.fit(X_train, y_train, epochs=5)"
   ]
  },
  {
   "cell_type": "code",
   "execution_count": 189,
   "metadata": {},
   "outputs": [
    {
     "data": {
      "text/plain": [
       "array([[773.48773, 778.5612 , 781.4326 , 785.03735, 787.009  , 787.0259 ,\n",
       "        786.69806, 786.6187 , 786.639  , 786.6551 , 789.9279 , 794.69745,\n",
       "        800.5949 , 805.46265, 805.49133]], dtype=float32)"
      ]
     },
     "execution_count": 189,
     "metadata": {},
     "output_type": "execute_result"
    }
   ],
   "source": [
    "pred = regressor.predict(X_test)\n",
    "pred = np.reshape(pred, (1, -1))\n",
    "pred = ms.inverse_transform(pred)\n",
    "pred\n",
    "# X_train.shape\n",
    "# X_test.shape"
   ]
  },
  {
   "cell_type": "raw",
   "metadata": {},
   "source": [
    "1st Nov\n",
    "\n",
    "regressor = Sequential()\n",
    "regressor.add(LSTM(units=50,return_sequences=True,input_shape = (xtrain.shape[1],1)))\n",
    "regressor.add(Dropout(0.2))\n",
    "\n",
    "regressor.add(LSTM(units=50,return_sequences=True))\n",
    "regressor.add(Dropout(0.2))\n",
    "\n",
    "regressor.add(LSTM(units=50,return_sequences=True))\n",
    "regressor.add(Dropout(0.2))\n",
    "\n",
    "regressor.add(LSTM(units=50,return_sequences=True))\n",
    "regressor.add(Dropout(0.2))\n",
    "\n",
    "regressor.add(Dense(units=1))\n",
    "\n",
    "\n",
    "# In[122]:\n",
    "regressor.compile(loss=\"mean_absolute_error\")\n",
    "regressor.fit(xtrain,ytrain,epochs=5)\n",
    "\n",
    "\n",
    "# In[123]:\n",
    "B = pd.read_csv(\"/users/bajajvbh/Desktop/Vaibhav/Datasets/Google_Stock_Price_Test.csv\")\n",
    "test = B.iloc[:,1:2].values\n",
    "\n",
    "\n",
    "# In[62]:\n",
    "#test = B.iloc[:,1:2]\n",
    "#train = A.iloc[:,1:2]\n",
    "\n",
    "\n",
    "# In[63]:\n",
    "#total = pd.concat((train,test),axis=0)\n",
    "\n",
    "\n",
    "# In[ ]:\n",
    "\n",
    "\n",
    "\n",
    "# In[126]:\n",
    "from sklearn.preprocessing import MinMaxScaler\n",
    "ms = MinMaxScaler(feature_range=(0,1))\n",
    "SO = ms.fit_transform(test)\n",
    "\n",
    "xtest=[]\n",
    "for i in range(60,80):\n",
    "   xtest.append(SO[i-60:i,0])\n",
    "   \n",
    "import numpy as np\n",
    "xtest = np.array(xtest)\n",
    "\n",
    "\n",
    "# In[128]:\n",
    "SO\n",
    "\n",
    "\n",
    "# In[127]:\n",
    "xtest\n",
    "\n",
    "\n",
    "# In[131]:\n",
    "xtest.shape\n",
    "\n",
    "\n",
    "# In[ ]:\n",
    "\n",
    "\n",
    "# In[ ]:\n",
    "\n",
    "\n",
    "# In[ ]:\n",
    "\n",
    "\n",
    "# In[132]:\n",
    "xtest = np.reshape(xtest,(xtest.shape[0],xtest.shape[1],1))\n",
    "\n",
    "\n",
    "# In[135]:\n",
    "type(xtest)\n",
    "\n",
    "\n",
    "# In[134]:\n",
    "pred = regressor.predict(xtest)\n",
    "\n",
    "###########################################################################\n",
    "# Update for error\n",
    "tot = pd.concat((train['Open'], B['Open']), axis = 0)\n",
    "C = tot[len(tot) - len(B) - 60:].values\n",
    "C = C.reshape(-1,1)\n",
    "C = sc.transform(C)\n",
    "xtest = []\n",
    "for i in range(60, 80):\n",
    "   xtest.append(C[i-60:i, 0])\n",
    "xtest = np.array(xtest)\n",
    "xtest = np.reshape(xtest, (xtest.shape[0], xtest.shape[1], 1))\n",
    "pred = regressor.predict(xtest)\n",
    "pred = sc.inverse_transform(pred)"
   ]
  },
  {
   "cell_type": "code",
   "execution_count": null,
   "metadata": {},
   "outputs": [],
   "source": []
  }
 ],
 "metadata": {
  "kernelspec": {
   "display_name": "Python 3",
   "language": "python",
   "name": "python3"
  },
  "language_info": {
   "codemirror_mode": {
    "name": "ipython",
    "version": 3
   },
   "file_extension": ".py",
   "mimetype": "text/x-python",
   "name": "python",
   "nbconvert_exporter": "python",
   "pygments_lexer": "ipython3",
   "version": "3.7.1"
  }
 },
 "nbformat": 4,
 "nbformat_minor": 4
}
