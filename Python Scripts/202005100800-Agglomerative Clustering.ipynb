{
 "cells": [
  {
   "cell_type": "code",
   "execution_count": 1,
   "metadata": {},
   "outputs": [
    {
     "data": {
      "text/html": [
       "<div>\n",
       "<style scoped>\n",
       "    .dataframe tbody tr th:only-of-type {\n",
       "        vertical-align: middle;\n",
       "    }\n",
       "\n",
       "    .dataframe tbody tr th {\n",
       "        vertical-align: top;\n",
       "    }\n",
       "\n",
       "    .dataframe thead th {\n",
       "        text-align: right;\n",
       "    }\n",
       "</style>\n",
       "<table border=\"1\" class=\"dataframe\">\n",
       "  <thead>\n",
       "    <tr style=\"text-align: right;\">\n",
       "      <th></th>\n",
       "      <th>Unnamed: 0</th>\n",
       "      <th>Manufacturer</th>\n",
       "      <th>Model</th>\n",
       "      <th>Type</th>\n",
       "      <th>Min.Price</th>\n",
       "      <th>Price</th>\n",
       "      <th>Max.Price</th>\n",
       "      <th>MPG.city</th>\n",
       "      <th>MPG.highway</th>\n",
       "      <th>AirBags</th>\n",
       "      <th>...</th>\n",
       "      <th>Passengers</th>\n",
       "      <th>Length</th>\n",
       "      <th>Wheelbase</th>\n",
       "      <th>Width</th>\n",
       "      <th>Turn.circle</th>\n",
       "      <th>Rear.seat.room</th>\n",
       "      <th>Luggage.room</th>\n",
       "      <th>Weight</th>\n",
       "      <th>Origin</th>\n",
       "      <th>Make</th>\n",
       "    </tr>\n",
       "  </thead>\n",
       "  <tbody>\n",
       "    <tr>\n",
       "      <th>0</th>\n",
       "      <td>1</td>\n",
       "      <td>Acura</td>\n",
       "      <td>Integra</td>\n",
       "      <td>Small</td>\n",
       "      <td>12.9</td>\n",
       "      <td>15.9</td>\n",
       "      <td>18.8</td>\n",
       "      <td>25</td>\n",
       "      <td>31</td>\n",
       "      <td>None</td>\n",
       "      <td>...</td>\n",
       "      <td>5</td>\n",
       "      <td>177</td>\n",
       "      <td>102</td>\n",
       "      <td>68</td>\n",
       "      <td>37</td>\n",
       "      <td>26.5</td>\n",
       "      <td>11.0</td>\n",
       "      <td>2705</td>\n",
       "      <td>non-USA</td>\n",
       "      <td>Acura Integra</td>\n",
       "    </tr>\n",
       "    <tr>\n",
       "      <th>1</th>\n",
       "      <td>2</td>\n",
       "      <td>Acura</td>\n",
       "      <td>Legend</td>\n",
       "      <td>Midsize</td>\n",
       "      <td>29.2</td>\n",
       "      <td>33.9</td>\n",
       "      <td>38.7</td>\n",
       "      <td>18</td>\n",
       "      <td>25</td>\n",
       "      <td>Driver &amp; Passenger</td>\n",
       "      <td>...</td>\n",
       "      <td>5</td>\n",
       "      <td>195</td>\n",
       "      <td>115</td>\n",
       "      <td>71</td>\n",
       "      <td>38</td>\n",
       "      <td>30.0</td>\n",
       "      <td>15.0</td>\n",
       "      <td>3560</td>\n",
       "      <td>non-USA</td>\n",
       "      <td>Acura Legend</td>\n",
       "    </tr>\n",
       "    <tr>\n",
       "      <th>2</th>\n",
       "      <td>3</td>\n",
       "      <td>Audi</td>\n",
       "      <td>90</td>\n",
       "      <td>Compact</td>\n",
       "      <td>25.9</td>\n",
       "      <td>29.1</td>\n",
       "      <td>32.3</td>\n",
       "      <td>20</td>\n",
       "      <td>26</td>\n",
       "      <td>Driver only</td>\n",
       "      <td>...</td>\n",
       "      <td>5</td>\n",
       "      <td>180</td>\n",
       "      <td>102</td>\n",
       "      <td>67</td>\n",
       "      <td>37</td>\n",
       "      <td>28.0</td>\n",
       "      <td>14.0</td>\n",
       "      <td>3375</td>\n",
       "      <td>non-USA</td>\n",
       "      <td>Audi 90</td>\n",
       "    </tr>\n",
       "    <tr>\n",
       "      <th>3</th>\n",
       "      <td>4</td>\n",
       "      <td>Audi</td>\n",
       "      <td>100</td>\n",
       "      <td>Midsize</td>\n",
       "      <td>30.8</td>\n",
       "      <td>37.7</td>\n",
       "      <td>44.6</td>\n",
       "      <td>19</td>\n",
       "      <td>26</td>\n",
       "      <td>Driver &amp; Passenger</td>\n",
       "      <td>...</td>\n",
       "      <td>6</td>\n",
       "      <td>193</td>\n",
       "      <td>106</td>\n",
       "      <td>70</td>\n",
       "      <td>37</td>\n",
       "      <td>31.0</td>\n",
       "      <td>17.0</td>\n",
       "      <td>3405</td>\n",
       "      <td>non-USA</td>\n",
       "      <td>Audi 100</td>\n",
       "    </tr>\n",
       "    <tr>\n",
       "      <th>4</th>\n",
       "      <td>5</td>\n",
       "      <td>BMW</td>\n",
       "      <td>535i</td>\n",
       "      <td>Midsize</td>\n",
       "      <td>23.7</td>\n",
       "      <td>30.0</td>\n",
       "      <td>36.2</td>\n",
       "      <td>22</td>\n",
       "      <td>30</td>\n",
       "      <td>Driver only</td>\n",
       "      <td>...</td>\n",
       "      <td>4</td>\n",
       "      <td>186</td>\n",
       "      <td>109</td>\n",
       "      <td>69</td>\n",
       "      <td>39</td>\n",
       "      <td>27.0</td>\n",
       "      <td>13.0</td>\n",
       "      <td>3640</td>\n",
       "      <td>non-USA</td>\n",
       "      <td>BMW 535i</td>\n",
       "    </tr>\n",
       "  </tbody>\n",
       "</table>\n",
       "<p>5 rows × 28 columns</p>\n",
       "</div>"
      ],
      "text/plain": [
       "   Unnamed: 0 Manufacturer    Model     Type  Min.Price  Price  Max.Price  \\\n",
       "0           1        Acura  Integra    Small       12.9   15.9       18.8   \n",
       "1           2        Acura   Legend  Midsize       29.2   33.9       38.7   \n",
       "2           3         Audi       90  Compact       25.9   29.1       32.3   \n",
       "3           4         Audi      100  Midsize       30.8   37.7       44.6   \n",
       "4           5          BMW     535i  Midsize       23.7   30.0       36.2   \n",
       "\n",
       "   MPG.city  MPG.highway             AirBags  ... Passengers Length  \\\n",
       "0        25           31                None  ...          5    177   \n",
       "1        18           25  Driver & Passenger  ...          5    195   \n",
       "2        20           26         Driver only  ...          5    180   \n",
       "3        19           26  Driver & Passenger  ...          6    193   \n",
       "4        22           30         Driver only  ...          4    186   \n",
       "\n",
       "   Wheelbase  Width  Turn.circle  Rear.seat.room Luggage.room  Weight  \\\n",
       "0        102     68           37            26.5         11.0    2705   \n",
       "1        115     71           38            30.0         15.0    3560   \n",
       "2        102     67           37            28.0         14.0    3375   \n",
       "3        106     70           37            31.0         17.0    3405   \n",
       "4        109     69           39            27.0         13.0    3640   \n",
       "\n",
       "    Origin           Make  \n",
       "0  non-USA  Acura Integra  \n",
       "1  non-USA   Acura Legend  \n",
       "2  non-USA        Audi 90  \n",
       "3  non-USA       Audi 100  \n",
       "4  non-USA       BMW 535i  \n",
       "\n",
       "[5 rows x 28 columns]"
      ]
     },
     "execution_count": 1,
     "metadata": {},
     "output_type": "execute_result"
    }
   ],
   "source": [
    "from pandas import read_csv\n",
    "df = read_csv(\"C:/Users/Admin/Documents/Datasets/Cars93.csv\")\n",
    "df.head()"
   ]
  },
  {
   "cell_type": "code",
   "execution_count": 2,
   "metadata": {},
   "outputs": [
    {
     "name": "stdout",
     "output_type": "stream",
     "text": [
      "<class 'pandas.core.frame.DataFrame'>\n",
      "RangeIndex: 93 entries, 0 to 92\n",
      "Data columns (total 28 columns):\n",
      " #   Column              Non-Null Count  Dtype  \n",
      "---  ------              --------------  -----  \n",
      " 0   Unnamed: 0          93 non-null     int64  \n",
      " 1   Manufacturer        93 non-null     object \n",
      " 2   Model               93 non-null     object \n",
      " 3   Type                93 non-null     object \n",
      " 4   Min.Price           93 non-null     float64\n",
      " 5   Price               93 non-null     float64\n",
      " 6   Max.Price           93 non-null     float64\n",
      " 7   MPG.city            93 non-null     int64  \n",
      " 8   MPG.highway         93 non-null     int64  \n",
      " 9   AirBags             93 non-null     object \n",
      " 10  DriveTrain          93 non-null     object \n",
      " 11  Cylinders           93 non-null     object \n",
      " 12  EngineSize          93 non-null     float64\n",
      " 13  Horsepower          93 non-null     int64  \n",
      " 14  RPM                 93 non-null     int64  \n",
      " 15  Rev.per.mile        93 non-null     int64  \n",
      " 16  Man.trans.avail     93 non-null     object \n",
      " 17  Fuel.tank.capacity  93 non-null     float64\n",
      " 18  Passengers          93 non-null     int64  \n",
      " 19  Length              93 non-null     int64  \n",
      " 20  Wheelbase           93 non-null     int64  \n",
      " 21  Width               93 non-null     int64  \n",
      " 22  Turn.circle         93 non-null     int64  \n",
      " 23  Rear.seat.room      91 non-null     float64\n",
      " 24  Luggage.room        82 non-null     float64\n",
      " 25  Weight              93 non-null     int64  \n",
      " 26  Origin              93 non-null     object \n",
      " 27  Make                93 non-null     object \n",
      "dtypes: float64(7), int64(12), object(9)\n",
      "memory usage: 20.5+ KB\n"
     ]
    }
   ],
   "source": [
    "df.info()"
   ]
  },
  {
   "cell_type": "code",
   "execution_count": 6,
   "metadata": {},
   "outputs": [
    {
     "data": {
      "text/plain": [
       "array([0, 1, 2, 1, 2, 0, 2, 2, 2, 1, 1, 0, 0, 0, 0, 0, 2, 2, 1, 2, 0, 2,\n",
       "       0, 0, 0, 2, 0, 2, 0, 2, 0, 0, 0, 0, 0, 2, 2, 2, 0, 0, 0, 0, 0, 0,\n",
       "       0, 0, 0, 1, 2, 1, 1, 1, 0, 0, 0, 2, 1, 2, 1, 0, 0, 0, 2, 0, 0, 2,\n",
       "       2, 0, 0, 2, 2, 0, 0, 0, 2, 2, 2, 2, 0, 0, 0, 0, 0, 0, 0, 0, 2, 0,\n",
       "       2, 2, 2, 2, 2], dtype=int64)"
      ]
     },
     "execution_count": 6,
     "metadata": {},
     "output_type": "execute_result"
    }
   ],
   "source": [
    "from sklearn.cluster import AgglomerativeClustering\n",
    "agc = AgglomerativeClustering(n_clusters=3)\n",
    "df_1 = df[[\"Price\", \"MPG.city\"]]\n",
    "model = agc.fit(df_1)\n",
    "model.labels_"
   ]
  },
  {
   "cell_type": "code",
   "execution_count": 10,
   "metadata": {},
   "outputs": [],
   "source": [
    "colors = []\n",
    "for i in model.labels_:\n",
    "    if i == 0:\n",
    "        colors.append(\"Blue\")\n",
    "    elif i == 1:\n",
    "        colors.append(\"Orange\")\n",
    "    else:\n",
    "        colors.append(\"Red\")"
   ]
  },
  {
   "cell_type": "code",
   "execution_count": 11,
   "metadata": {},
   "outputs": [
    {
     "data": {
      "image/png": "[encoded data removed]",
      "text/plain": [
       "<Figure size 432x288 with 1 Axes>"
      ]
     },
     "metadata": {},
     "output_type": "display_data"
    }
   ],
   "source": [
    "import matplotlib.pyplot as plt\n",
    "plt.scatter(df_1.Price, df[\"MPG.city\"], c=colors)\n",
    "plt.show()"
   ]
  },
  {
   "cell_type": "code",
   "execution_count": 12,
   "metadata": {},
   "outputs": [
    {
     "data": {
      "text/plain": [
       "array([[ 0.        , 19.31320792, 14.11523999, ..., 10.18626526,\n",
       "         7.88923317, 11.90126044],\n",
       "       [19.31320792,  0.        ,  5.2       , ..., 10.6       ,\n",
       "        11.59482643,  7.47261668],\n",
       "       [14.11523999,  5.2       ,  0.        , ...,  6.13514466,\n",
       "         6.4776539 ,  2.4       ],\n",
       "       ...,\n",
       "       [10.18626526, 10.6       ,  6.13514466, ...,  0.        ,\n",
       "         3.05941171,  3.94461658],\n",
       "       [ 7.88923317, 11.59482643,  6.4776539 , ...,  3.05941171,\n",
       "         0.        ,  4.12310563],\n",
       "       [11.90126044,  7.47261668,  2.4       , ...,  3.94461658,\n",
       "         4.12310563,  0.        ]])"
      ]
     },
     "execution_count": 12,
     "metadata": {},
     "output_type": "execute_result"
    }
   ],
   "source": [
    "import scipy.spatial as sp\n",
    "dist_matrix = sp.distance_matrix(df_1.values, df_1.values)\n",
    "dist_matrix"
   ]
  },
  {
   "cell_type": "code",
   "execution_count": 15,
   "metadata": {
    "scrolled": true
   },
   "outputs": [
    {
     "name": "stderr",
     "output_type": "stream",
     "text": [
      "C:\\Users\\Admin\\Anaconda3\\lib\\site-packages\\ipykernel_launcher.py:2: ClusterWarning: scipy.cluster: The symmetric non-negative hollow observation matrix looks suspiciously like an uncondensed distance matrix\n",
      "  \n"
     ]
    },
    {
     "data": {
      "text/plain": [
       "array([[ 25.        ,  65.        ,   0.70695533,   2.        ],\n",
       "       [  6.        ,  70.        ,   0.79106629,   2.        ],\n",
       "       [ 17.        ,  93.        ,   1.4113415 ,   3.        ],\n",
       "       [ 13.        ,  60.        ,   1.47137364,   2.        ],\n",
       "       [  5.        ,  33.        ,   1.50218124,   2.        ],\n",
       "       [ 36.        ,  89.        ,   1.57531594,   2.        ],\n",
       "       [ 23.        ,  73.        ,   1.58848244,   2.        ],\n",
       "       [ 43.        ,  52.        ,   2.2399395 ,   2.        ],\n",
       "       [ 14.        ,  26.        ,   2.24303796,   2.        ],\n",
       "       [ 59.        ,  71.        ,   2.30276658,   2.        ],\n",
       "       [ 27.        ,  62.        ,   2.58971265,   2.        ],\n",
       "       [ 28.        ,  63.        ,   2.60544058,   2.        ],\n",
       "       [ 55.        ,  69.        ,   2.93546019,   2.        ],\n",
       "       [ 53.        ,  78.        ,   3.4006029 ,   2.        ],\n",
       "       [  2.        ,  77.        ,   3.60306835,   2.        ],\n",
       "       [ 21.        , 107.        ,   3.61009701,   3.        ],\n",
       "       [ 20.        ,  68.        ,   3.7545999 ,   2.        ],\n",
       "       [ 34.        ,  67.        ,   3.77943127,   2.        ],\n",
       "       [ 12.        ,  80.        ,   3.78032922,   2.        ],\n",
       "       [  8.        , 103.        ,   3.82332295,   3.        ],\n",
       "       [ 88.        ,  95.        ,   4.26740812,   4.        ],\n",
       "       [ 92.        , 112.        ,   4.31070896,   4.        ],\n",
       "       [ 86.        ,  90.        ,   4.97503495,   2.        ],\n",
       "       [ 72.        ,  83.        ,   5.15323118,   2.        ],\n",
       "       [ 31.        ,  44.        ,   5.20782258,   2.        ],\n",
       "       [ 97.        , 109.        ,   5.38546543,   4.        ],\n",
       "       [  9.        ,  49.        ,   5.42760209,   2.        ],\n",
       "       [104.        , 106.        ,   5.46126134,   4.        ],\n",
       "       [101.        , 118.        ,   5.51916189,   6.        ],\n",
       "       [ 32.        ,  99.        ,   5.56432602,   3.        ],\n",
       "       [ 40.        ,  81.        ,   5.78165828,   2.        ],\n",
       "       [  0.        ,  64.        ,   5.92624   ,   2.        ],\n",
       "       [ 74.        ,  75.        ,   5.97565682,   2.        ],\n",
       "       [ 37.        ,  94.        ,   6.06018263,   3.        ],\n",
       "       [ 39.        , 120.        ,   6.06114522,   5.        ],\n",
       "       [ 19.        , 125.        ,   6.0831568 ,   3.        ],\n",
       "       [ 29.        ,  98.        ,   6.0996558 ,   3.        ],\n",
       "       [105.        , 113.        ,   6.14152921,   6.        ],\n",
       "       [ 45.        ,  87.        ,   6.23356929,   2.        ],\n",
       "       [ 24.        , 102.        ,   6.34771003,   3.        ],\n",
       "       [ 54.        , 124.        ,   6.34933069,   3.        ],\n",
       "       [  1.        ,  50.        ,   6.38631998,   2.        ],\n",
       "       [110.        , 132.        ,   6.43872809,   5.        ],\n",
       "       [128.        , 129.        ,   6.45495671,   6.        ],\n",
       "       [ 22.        , 100.        ,   6.56995249,   3.        ],\n",
       "       [121.        , 133.        ,   6.58313014,   9.        ],\n",
       "       [ 11.        , 135.        ,   6.6427806 ,   6.        ],\n",
       "       [119.        , 134.        ,   6.72531094,   4.        ],\n",
       "       [ 48.        , 108.        ,   7.49723941,   4.        ],\n",
       "       [ 42.        ,  84.        ,   7.49825951,   2.        ],\n",
       "       [  3.        ,  18.        ,   7.65719856,   2.        ],\n",
       "       [ 61.        , 137.        ,   7.73923222,   4.        ],\n",
       "       [117.        , 122.        ,   7.99465726,   5.        ],\n",
       "       [  4.        , 141.        ,   8.15898054,   5.        ],\n",
       "       [ 51.        , 140.        ,   8.26732468,   5.        ],\n",
       "       [ 76.        , 115.        ,   8.28254244,   3.        ],\n",
       "       [138.        , 139.        ,   8.4312549 ,  15.        ],\n",
       "       [142.        , 149.        ,   8.45302344,  17.        ],\n",
       "       [126.        , 130.        ,   8.68188044,   9.        ],\n",
       "       [136.        , 151.        ,   9.00253594,  15.        ],\n",
       "       [ 85.        , 123.        ,   9.22801504,   3.        ],\n",
       "       [116.        , 144.        ,   9.36365749,   6.        ],\n",
       "       [ 30.        ,  79.        ,   9.80276901,   2.        ],\n",
       "       [ 66.        , 152.        ,   9.85667268,  16.        ],\n",
       "       [ 91.        , 156.        ,   9.9359869 ,  17.        ],\n",
       "       [127.        , 154.        ,  10.0106014 ,  11.        ],\n",
       "       [111.        , 145.        ,  10.1461439 ,   7.        ],\n",
       "       [ 15.        , 157.        ,  10.22614824,  18.        ],\n",
       "       [131.        , 158.        ,  10.23543757,  13.        ],\n",
       "       [ 46.        ,  96.        ,  10.69234594,   3.        ],\n",
       "       [ 56.        , 147.        ,  10.74752302,   6.        ],\n",
       "       [155.        , 161.        ,  10.89673758,  15.        ],\n",
       "       [159.        , 164.        ,  11.410934  ,  22.        ],\n",
       "       [150.        , 162.        ,  11.77184808,  20.        ],\n",
       "       [160.        , 166.        ,  11.94978789,  38.        ],\n",
       "       [153.        , 167.        ,  12.60319258,  41.        ],\n",
       "       [  7.        , 148.        ,  12.74606311,   4.        ],\n",
       "       [143.        , 163.        ,  13.67530263,   8.        ],\n",
       "       [165.        , 168.        ,  13.78342205,  63.        ],\n",
       "       [ 57.        , 170.        ,  13.92287763,   9.        ],\n",
       "       [169.        , 171.        ,  14.13421176,  67.        ],\n",
       "       [ 35.        , 173.        ,  14.41543708,  68.        ],\n",
       "       [114.        , 174.        ,  14.65481176,  72.        ],\n",
       "       [146.        , 175.        ,  16.20207927,  77.        ],\n",
       "       [ 16.        , 176.        ,  18.92373986,  78.        ],\n",
       "       [ 41.        ,  82.        ,  19.63982586,   2.        ],\n",
       "       [172.        , 177.        ,  19.7327008 ,  87.        ],\n",
       "       [ 10.        , 179.        ,  21.65839736,  88.        ],\n",
       "       [ 38.        , 178.        ,  46.44564251,   3.        ],\n",
       "       [180.        , 181.        ,  47.18639896,  91.        ],\n",
       "       [ 47.        , 182.        ,  71.05336747,  92.        ],\n",
       "       [ 58.        , 183.        , 131.42749883,  93.        ]])"
      ]
     },
     "execution_count": 15,
     "metadata": {},
     "output_type": "execute_result"
    }
   ],
   "source": [
    "from scipy.cluster.hierarchy import dendrogram, linkage\n",
    "linkage_matrix = linkage(dist_matrix)\n",
    "linkage_matrix"
   ]
  },
  {
   "cell_type": "code",
   "execution_count": 17,
   "metadata": {},
   "outputs": [
    {
     "data": {
      "image/png": "[encoded data removed]",
      "text/plain": [
       "<Figure size 432x288 with 1 Axes>"
      ]
     },
     "metadata": {},
     "output_type": "display_data"
    }
   ],
   "source": [
    "dendrogram(linkage_matrix)\n",
    "plt.show()"
   ]
  },
  {
   "cell_type": "code",
   "execution_count": 26,
   "metadata": {},
   "outputs": [
    {
     "data": {
      "text/plain": [
       "array([2, 1, 2, 1, 0, 0, 1, 1, 2, 2, 0, 0, 0, 0, 0, 0, 0, 2, 0, 0, 1, 0,\n",
       "       0, 0, 0, 0, 1, 0, 0], dtype=int64)"
      ]
     },
     "execution_count": 26,
     "metadata": {},
     "output_type": "execute_result"
    }
   ],
   "source": [
    "# Looking at only few samples\n",
    "df_1 = df[[\"Price\", \"MPG.city\"]][1:30]\n",
    "model = agc.fit(df_1)\n",
    "model.labels_"
   ]
  },
  {
   "cell_type": "code",
   "execution_count": 27,
   "metadata": {},
   "outputs": [
    {
     "name": "stderr",
     "output_type": "stream",
     "text": [
      "C:\\Users\\Admin\\Anaconda3\\lib\\site-packages\\ipykernel_launcher.py:2: ClusterWarning: scipy.cluster: The symmetric non-negative hollow observation matrix looks suspiciously like an uncondensed distance matrix\n",
      "  \n"
     ]
    },
    {
     "data": {
      "image/png": "[encoded data removed]",
      "text/plain": [
       "<Figure size 432x288 with 1 Axes>"
      ]
     },
     "metadata": {},
     "output_type": "display_data"
    }
   ],
   "source": [
    "dist_matrix = sp.distance_matrix(df_1.values, df_1.values)\n",
    "linkage_matrix = linkage(dist_matrix)\n",
    "dendrogram(linkage_matrix)\n",
    "plt.show()"
   ]
  },
  {
   "cell_type": "code",
   "execution_count": null,
   "metadata": {},
   "outputs": [],
   "source": []
  }
 ],
 "metadata": {
  "kernelspec": {
   "display_name": "Python 3",
   "language": "python",
   "name": "python3"
  },
  "language_info": {
   "codemirror_mode": {
    "name": "ipython",
    "version": 3
   },
   "file_extension": ".py",
   "mimetype": "text/x-python",
   "name": "python",
   "nbconvert_exporter": "python",
   "pygments_lexer": "ipython3",
   "version": "3.6.4"
  }
 },
 "nbformat": 4,
 "nbformat_minor": 2
}
