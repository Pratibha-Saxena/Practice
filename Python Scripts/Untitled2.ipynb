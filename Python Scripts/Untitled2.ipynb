{
 "cells": [
  {
   "cell_type": "code",
   "execution_count": 2,
   "metadata": {},
   "outputs": [
    {
     "name": "stdout",
     "output_type": "stream",
     "text": [
      "showing info https://raw.githubusercontent.com/nltk/nltk_data/gh-pages/index.xml\n"
     ]
    },
    {
     "data": {
      "text/plain": [
       "True"
      ]
     },
     "execution_count": 2,
     "metadata": {},
     "output_type": "execute_result"
    }
   ],
   "source": [
    "import nltk\n",
    "import ssl\n",
    "\n",
    "try:\n",
    "    _create_unverified_https_context=ssl._create_unverified_context\n",
    "except AttributeError:\n",
    "    pass\n",
    "else:\n",
    "    ssl._create_default_https_context = _create_unverified_https_context\n",
    "nltk.download()"
   ]
  },
  {
   "cell_type": "code",
   "execution_count": 3,
   "metadata": {},
   "outputs": [],
   "source": [
    "def rem_spl_chars(rev):\n",
    "    import re\n",
    "    rev = rev.lower()\n",
    "    return re.sub(\"[^a-zA-Z. ]\",\"\",rev)\n",
    "\n",
    "def tokenize(A):\n",
    "    from nltk.tokenize import word_tokenize\n",
    "    A1 = word_tokenize(A)\n",
    "    return A1\n",
    "\n",
    "def sw(A3):\n",
    "    from nltk.corpus import stopwords\n",
    "    sw = stopwords.words(\"english\")\n",
    "    A4 = []\n",
    "    for i in A3:\n",
    "        if i not in sw:\n",
    "            A4.append(i)\n",
    "    return A4\n",
    "\n",
    "def stem(A4):\n",
    "    from nltk.stem import PorterStemmer\n",
    "    ps = PorterStemmer()\n",
    "    A5 = []\n",
    "    for i in A4:\n",
    "        A5.append(ps.stem(i))\n",
    "    return A5\n",
    "\n",
    "def lem(A5):\n",
    "    from nltk.stem import WordNetLemmatizer\n",
    "    wnlmt = WordNetLemmatizer()\n",
    "    A6 = []\n",
    "    for i in A5:\n",
    "        A6.append(wnlmt.lemmatize(i))\n",
    "    return A6\n",
    "\n",
    "def preproc(A):\n",
    "    B = rem_spl_chars(A)\n",
    "    B1 = tokenize(B)\n",
    "    B2 = sw(B1)\n",
    "    B3 = stem(B2)\n",
    "    B4 = lem(B3)\n",
    "    return B4\n",
    "\n",
    "def dealwithssl():\n",
    "    import ssl\n",
    "    try:\n",
    "        _create_unverified_https_context = ssl._create_unverified_context\n",
    "    except AttributeError:\n",
    "        pass\n",
    "    else:\n",
    "        ssl._create_default_https_context = _create_unverified_https_context"
   ]
  },
  {
   "cell_type": "code",
   "execution_count": null,
   "metadata": {},
   "outputs": [],
   "source": []
  }
 ],
 "metadata": {
  "kernelspec": {
   "display_name": "Python 3",
   "language": "python",
   "name": "python3"
  },
  "language_info": {
   "codemirror_mode": {
    "name": "ipython",
    "version": 3
   },
   "file_extension": ".py",
   "mimetype": "text/x-python",
   "name": "python",
   "nbconvert_exporter": "python",
   "pygments_lexer": "ipython3",
   "version": "3.7.1"
  }
 },
 "nbformat": 4,
 "nbformat_minor": 4
}
