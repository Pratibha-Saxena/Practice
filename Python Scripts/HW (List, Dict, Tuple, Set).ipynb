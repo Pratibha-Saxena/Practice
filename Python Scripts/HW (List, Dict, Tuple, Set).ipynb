{
 "cells": [
  {
   "cell_type": "markdown",
   "metadata": {},
   "source": [
    "# List"
   ]
  },
  {
   "cell_type": "code",
   "execution_count": 63,
   "metadata": {},
   "outputs": [],
   "source": [
    "lst = [1, 2, 3, 'xyz']"
   ]
  },
  {
   "cell_type": "markdown",
   "metadata": {},
   "source": [
    "Adding to list"
   ]
  },
  {
   "cell_type": "code",
   "execution_count": 64,
   "metadata": {},
   "outputs": [
    {
     "data": {
      "text/plain": [
       "[1, 2, 'new insertion', 3, 'xyz', [5, 2, 1], 'abcd', 'efgh']"
      ]
     },
     "execution_count": 64,
     "metadata": {},
     "output_type": "execute_result"
    }
   ],
   "source": [
    "lst.append([5, 2, 1])\n",
    "lst.extend(['abcd', 'efgh'])\n",
    "lst.insert(2, 'new insertion')\n",
    "lst"
   ]
  },
  {
   "cell_type": "markdown",
   "metadata": {},
   "source": [
    "Deleting from list"
   ]
  },
  {
   "cell_type": "code",
   "execution_count": 65,
   "metadata": {},
   "outputs": [
    {
     "data": {
      "text/plain": [
       "[]"
      ]
     },
     "execution_count": 65,
     "metadata": {},
     "output_type": "execute_result"
    }
   ],
   "source": [
    "del lst[-1]\n",
    "lst.pop(-1)\n",
    "lst.remove('xyz')\n",
    "lst.clear()\n",
    "lst"
   ]
  },
  {
   "cell_type": "markdown",
   "metadata": {},
   "source": [
    "Accessing from list"
   ]
  },
  {
   "cell_type": "code",
   "execution_count": 66,
   "metadata": {},
   "outputs": [
    {
     "name": "stdout",
     "output_type": "stream",
     "text": [
      "1\n",
      "2\n",
      "new insertion\n",
      "3\n",
      "xyz\n",
      "[5, 2, 1]\n",
      "abcd\n",
      "efgh\n",
      "3 4 5 6\n"
     ]
    },
    {
     "data": {
      "text/plain": [
       "['efgh', 'abcd', [5, 2, 1], 'xyz', 3, 'new insertion', 2, 1]"
      ]
     },
     "execution_count": 66,
     "metadata": {},
     "output_type": "execute_result"
    }
   ],
   "source": [
    "lst = [1, 2, 'new insertion', 3, 'xyz', [5, 2, 1], 'abcd', 'efgh']\n",
    "for ele in lst:\n",
    "    print(ele)\n",
    "lst[0]\n",
    "lst[0: 4]\n",
    "print(*range(3, 7))  # STARRED EXPRESSION: UNPACKING OPERATOR\n",
    "lst[::2] # skip one element\n",
    "lst[::-1] # reverse"
   ]
  },
  {
   "cell_type": "markdown",
   "metadata": {},
   "source": [
    "Other functions"
   ]
  },
  {
   "cell_type": "code",
   "execution_count": 92,
   "metadata": {},
   "outputs": [
    {
     "data": {
      "text/plain": [
       "[30, 10, 10, 3, 2, 1]"
      ]
     },
     "execution_count": 92,
     "metadata": {},
     "output_type": "execute_result"
    }
   ],
   "source": [
    "lst.append('xyz')\n",
    "len(lst)\n",
    "lst.index('xyz') \n",
    "lst = [1, 2, 3, 10, 30, 10]\n",
    "sorted(lst) # lst should conatin only one type of elements\n",
    "lst.sort(reverse=True) # lst should conatin only one type of elements\n",
    "lst"
   ]
  },
  {
   "cell_type": "markdown",
   "metadata": {},
   "source": [
    "# Dictionary"
   ]
  },
  {
   "cell_type": "code",
   "execution_count": 69,
   "metadata": {},
   "outputs": [
    {
     "name": "stdout",
     "output_type": "stream",
     "text": [
      "{}\n",
      "{1: 'Python', 2: 'Java'}\n"
     ]
    }
   ],
   "source": [
    "dct = {} #empty dictionary\n",
    "print(dct)\n",
    "dct = {1: 'Python', 2: 'Java'} #dictionary with elements\n",
    "print(dct)"
   ]
  },
  {
   "cell_type": "markdown",
   "metadata": {},
   "source": [
    "Adding to dictionary and Updating existing values"
   ]
  },
  {
   "cell_type": "code",
   "execution_count": 72,
   "metadata": {},
   "outputs": [],
   "source": [
    "dct['new key'] = 'new value'\n",
    "dct[1] = 'Advanced Python'"
   ]
  },
  {
   "cell_type": "markdown",
   "metadata": {},
   "source": [
    "Deleting from dictionary"
   ]
  },
  {
   "cell_type": "code",
   "execution_count": 86,
   "metadata": {},
   "outputs": [
    {
     "data": {
      "text/plain": [
       "{}"
      ]
     },
     "execution_count": 86,
     "metadata": {},
     "output_type": "execute_result"
    }
   ],
   "source": [
    "dct = {'First': 'Python', 'Second': 'Java', 'Third': 'Ruby'}\n",
    "dct.popitem() # result: {'First': 'Python', 'Second': 'Java'}\n",
    "dct.pop('First') # result: {'Second': 'Java'}\n",
    "dct.clear() # result: {}\n",
    "dct"
   ]
  },
  {
   "cell_type": "markdown",
   "metadata": {},
   "source": [
    "Accessing from dictionary"
   ]
  },
  {
   "cell_type": "code",
   "execution_count": 91,
   "metadata": {},
   "outputs": [
    {
     "data": {
      "text/plain": [
       "'DefaultVal'"
      ]
     },
     "execution_count": 91,
     "metadata": {},
     "output_type": "execute_result"
    }
   ],
   "source": [
    "dct = {'First': 'Python', 'Second': 'Java', 'Third': 'Ruby'}\n",
    "dct['First']\n",
    "dct.get('First', 'DefaultVal')\n",
    "dct.get('Fourth', 'DefaultVal')"
   ]
  },
  {
   "cell_type": "markdown",
   "metadata": {},
   "source": [
    "Other functions"
   ]
  },
  {
   "cell_type": "code",
   "execution_count": 97,
   "metadata": {},
   "outputs": [
    {
     "data": {
      "text/plain": [
       "dict_items([('First', 'Python'), ('Second', 'Java'), ('Third', 'Ruby')])"
      ]
     },
     "execution_count": 97,
     "metadata": {},
     "output_type": "execute_result"
    }
   ],
   "source": [
    "len(dct)\n",
    "dct.keys()\n",
    "dct.values()\n",
    "dct.items()\n",
    "dct.copy"
   ]
  },
  {
   "cell_type": "markdown",
   "metadata": {},
   "source": [
    "# Tuple  -- immutable but, can contain mutable items like list"
   ]
  },
  {
   "cell_type": "code",
   "execution_count": 125,
   "metadata": {},
   "outputs": [],
   "source": [
    "tup = (1, 2, 3, 'hello')"
   ]
  },
  {
   "cell_type": "markdown",
   "metadata": {},
   "source": [
    "Accessing from tuple"
   ]
  },
  {
   "cell_type": "code",
   "execution_count": 126,
   "metadata": {},
   "outputs": [
    {
     "name": "stdout",
     "output_type": "stream",
     "text": [
      "1\n",
      "2\n",
      "3\n",
      "hello\n"
     ]
    },
    {
     "data": {
      "text/plain": [
       "(2, 3)"
      ]
     },
     "execution_count": 126,
     "metadata": {},
     "output_type": "execute_result"
    }
   ],
   "source": [
    "for x in tup:\n",
    "    print(x)\n",
    "tup[0]\n",
    "tup[:]\n",
    "tup[2:4]\n",
    "tup[3][0:2]\n",
    "tup[1:4][0:2]"
   ]
  },
  {
   "cell_type": "markdown",
   "metadata": {},
   "source": [
    "Tuple is immutable.\n",
    "But, we can add values and reassign"
   ]
  },
  {
   "cell_type": "code",
   "execution_count": 127,
   "metadata": {},
   "outputs": [
    {
     "data": {
      "text/plain": [
       "(1, 2, 3, 'hello', 10, 22, 30, 'Str value')"
      ]
     },
     "execution_count": 127,
     "metadata": {},
     "output_type": "execute_result"
    }
   ],
   "source": [
    "tup = tup + (10, 22, 30, 'Str value')\n",
    "tup"
   ]
  },
  {
   "cell_type": "markdown",
   "metadata": {},
   "source": [
    "Other functions -- We can change the list stored inside a tuple bcoz the list inside tuple is mutable"
   ]
  },
  {
   "cell_type": "code",
   "execution_count": 141,
   "metadata": {},
   "outputs": [
    {
     "data": {
      "text/plain": [
       "0"
      ]
     },
     "execution_count": 141,
     "metadata": {},
     "output_type": "execute_result"
    }
   ],
   "source": [
    "tup = (1, 2, 3, ['.Net', 'Hindi', 'Python'])\n",
    "tup.index(['.Net', 'Hindi', 'Python'])\n",
    "tup[3][0] = 'Java'\n",
    "tup[3].append('English')\n",
    "# tup.index(['.Net', 'Hindi', 'Python', 'English'])  # This won't work -- may b bcoz after appending 'English', the list object got changed\n",
    "tup.count(2)\n",
    "tup.count(['.Net', 'Hindi', 'Python', 'English']) # Not found -- may b bcoz after appending 'English', the list object got changed"
   ]
  },
  {
   "cell_type": "markdown",
   "metadata": {},
   "source": [
    "# Set"
   ]
  },
  {
   "cell_type": "code",
   "execution_count": 155,
   "metadata": {},
   "outputs": [
    {
     "data": {
      "text/plain": [
       "{1, 2, 3, 4, 5}"
      ]
     },
     "execution_count": 155,
     "metadata": {},
     "output_type": "execute_result"
    }
   ],
   "source": [
    "m_set = my_set = {1, 2, 3, 4, 5, 5, 5}\n",
    "m_set"
   ]
  },
  {
   "cell_type": "markdown",
   "metadata": {},
   "source": [
    "Adding to set"
   ]
  },
  {
   "cell_type": "code",
   "execution_count": 156,
   "metadata": {},
   "outputs": [
    {
     "data": {
      "text/plain": [
       "{1, 2, 3, 4, 5, 6}"
      ]
     },
     "execution_count": 156,
     "metadata": {},
     "output_type": "execute_result"
    }
   ],
   "source": [
    "m_set.add(6)\n",
    "m_set"
   ]
  },
  {
   "cell_type": "markdown",
   "metadata": {},
   "source": [
    "Deleting from set"
   ]
  },
  {
   "cell_type": "code",
   "execution_count": 157,
   "metadata": {},
   "outputs": [
    {
     "data": {
      "text/plain": [
       "{1, 2, 3, 4}"
      ]
     },
     "execution_count": 157,
     "metadata": {},
     "output_type": "execute_result"
    }
   ],
   "source": [
    "m_set.remove(6)\n",
    "m_set.discard(5)\n",
    "m_set.discard(7)\n",
    "# m_set.remove(7) # unlike discard, this will raise error\n",
    "m_set"
   ]
  },
  {
   "cell_type": "markdown",
   "metadata": {},
   "source": [
    "Operations on set"
   ]
  },
  {
   "cell_type": "markdown",
   "metadata": {},
   "source": [
    "The union() function combines the data present in both sets.\n",
    "\n",
    "The intersection() function finds the data present in both sets only.\n",
    "\n",
    "The difference() function deletes the data present in both and outputs data present only in the set passed.\n",
    "\n",
    "The symmetric_difference() does the same as the difference() function but outputs the data which is remaining in both sets."
   ]
  },
  {
   "cell_type": "code",
   "execution_count": 170,
   "metadata": {},
   "outputs": [
    {
     "data": {
      "text/plain": [
       "set()"
      ]
     },
     "execution_count": 170,
     "metadata": {},
     "output_type": "execute_result"
    }
   ],
   "source": [
    "m_set = {1, 2, 3, 4}\n",
    "n_set = {3, 4, 5, 6}\n",
    "m_set.union(n_set)\n",
    "m_set | n_set\n",
    "m_set.intersection(n_set)\n",
    "m_set & n_set\n",
    "m_set.difference(n_set)\n",
    "m_set - n_set\n",
    "m_set.symmetric_difference(n_set)\n",
    "m_set ^ n_set\n",
    "m_set.clear()\n",
    "m_set"
   ]
  },
  {
   "cell_type": "code",
   "execution_count": null,
   "metadata": {},
   "outputs": [],
   "source": []
  }
 ],
 "metadata": {
  "kernelspec": {
   "display_name": "Python 3",
   "language": "python",
   "name": "python3"
  },
  "language_info": {
   "codemirror_mode": {
    "name": "ipython",
    "version": 3
   },
   "file_extension": ".py",
   "mimetype": "text/x-python",
   "name": "python",
   "nbconvert_exporter": "python",
   "pygments_lexer": "ipython3",
   "version": "3.6.4"
  }
 },
 "nbformat": 4,
 "nbformat_minor": 2
}
