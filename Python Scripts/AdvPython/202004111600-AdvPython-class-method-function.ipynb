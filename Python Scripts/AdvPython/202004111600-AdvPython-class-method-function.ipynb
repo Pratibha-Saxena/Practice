{
 "cells": [
  {
   "cell_type": "code",
   "execution_count": 29,
   "metadata": {},
   "outputs": [],
   "source": [
    "class Test:\n",
    "    \"\"\"\n",
    "    Dummy class Test ehich does nothing.\n",
    "    \"\"\"\n",
    "    a = 10 # a is obect of type int. However, it is in Test class, we can say it is an attribute.\n",
    "    \n",
    "    def show_data(self, name, age):\n",
    "        \"\"\"\n",
    "        show_data is method which prints dummy message.\n",
    "        \"\"\"\n",
    "        print(self.a)\n",
    "        print(\"show_data from Test class\", name, age)"
   ]
  },
  {
   "cell_type": "code",
   "execution_count": 30,
   "metadata": {},
   "outputs": [
    {
     "name": "stdout",
     "output_type": "stream",
     "text": [
      "10\n",
      "show_data from Test class abcd 25\n"
     ]
    }
   ],
   "source": [
    "t1 = Test()\n",
    "t1.show_data('abcd', 25)\n",
    "# Test.show_data()"
   ]
  },
  {
   "cell_type": "code",
   "execution_count": 26,
   "metadata": {},
   "outputs": [
    {
     "data": {
      "text/plain": [
       "10"
      ]
     },
     "execution_count": 26,
     "metadata": {},
     "output_type": "execute_result"
    }
   ],
   "source": [
    "t1.a"
   ]
  },
  {
   "cell_type": "code",
   "execution_count": null,
   "metadata": {},
   "outputs": [],
   "source": []
  }
 ],
 "metadata": {
  "kernelspec": {
   "display_name": "Python 3",
   "language": "python",
   "name": "python3"
  },
  "language_info": {
   "codemirror_mode": {
    "name": "ipython",
    "version": 3
   },
   "file_extension": ".py",
   "mimetype": "text/x-python",
   "name": "python",
   "nbconvert_exporter": "python",
   "pygments_lexer": "ipython3",
   "version": "3.6.4"
  }
 },
 "nbformat": 4,
 "nbformat_minor": 2
}
