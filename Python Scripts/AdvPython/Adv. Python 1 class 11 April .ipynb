{
 "cells": [
  {
   "cell_type": "code",
   "execution_count": null,
   "metadata": {},
   "outputs": [],
   "source": [
    "OOP\n",
    "DB\n",
    "Exception handling and file handling\n",
    "SMTP / FTP\n",
    "Regex\n",
    "Multithreading\n",
    "Flask/ Django\n",
    "How to create package"
   ]
  },
  {
   "cell_type": "code",
   "execution_count": 1,
   "metadata": {},
   "outputs": [],
   "source": [
    "a = 10\n",
    "b = 'Viraj'"
   ]
  },
  {
   "cell_type": "code",
   "execution_count": null,
   "metadata": {},
   "outputs": [],
   "source": [
    "# what is a ?\n",
    "a is nothing but"
   ]
  },
  {
   "cell_type": "code",
   "execution_count": null,
   "metadata": {},
   "outputs": [],
   "source": [
    "a = 10\n",
    "| => |=> Int type \n",
    "object/ variable\n",
    "\n",
    "a is object of int type\n",
    "\n",
    "b = 'viraj' => b is object of string"
   ]
  },
  {
   "cell_type": "code",
   "execution_count": 3,
   "metadata": {},
   "outputs": [
    {
     "name": "stdout",
     "output_type": "stream",
     "text": [
      "<class 'int'>\n"
     ]
    }
   ],
   "source": [
    "# type() => Data type\n",
    "print(type(a))"
   ]
  },
  {
   "cell_type": "code",
   "execution_count": 5,
   "metadata": {},
   "outputs": [],
   "source": [
    "b = 'Viraj'"
   ]
  },
  {
   "cell_type": "code",
   "execution_count": 6,
   "metadata": {},
   "outputs": [
    {
     "name": "stdout",
     "output_type": "stream",
     "text": [
      "<class 'str'>\n"
     ]
    }
   ],
   "source": [
    "print(type(b))"
   ]
  },
  {
   "cell_type": "code",
   "execution_count": 8,
   "metadata": {},
   "outputs": [
    {
     "data": {
      "text/plain": [
       "True"
      ]
     },
     "execution_count": 8,
     "metadata": {},
     "output_type": "execute_result"
    }
   ],
   "source": [
    "isinstance(b, str)"
   ]
  },
  {
   "cell_type": "code",
   "execution_count": 9,
   "metadata": {},
   "outputs": [
    {
     "data": {
      "text/plain": [
       "False"
      ]
     },
     "execution_count": 9,
     "metadata": {},
     "output_type": "execute_result"
    }
   ],
   "source": [
    "isinstance(b, int)"
   ]
  },
  {
   "cell_type": "code",
   "execution_count": 10,
   "metadata": {},
   "outputs": [
    {
     "name": "stdout",
     "output_type": "stream",
     "text": [
      "Help on built-in function isinstance in module builtins:\n",
      "\n",
      "isinstance(obj, class_or_tuple, /)\n",
      "    Return whether an object is an instance of a class or of a subclass thereof.\n",
      "    \n",
      "    A tuple, as in ``isinstance(x, (A, B, ...))``, may be given as the target to\n",
      "    check against. This is equivalent to ``isinstance(x, A) or isinstance(x, B)\n",
      "    or ...`` etc.\n",
      "\n"
     ]
    }
   ],
   "source": [
    "help(isinstance)"
   ]
  },
  {
   "cell_type": "code",
   "execution_count": 11,
   "metadata": {},
   "outputs": [
    {
     "ename": "TypeError",
     "evalue": "isinstance() arg 2 must be a type or tuple of types",
     "output_type": "error",
     "traceback": [
      "\u001b[1;31m---------------------------------------------------------------------------\u001b[0m",
      "\u001b[1;31mTypeError\u001b[0m                                 Traceback (most recent call last)",
      "\u001b[1;32m<ipython-input-11-a56677e45f02>\u001b[0m in \u001b[0;36m<module>\u001b[1;34m()\u001b[0m\n\u001b[1;32m----> 1\u001b[1;33m \u001b[0misinstance\u001b[0m\u001b[1;33m(\u001b[0m\u001b[0mint\u001b[0m\u001b[1;33m,\u001b[0m \u001b[0mb\u001b[0m\u001b[1;33m)\u001b[0m\u001b[1;33m\u001b[0m\u001b[0m\n\u001b[0m",
      "\u001b[1;31mTypeError\u001b[0m: isinstance() arg 2 must be a type or tuple of types"
     ]
    }
   ],
   "source": [
    "isinstance(int, b)"
   ]
  },
  {
   "cell_type": "code",
   "execution_count": null,
   "metadata": {},
   "outputs": [],
   "source": [
    "# object_name = new <Class Name>\n",
    "\n",
    "a = '10.99'"
   ]
  },
  {
   "cell_type": "code",
   "execution_count": null,
   "metadata": {},
   "outputs": [],
   "source": [
    "\"\"\"\n",
    "Title : Hello world\n",
    "Author : Viraj Wadate\n",
    "Date : 11 April 20\n",
    "\"\"\"\n",
    "\n",
    "# => Single line\n",
    "\"\"\"\n",
    " => Doc string / Multiple line comment\n",
    "\"\"\""
   ]
  },
  {
   "cell_type": "code",
   "execution_count": null,
   "metadata": {},
   "outputs": [],
   "source": [
    "a = list()"
   ]
  },
  {
   "cell_type": "code",
   "execution_count": null,
   "metadata": {},
   "outputs": [],
   "source": [
    "# What is OOP"
   ]
  },
  {
   "cell_type": "code",
   "execution_count": null,
   "metadata": {},
   "outputs": [],
   "source": [
    "def etlhive():\n",
    "    #addmission process\n",
    "    #payment\n",
    "    #traiiner details\n",
    "    #student details"
   ]
  },
  {
   "cell_type": "code",
   "execution_count": null,
   "metadata": {},
   "outputs": [],
   "source": [
    "#How to declare class?\n",
    "#Class name is always starts with captila latter\n",
    "class <ClassName>():\n",
    "    \"\"\"\n",
    "    doc string for class\n",
    "    \"\"\"\n",
    "    #attributes => class level variables\n",
    "    #methods => Any function in side class is called method.s \n",
    "    \n",
    "#To access all properties of this class you required object."
   ]
  },
  {
   "cell_type": "code",
   "execution_count": 12,
   "metadata": {},
   "outputs": [],
   "source": [
    "class Test:\n",
    "    \"\"\"\n",
    "    Dummy class Test which does nothing.\n",
    "    \"\"\"\n",
    "    a = 10 #a is object of int type. However it is in Test class we can say it is attribute\n",
    "    \n",
    "    def showdata(self):\n",
    "        \"\"\"\n",
    "        Showdata is method which prints dummy message.\n",
    "        \"\"\"\n",
    "        print(\"Showdata from Test class\")\n",
    "        \n",
    "print(\"OUTSIDE THE CLASS\")\n",
    "        "
   ]
  },
  {
   "cell_type": "code",
   "execution_count": 13,
   "metadata": {},
   "outputs": [],
   "source": [
    "#object_name = className.\n",
    "t1 = Test()"
   ]
  },
  {
   "cell_type": "code",
   "execution_count": null,
   "metadata": {},
   "outputs": [],
   "source": [
    "# t1 is object of Test class which can access a and showdata ?"
   ]
  },
  {
   "cell_type": "code",
   "execution_count": 14,
   "metadata": {},
   "outputs": [
    {
     "name": "stdout",
     "output_type": "stream",
     "text": [
      "Help on Test in module __main__ object:\n",
      "\n",
      "class Test(builtins.object)\n",
      " |  Dummy class Test which does nothing.\n",
      " |  \n",
      " |  Methods defined here:\n",
      " |  \n",
      " |  showdata(self)\n",
      " |      Showdata is method which prints dummy message.\n",
      " |  \n",
      " |  ----------------------------------------------------------------------\n",
      " |  Data descriptors defined here:\n",
      " |  \n",
      " |  __dict__\n",
      " |      dictionary for instance variables (if defined)\n",
      " |  \n",
      " |  __weakref__\n",
      " |      list of weak references to the object (if defined)\n",
      " |  \n",
      " |  ----------------------------------------------------------------------\n",
      " |  Data and other attributes defined here:\n",
      " |  \n",
      " |  a = 10\n",
      "\n"
     ]
    }
   ],
   "source": [
    "help(t1)"
   ]
  },
  {
   "cell_type": "code",
   "execution_count": null,
   "metadata": {},
   "outputs": [],
   "source": [
    "#type() => data type\n",
    "#dir() => gives functions related to your object/ class\n",
    "#help() => Doc string of object/ class/ datetype/ function, etc"
   ]
  },
  {
   "cell_type": "code",
   "execution_count": null,
   "metadata": {},
   "outputs": [],
   "source": [
    "#autopep8 is for auto indentation. .py files"
   ]
  },
  {
   "cell_type": "code",
   "execution_count": 15,
   "metadata": {},
   "outputs": [
    {
     "data": {
      "text/plain": [
       "10"
      ]
     },
     "execution_count": 15,
     "metadata": {},
     "output_type": "execute_result"
    }
   ],
   "source": [
    "#To access class attributes we neet create object.\n",
    "\n",
    "t1.a"
   ]
  },
  {
   "cell_type": "code",
   "execution_count": 16,
   "metadata": {},
   "outputs": [
    {
     "data": {
      "text/plain": [
       "10"
      ]
     },
     "execution_count": 16,
     "metadata": {},
     "output_type": "execute_result"
    }
   ],
   "source": [
    "#Not recommmended\n",
    "Test.a"
   ]
  },
  {
   "cell_type": "code",
   "execution_count": 17,
   "metadata": {},
   "outputs": [
    {
     "name": "stdout",
     "output_type": "stream",
     "text": [
      "Showdata from Test class\n"
     ]
    }
   ],
   "source": [
    "t1.showdata()"
   ]
  },
  {
   "cell_type": "code",
   "execution_count": 20,
   "metadata": {},
   "outputs": [
    {
     "ename": "TypeError",
     "evalue": "showdata() missing 1 required positional argument: 'self'",
     "output_type": "error",
     "traceback": [
      "\u001b[1;31m---------------------------------------------------------------------------\u001b[0m",
      "\u001b[1;31mTypeError\u001b[0m                                 Traceback (most recent call last)",
      "\u001b[1;32m<ipython-input-20-03effc97ea47>\u001b[0m in \u001b[0;36m<module>\u001b[1;34m()\u001b[0m\n\u001b[1;32m----> 1\u001b[1;33m \u001b[0mTest\u001b[0m\u001b[1;33m.\u001b[0m\u001b[0mshowdata\u001b[0m\u001b[1;33m(\u001b[0m\u001b[1;33m)\u001b[0m\u001b[1;33m\u001b[0m\u001b[0m\n\u001b[0m",
      "\u001b[1;31mTypeError\u001b[0m: showdata() missing 1 required positional argument: 'self'"
     ]
    }
   ],
   "source": [
    "Test.showdata()"
   ]
  },
  {
   "cell_type": "code",
   "execution_count": null,
   "metadata": {},
   "outputs": [],
   "source": [
    "#What is self?\n",
    "self is object or current state of object. \n",
    "#self == this"
   ]
  },
  {
   "cell_type": "code",
   "execution_count": null,
   "metadata": {},
   "outputs": [],
   "source": [
    "class Test:\n",
    "    \"\"\"\n",
    "    Dummy class Test which does nothing.\n",
    "    \"\"\"\n",
    "    a = 10 #a is object of int type. However it is in Test class we can say it is attribute\n",
    "    \n",
    "    def showdata(self):\n",
    "        \"\"\"\n",
    "        Showdata is method which prints dummy message.\n",
    "        \"\"\"\n",
    "        print(\"Showdata from Test class\")\n",
    "        \n",
    "t1 = Test()\n",
    "t1.showdata() #here t1 is object\n",
    "Test.showdata() # here, Test is class\n",
    "#Test can access all class attributes as well as methods? However method should not have self.\n",
    "        "
   ]
  },
  {
   "cell_type": "code",
   "execution_count": 21,
   "metadata": {},
   "outputs": [],
   "source": [
    "def test(name):\n",
    "    print(\"name is \", name)"
   ]
  },
  {
   "cell_type": "code",
   "execution_count": 25,
   "metadata": {},
   "outputs": [
    {
     "ename": "TypeError",
     "evalue": "test() missing 1 required positional argument: 'name'",
     "output_type": "error",
     "traceback": [
      "\u001b[1;31m---------------------------------------------------------------------------\u001b[0m",
      "\u001b[1;31mTypeError\u001b[0m                                 Traceback (most recent call last)",
      "\u001b[1;32m<ipython-input-25-fbd55f77ab7c>\u001b[0m in \u001b[0;36m<module>\u001b[1;34m()\u001b[0m\n\u001b[1;32m----> 1\u001b[1;33m \u001b[0mtest\u001b[0m\u001b[1;33m(\u001b[0m\u001b[1;33m)\u001b[0m\u001b[1;33m\u001b[0m\u001b[0m\n\u001b[0m",
      "\u001b[1;31mTypeError\u001b[0m: test() missing 1 required positional argument: 'name'"
     ]
    }
   ],
   "source": [
    "test()"
   ]
  },
  {
   "cell_type": "code",
   "execution_count": 27,
   "metadata": {},
   "outputs": [
    {
     "name": "stdout",
     "output_type": "stream",
     "text": [
      "Showdata from Test class\n"
     ]
    }
   ],
   "source": [
    "class Test:\n",
    "    \"\"\"\n",
    "    Dummy class Test which does nothing.\n",
    "    \"\"\"\n",
    "    a = 10 #a is object of int type. However it is in Test class we can say it is attribute\n",
    "    \n",
    "    def showdata(self):\n",
    "        \"\"\"\n",
    "        Showdata is method which prints dummy message.\n",
    "        \"\"\"\n",
    "        print(\"Showdata from Test class\")\n",
    "        \n",
    "        \n",
    "t1 = Test()\n",
    "t1.showdata()"
   ]
  },
  {
   "cell_type": "code",
   "execution_count": 35,
   "metadata": {},
   "outputs": [
    {
     "name": "stdout",
     "output_type": "stream",
     "text": [
      "Showdata from Test class  Ravi 25\n"
     ]
    }
   ],
   "source": [
    "class Test:\n",
    "    \"\"\"\n",
    "    Dummy class Test which does nothing.\n",
    "    \"\"\"\n",
    "    a = 10 #a is object of int type. However it is in Test class we can say it is attribute\n",
    "    \n",
    "    def showdata(viraj, name, age=30):\n",
    "        \"\"\"\n",
    "        showdata(<current_object, name, age>)\n",
    "        Showdata is method which prints dummy message.\n",
    "        \"\"\"\n",
    "        print(\"Showdata from Test class \", name, age)\n",
    "        \n",
    "        \n",
    "t1 = Test()\n",
    "t1.showdata(age=25, name='Ravi')"
   ]
  },
  {
   "cell_type": "code",
   "execution_count": null,
   "metadata": {},
   "outputs": [],
   "source": [
    "class => is collection of attributes and methods.\n",
    "attirbutes => is nothing but variables\n",
    "methods == functions. *NOTE : any function is defined inside class is called method"
   ]
  },
  {
   "cell_type": "code",
   "execution_count": 43,
   "metadata": {},
   "outputs": [
    {
     "name": "stdout",
     "output_type": "stream",
     "text": [
      "Showdata from Test class  Ravi 25\n",
      "Value of a is  10\n"
     ]
    }
   ],
   "source": [
    "class Test:\n",
    "    \"\"\"\n",
    "    Dummy class Test which does nothing.\n",
    "    \"\"\"\n",
    "    a = 10 #a is object of int type. However it is in Test class we can say it is attribute\n",
    "    \n",
    "    def showdata(viraj, name, age=30):\n",
    "        \"\"\"\n",
    "        showdata(<current_object, name, age>)\n",
    "        Showdata is method which prints dummy message.\n",
    "        \"\"\"\n",
    "        print(\"Showdata from Test class \", name, age)\n",
    "        print(\"Value of a is \", viraj.a)\n",
    "        \n",
    "        \n",
    "t1 = Test()\n",
    "t1.showdata(age=25, name='Ravi')"
   ]
  },
  {
   "cell_type": "code",
   "execution_count": 44,
   "metadata": {},
   "outputs": [
    {
     "name": "stdout",
     "output_type": "stream",
     "text": [
      "Showdata from Test class  vijay 50\n",
      "Value of a is  10\n"
     ]
    }
   ],
   "source": [
    "t2 = Test()\n",
    "t2.showdata('vijay', 50)"
   ]
  },
  {
   "cell_type": "code",
   "execution_count": 45,
   "metadata": {},
   "outputs": [
    {
     "data": {
      "text/plain": [
       "10"
      ]
     },
     "execution_count": 45,
     "metadata": {},
     "output_type": "execute_result"
    }
   ],
   "source": [
    "t2.a"
   ]
  },
  {
   "cell_type": "code",
   "execution_count": 46,
   "metadata": {},
   "outputs": [],
   "source": [
    "t2.a = 20"
   ]
  },
  {
   "cell_type": "code",
   "execution_count": 47,
   "metadata": {},
   "outputs": [
    {
     "name": "stdout",
     "output_type": "stream",
     "text": [
      "Showdata from Test class  vijay 50\n",
      "Value of a is  20\n"
     ]
    }
   ],
   "source": [
    "t2.showdata('vijay', 50)"
   ]
  },
  {
   "cell_type": "code",
   "execution_count": 48,
   "metadata": {},
   "outputs": [
    {
     "data": {
      "text/plain": [
       "20"
      ]
     },
     "execution_count": 48,
     "metadata": {},
     "output_type": "execute_result"
    }
   ],
   "source": [
    "t2.a"
   ]
  },
  {
   "cell_type": "code",
   "execution_count": 64,
   "metadata": {},
   "outputs": [],
   "source": [
    "class Test:\n",
    "    a = 10\n",
    "    def showdata(self):\n",
    "        print(\"Value of a is \", self.a)"
   ]
  },
  {
   "cell_type": "code",
   "execution_count": 65,
   "metadata": {},
   "outputs": [],
   "source": [
    "test1 = Test()"
   ]
  },
  {
   "cell_type": "code",
   "execution_count": 66,
   "metadata": {},
   "outputs": [
    {
     "name": "stdout",
     "output_type": "stream",
     "text": [
      "Value of a is  10\n"
     ]
    }
   ],
   "source": [
    "test1.showdata()"
   ]
  },
  {
   "cell_type": "code",
   "execution_count": 67,
   "metadata": {},
   "outputs": [],
   "source": [
    "test2 = Test()"
   ]
  },
  {
   "cell_type": "code",
   "execution_count": 68,
   "metadata": {},
   "outputs": [
    {
     "data": {
      "text/plain": [
       "10"
      ]
     },
     "execution_count": 68,
     "metadata": {},
     "output_type": "execute_result"
    }
   ],
   "source": [
    "test2.a "
   ]
  },
  {
   "cell_type": "code",
   "execution_count": 69,
   "metadata": {},
   "outputs": [],
   "source": [
    "test2.a = 20"
   ]
  },
  {
   "cell_type": "code",
   "execution_count": 70,
   "metadata": {},
   "outputs": [
    {
     "name": "stdout",
     "output_type": "stream",
     "text": [
      "Value of a is  20\n"
     ]
    }
   ],
   "source": [
    "test2.showdata()"
   ]
  },
  {
   "cell_type": "code",
   "execution_count": 71,
   "metadata": {},
   "outputs": [
    {
     "name": "stdout",
     "output_type": "stream",
     "text": [
      "Value of a is  10\n"
     ]
    }
   ],
   "source": [
    "test1.showdata()"
   ]
  },
  {
   "cell_type": "code",
   "execution_count": 72,
   "metadata": {},
   "outputs": [],
   "source": [
    "Test = 30\n",
    "#Test is variable not a class."
   ]
  },
  {
   "cell_type": "code",
   "execution_count": 73,
   "metadata": {},
   "outputs": [
    {
     "name": "stdout",
     "output_type": "stream",
     "text": [
      "Value of a is  20\n"
     ]
    }
   ],
   "source": [
    "test2.showdata()"
   ]
  },
  {
   "cell_type": "code",
   "execution_count": 74,
   "metadata": {},
   "outputs": [
    {
     "name": "stdout",
     "output_type": "stream",
     "text": [
      "Value of a is  10\n"
     ]
    }
   ],
   "source": [
    "test1.showdata()"
   ]
  },
  {
   "cell_type": "code",
   "execution_count": 77,
   "metadata": {},
   "outputs": [],
   "source": [
    "class Test:\n",
    "    a = 10\n",
    "    def showdata(self):\n",
    "        print(\"Value of a is \", a)"
   ]
  },
  {
   "cell_type": "code",
   "execution_count": 78,
   "metadata": {},
   "outputs": [],
   "source": [
    "test3 = Test()"
   ]
  },
  {
   "cell_type": "code",
   "execution_count": 79,
   "metadata": {},
   "outputs": [
    {
     "name": "stdout",
     "output_type": "stream",
     "text": [
      "Value of a is  10\n"
     ]
    }
   ],
   "source": [
    "test3.showdata()"
   ]
  },
  {
   "cell_type": "code",
   "execution_count": 80,
   "metadata": {},
   "outputs": [],
   "source": [
    "test4 = Test()"
   ]
  },
  {
   "cell_type": "code",
   "execution_count": 81,
   "metadata": {},
   "outputs": [],
   "source": [
    "test4.a = 60"
   ]
  },
  {
   "cell_type": "code",
   "execution_count": 82,
   "metadata": {},
   "outputs": [
    {
     "name": "stdout",
     "output_type": "stream",
     "text": [
      "Value of a is  10\n"
     ]
    }
   ],
   "source": [
    "test4.showdata()"
   ]
  },
  {
   "cell_type": "code",
   "execution_count": 86,
   "metadata": {},
   "outputs": [],
   "source": [
    "class ETLHive:\n",
    "    class_name = \"ETLHIVE\"\n",
    "    branch = \"WAKAD\"\n",
    "    \n",
    "    def student_details(self, name, course):\n",
    "        print(\"All student details from %s class  Name : %s Course %s : Your from %s barnch \" %(self.class_name, name, course, self.branch))"
   ]
  },
  {
   "cell_type": "code",
   "execution_count": 89,
   "metadata": {},
   "outputs": [],
   "source": [
    "student1 = ETLHive()"
   ]
  },
  {
   "cell_type": "code",
   "execution_count": 90,
   "metadata": {},
   "outputs": [
    {
     "name": "stdout",
     "output_type": "stream",
     "text": [
      "All student details from ETLHIVE class  Name : Abhi Course DS : Your from WAKAD barnch \n"
     ]
    }
   ],
   "source": [
    "student1.student_details('Abhi', 'DS')"
   ]
  },
  {
   "cell_type": "code",
   "execution_count": 91,
   "metadata": {},
   "outputs": [],
   "source": [
    "student2 = ETLHive()"
   ]
  },
  {
   "cell_type": "code",
   "execution_count": 92,
   "metadata": {},
   "outputs": [],
   "source": [
    "student2.branch = \"Aundh\""
   ]
  },
  {
   "cell_type": "code",
   "execution_count": 94,
   "metadata": {},
   "outputs": [
    {
     "name": "stdout",
     "output_type": "stream",
     "text": [
      "All student details from ETLHIVE class  Name : Rajesh Course Hadoop : Your from Aundh barnch \n"
     ]
    }
   ],
   "source": [
    "student2.student_details('Rajesh', 'Hadoop')"
   ]
  },
  {
   "cell_type": "code",
   "execution_count": 101,
   "metadata": {},
   "outputs": [],
   "source": [
    "class ETLHive:\n",
    "    class_name = \"ETLHIVE\"\n",
    "    branch = \"WAKAD\"\n",
    "    \n",
    "    def student_details(self, name, course):\n",
    "        print(\"All student details from %s class  Name : %s Course %s : Your from %s barnch \" %(self.class_name, name, course, branch))"
   ]
  },
  {
   "cell_type": "code",
   "execution_count": 102,
   "metadata": {},
   "outputs": [],
   "source": [
    "student1 = ETLHive()"
   ]
  },
  {
   "cell_type": "code",
   "execution_count": 103,
   "metadata": {},
   "outputs": [
    {
     "ename": "NameError",
     "evalue": "name 'branch' is not defined",
     "output_type": "error",
     "traceback": [
      "\u001b[1;31m---------------------------------------------------------------------------\u001b[0m",
      "\u001b[1;31mNameError\u001b[0m                                 Traceback (most recent call last)",
      "\u001b[1;32m<ipython-input-103-2263498ca543>\u001b[0m in \u001b[0;36m<module>\u001b[1;34m()\u001b[0m\n\u001b[1;32m----> 1\u001b[1;33m \u001b[0mstudent1\u001b[0m\u001b[1;33m.\u001b[0m\u001b[0mstudent_details\u001b[0m\u001b[1;33m(\u001b[0m\u001b[1;34m'Abhi'\u001b[0m\u001b[1;33m,\u001b[0m \u001b[1;34m'DS'\u001b[0m\u001b[1;33m)\u001b[0m\u001b[1;33m\u001b[0m\u001b[0m\n\u001b[0m",
      "\u001b[1;32m<ipython-input-101-40f2dfd8a0c7>\u001b[0m in \u001b[0;36mstudent_details\u001b[1;34m(self, name, course)\u001b[0m\n\u001b[0;32m      4\u001b[0m \u001b[1;33m\u001b[0m\u001b[0m\n\u001b[0;32m      5\u001b[0m     \u001b[1;32mdef\u001b[0m \u001b[0mstudent_details\u001b[0m\u001b[1;33m(\u001b[0m\u001b[0mself\u001b[0m\u001b[1;33m,\u001b[0m \u001b[0mname\u001b[0m\u001b[1;33m,\u001b[0m \u001b[0mcourse\u001b[0m\u001b[1;33m)\u001b[0m\u001b[1;33m:\u001b[0m\u001b[1;33m\u001b[0m\u001b[0m\n\u001b[1;32m----> 6\u001b[1;33m         \u001b[0mprint\u001b[0m\u001b[1;33m(\u001b[0m\u001b[1;34m\"All student details from %s class  Name : %s Course %s : Your from %s barnch \"\u001b[0m \u001b[1;33m%\u001b[0m\u001b[1;33m(\u001b[0m\u001b[0mself\u001b[0m\u001b[1;33m.\u001b[0m\u001b[0mclass_name\u001b[0m\u001b[1;33m,\u001b[0m \u001b[0mname\u001b[0m\u001b[1;33m,\u001b[0m \u001b[0mcourse\u001b[0m\u001b[1;33m,\u001b[0m \u001b[0mbranch\u001b[0m\u001b[1;33m)\u001b[0m\u001b[1;33m)\u001b[0m\u001b[1;33m\u001b[0m\u001b[0m\n\u001b[0m",
      "\u001b[1;31mNameError\u001b[0m: name 'branch' is not defined"
     ]
    }
   ],
   "source": [
    "student1.student_details('Abhi', 'DS')"
   ]
  },
  {
   "cell_type": "code",
   "execution_count": null,
   "metadata": {},
   "outputs": [],
   "source": [
    "pd.read_csv('emp.xml')\n",
    "#Client side => Browser side\n",
    "#Server side => \n",
    "\n",
    "Flask + python\n",
    "\n"
   ]
  }
 ],
 "metadata": {
  "kernelspec": {
   "display_name": "Python 3",
   "language": "python",
   "name": "python3"
  },
  "language_info": {
   "codemirror_mode": {
    "name": "ipython",
    "version": 3
   },
   "file_extension": ".py",
   "mimetype": "text/x-python",
   "name": "python",
   "nbconvert_exporter": "python",
   "pygments_lexer": "ipython3",
   "version": "3.5.6"
  }
 },
 "nbformat": 4,
 "nbformat_minor": 2
}
