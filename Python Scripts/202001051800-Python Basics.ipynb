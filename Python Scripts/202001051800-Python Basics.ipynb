{
 "cells": [
  {
   "cell_type": "markdown",
   "metadata": {},
   "source": [
    "Auto Inference in Python... No need to specify datatype of variable"
   ]
  },
  {
   "cell_type": "code",
   "execution_count": 3,
   "metadata": {},
   "outputs": [
    {
     "name": "stdout",
     "output_type": "stream",
     "text": [
      "60\n",
      "-20\n",
      "800\n",
      "0.5\n"
     ]
    }
   ],
   "source": [
    "a = 20\n",
    "b = 40\n",
    "print(a + b)\n",
    "print(a - b)\n",
    "print(a * b)\n",
    "print(a / b)"
   ]
  },
  {
   "cell_type": "code",
   "execution_count": 7,
   "metadata": {},
   "outputs": [
    {
     "data": {
      "text/plain": [
       "int"
      ]
     },
     "execution_count": 7,
     "metadata": {},
     "output_type": "execute_result"
    }
   ],
   "source": [
    "type(a)"
   ]
  },
  {
   "cell_type": "code",
   "execution_count": 28,
   "metadata": {},
   "outputs": [
    {
     "name": "stdout",
     "output_type": "stream",
     "text": [
      "<class 'str'>\n"
     ]
    },
    {
     "data": {
      "text/plain": [
       "str"
      ]
     },
     "execution_count": 28,
     "metadata": {},
     "output_type": "execute_result"
    }
   ],
   "source": [
    "a = \"Python and Machine Learning\"\n",
    "print(type(a))\n",
    "type(a)"
   ]
  },
  {
   "cell_type": "code",
   "execution_count": 10,
   "metadata": {},
   "outputs": [
    {
     "name": "stdout",
     "output_type": "stream",
     "text": [
      "Python and Machine Learning\n"
     ]
    }
   ],
   "source": [
    "print(\"Python and Machine Learning\")"
   ]
  },
  {
   "cell_type": "code",
   "execution_count": 26,
   "metadata": {},
   "outputs": [
    {
     "name": "stdout",
     "output_type": "stream",
     "text": [
      "The value of a is 30 and b is 40\n",
      "The value of a is 30 and b is 40\n",
      "The value of c is 20.976500\n",
      "The value of c is 20.977\n",
      "The value of c is 20.98\n",
      "The value of d is Python and ML\n",
      "30 40 20.9765 Python and ML\n",
      "A is  30 . B is  40\n",
      "40  is b\n"
     ]
    }
   ],
   "source": [
    "a = 30\n",
    "b = 40\n",
    "c = 20.9765\n",
    "d = \"Python and ML\"\n",
    "print(\"The value of a is {} and b is {}\".format(a, b))\n",
    "print(\"The value of a is %d and b is %d\"%(a, b))\n",
    "print(\"The value of c is %f\"%(c))\n",
    "print(\"The value of c is %.3f\"%(c))\n",
    "print(\"The value of c is %.2f\"%(c))\n",
    "print(\"The value of d is %s\"%d)\n",
    "# print(\"The value \"of\" d is %s\"%d)\n",
    "print(a, b, c, d)\n",
    "print(\"A is \", a, \". B is \", b)"
   ]
  },
  {
   "cell_type": "code",
   "execution_count": null,
   "metadata": {},
   "outputs": [],
   "source": []
  }
 ],
 "metadata": {
  "kernelspec": {
   "display_name": "Python 3",
   "language": "python",
   "name": "python3"
  },
  "language_info": {
   "codemirror_mode": {
    "name": "ipython",
    "version": 3
   },
   "file_extension": ".py",
   "mimetype": "text/x-python",
   "name": "python",
   "nbconvert_exporter": "python",
   "pygments_lexer": "ipython3",
   "version": "3.6.4"
  }
 },
 "nbformat": 4,
 "nbformat_minor": 2
}
