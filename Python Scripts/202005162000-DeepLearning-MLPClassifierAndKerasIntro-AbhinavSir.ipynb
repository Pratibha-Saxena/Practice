{
 "cells": [
  {
   "cell_type": "code",
   "execution_count": 1,
   "metadata": {},
   "outputs": [
    {
     "data": {
      "text/html": [
       "<div>\n",
       "<style scoped>\n",
       "    .dataframe tbody tr th:only-of-type {\n",
       "        vertical-align: middle;\n",
       "    }\n",
       "\n",
       "    .dataframe tbody tr th {\n",
       "        vertical-align: top;\n",
       "    }\n",
       "\n",
       "    .dataframe thead th {\n",
       "        text-align: right;\n",
       "    }\n",
       "</style>\n",
       "<table border=\"1\" class=\"dataframe\">\n",
       "  <thead>\n",
       "    <tr style=\"text-align: right;\">\n",
       "      <th></th>\n",
       "      <th>Unnamed: 0</th>\n",
       "      <th>Sepal.Length</th>\n",
       "      <th>Sepal.Width</th>\n",
       "      <th>Petal.Length</th>\n",
       "      <th>Petal.Width</th>\n",
       "      <th>Species</th>\n",
       "    </tr>\n",
       "  </thead>\n",
       "  <tbody>\n",
       "    <tr>\n",
       "      <th>0</th>\n",
       "      <td>1</td>\n",
       "      <td>5.1</td>\n",
       "      <td>3.5</td>\n",
       "      <td>1.4</td>\n",
       "      <td>0.2</td>\n",
       "      <td>setosa</td>\n",
       "    </tr>\n",
       "    <tr>\n",
       "      <th>1</th>\n",
       "      <td>2</td>\n",
       "      <td>4.9</td>\n",
       "      <td>3.0</td>\n",
       "      <td>1.4</td>\n",
       "      <td>0.2</td>\n",
       "      <td>setosa</td>\n",
       "    </tr>\n",
       "    <tr>\n",
       "      <th>2</th>\n",
       "      <td>3</td>\n",
       "      <td>4.7</td>\n",
       "      <td>3.2</td>\n",
       "      <td>1.3</td>\n",
       "      <td>0.2</td>\n",
       "      <td>setosa</td>\n",
       "    </tr>\n",
       "    <tr>\n",
       "      <th>3</th>\n",
       "      <td>4</td>\n",
       "      <td>4.6</td>\n",
       "      <td>3.1</td>\n",
       "      <td>1.5</td>\n",
       "      <td>0.2</td>\n",
       "      <td>setosa</td>\n",
       "    </tr>\n",
       "    <tr>\n",
       "      <th>4</th>\n",
       "      <td>5</td>\n",
       "      <td>5.0</td>\n",
       "      <td>3.6</td>\n",
       "      <td>1.4</td>\n",
       "      <td>0.2</td>\n",
       "      <td>setosa</td>\n",
       "    </tr>\n",
       "  </tbody>\n",
       "</table>\n",
       "</div>"
      ],
      "text/plain": [
       "   Unnamed: 0  Sepal.Length  Sepal.Width  Petal.Length  Petal.Width Species\n",
       "0           1           5.1          3.5           1.4          0.2  setosa\n",
       "1           2           4.9          3.0           1.4          0.2  setosa\n",
       "2           3           4.7          3.2           1.3          0.2  setosa\n",
       "3           4           4.6          3.1           1.5          0.2  setosa\n",
       "4           5           5.0          3.6           1.4          0.2  setosa"
      ]
     },
     "execution_count": 1,
     "metadata": {},
     "output_type": "execute_result"
    }
   ],
   "source": [
    "import pandas as pd\n",
    "iris = pd.read_csv(\"C:/Users/Admin/Documents/Datasets/iris.csv\")\n",
    "iris.head()"
   ]
  },
  {
   "cell_type": "code",
   "execution_count": 2,
   "metadata": {},
   "outputs": [],
   "source": [
    "import numpy as np\n",
    "iris.Species = iris.Species.astype(\"category\")\n",
    "iris[\"Species1\"] = np.repeat([0, 1, 2], 50) # for first 50 observations = 0; for next 50 = 1; for last 50 = 2"
   ]
  },
  {
   "cell_type": "code",
   "execution_count": 3,
   "metadata": {},
   "outputs": [
    {
     "data": {
      "text/html": [
       "<div>\n",
       "<style scoped>\n",
       "    .dataframe tbody tr th:only-of-type {\n",
       "        vertical-align: middle;\n",
       "    }\n",
       "\n",
       "    .dataframe tbody tr th {\n",
       "        vertical-align: top;\n",
       "    }\n",
       "\n",
       "    .dataframe thead th {\n",
       "        text-align: right;\n",
       "    }\n",
       "</style>\n",
       "<table border=\"1\" class=\"dataframe\">\n",
       "  <thead>\n",
       "    <tr style=\"text-align: right;\">\n",
       "      <th></th>\n",
       "      <th>Unnamed: 0</th>\n",
       "      <th>Sepal.Length</th>\n",
       "      <th>Sepal.Width</th>\n",
       "      <th>Petal.Length</th>\n",
       "      <th>Petal.Width</th>\n",
       "      <th>Species</th>\n",
       "      <th>Species1</th>\n",
       "    </tr>\n",
       "  </thead>\n",
       "  <tbody>\n",
       "    <tr>\n",
       "      <th>0</th>\n",
       "      <td>1</td>\n",
       "      <td>5.1</td>\n",
       "      <td>3.5</td>\n",
       "      <td>1.4</td>\n",
       "      <td>0.2</td>\n",
       "      <td>setosa</td>\n",
       "      <td>0</td>\n",
       "    </tr>\n",
       "    <tr>\n",
       "      <th>1</th>\n",
       "      <td>2</td>\n",
       "      <td>4.9</td>\n",
       "      <td>3.0</td>\n",
       "      <td>1.4</td>\n",
       "      <td>0.2</td>\n",
       "      <td>setosa</td>\n",
       "      <td>0</td>\n",
       "    </tr>\n",
       "    <tr>\n",
       "      <th>2</th>\n",
       "      <td>3</td>\n",
       "      <td>4.7</td>\n",
       "      <td>3.2</td>\n",
       "      <td>1.3</td>\n",
       "      <td>0.2</td>\n",
       "      <td>setosa</td>\n",
       "      <td>0</td>\n",
       "    </tr>\n",
       "    <tr>\n",
       "      <th>3</th>\n",
       "      <td>4</td>\n",
       "      <td>4.6</td>\n",
       "      <td>3.1</td>\n",
       "      <td>1.5</td>\n",
       "      <td>0.2</td>\n",
       "      <td>setosa</td>\n",
       "      <td>0</td>\n",
       "    </tr>\n",
       "    <tr>\n",
       "      <th>4</th>\n",
       "      <td>5</td>\n",
       "      <td>5.0</td>\n",
       "      <td>3.6</td>\n",
       "      <td>1.4</td>\n",
       "      <td>0.2</td>\n",
       "      <td>setosa</td>\n",
       "      <td>0</td>\n",
       "    </tr>\n",
       "  </tbody>\n",
       "</table>\n",
       "</div>"
      ],
      "text/plain": [
       "   Unnamed: 0  Sepal.Length  Sepal.Width  Petal.Length  Petal.Width Species  \\\n",
       "0           1           5.1          3.5           1.4          0.2  setosa   \n",
       "1           2           4.9          3.0           1.4          0.2  setosa   \n",
       "2           3           4.7          3.2           1.3          0.2  setosa   \n",
       "3           4           4.6          3.1           1.5          0.2  setosa   \n",
       "4           5           5.0          3.6           1.4          0.2  setosa   \n",
       "\n",
       "   Species1  \n",
       "0         0  \n",
       "1         0  \n",
       "2         0  \n",
       "3         0  \n",
       "4         0  "
      ]
     },
     "execution_count": 3,
     "metadata": {},
     "output_type": "execute_result"
    }
   ],
   "source": [
    "iris.head()"
   ]
  },
  {
   "cell_type": "code",
   "execution_count": 16,
   "metadata": {},
   "outputs": [
    {
     "name": "stdout",
     "output_type": "stream",
     "text": [
      "   Unnamed: 0  Sepal.Length  Sepal.Width  Petal.Length\n",
      "0           1           5.1          3.5           1.4\n",
      "1           2           4.9          3.0           1.4\n",
      "2           3           4.7          3.2           1.3\n",
      "3           4           4.6          3.1           1.5\n",
      "4           5           5.0          3.6           1.4\n",
      "145    2\n",
      "146    2\n",
      "147    2\n",
      "148    2\n",
      "149    2\n",
      "Name: Species1, dtype: int32\n"
     ]
    }
   ],
   "source": [
    "X = iris.iloc[:, :4]\n",
    "y = iris.iloc[:, -1]\n",
    "print(X.head())\n",
    "print(y.tail())"
   ]
  },
  {
   "cell_type": "code",
   "execution_count": 5,
   "metadata": {},
   "outputs": [],
   "source": [
    "from sklearn.model_selection import train_test_split\n",
    "X_train, X_test, y_train, y_test = train_test_split(X, y, random_state=0)"
   ]
  },
  {
   "cell_type": "code",
   "execution_count": 9,
   "metadata": {},
   "outputs": [],
   "source": [
    "# import Neural Network libraries (MLP - MultiLayerPerceptron)\n",
    "from sklearn.neural_network import MLPClassifier\n",
    "# from sklearn.metrics import "
   ]
  },
  {
   "cell_type": "code",
   "execution_count": 19,
   "metadata": {},
   "outputs": [],
   "source": [
    "# Classification\n",
    "# activation: 'logistic', 'tanh', 'relu', 'identity'(f(x)=x  sometimes we need it, but, mostly not)\n",
    "nnclf = MLPClassifier(solver=\"sgd\", activation=\"logistic\",\n",
    "                     hidden_layer_sizes=(5),\n",
    "                     learning_rate_init=0.05,\n",
    "                     max_iter=2000,\n",
    "                     random_state=0).fit(X_train, y_train)\n"
   ]
  },
  {
   "cell_type": "code",
   "execution_count": 20,
   "metadata": {},
   "outputs": [
    {
     "name": "stdout",
     "output_type": "stream",
     "text": [
      "Iris Data Set\n",
      "Accuracy of NN classifier on train set: 0.429\n",
      "Accuracy of NN classifier on test set: 0.289\n"
     ]
    }
   ],
   "source": [
    "print(\"Iris Data Set\")\n",
    "print(\"Accuracy of NN classifier on train set: {:.3f}\".format(nnclf.score(X_train, y_train)))\n",
    "print(\"Accuracy of NN classifier on test set: {:.3f}\".format(nnclf.score(X_test, y_test)))"
   ]
  },
  {
   "cell_type": "code",
   "execution_count": 21,
   "metadata": {
    "scrolled": true
   },
   "outputs": [
    {
     "name": "stdout",
     "output_type": "stream",
     "text": [
      "[[0.31493471 0.31382249 0.37124279]\n",
      " [0.31551861 0.31354139 0.37094   ]\n",
      " [0.31588612 0.31339164 0.37072224]\n",
      " [0.31449919 0.31403438 0.37146644]\n",
      " [0.41713686 0.24224624 0.3406169 ]\n",
      " [0.31462119 0.31397503 0.37140378]\n",
      " [0.31676692 0.31294841 0.37028467]\n",
      " [0.31477753 0.31389903 0.37132343]\n",
      " [0.31482243 0.31387748 0.37130009]\n",
      " [0.31520645 0.31369093 0.37110262]\n",
      " [0.31477987 0.31389782 0.37132231]\n",
      " [0.31493319 0.31383296 0.37123385]\n",
      " [0.31503382 0.31377488 0.3711913 ]\n",
      " [0.31498472 0.31380593 0.37120935]\n",
      " [0.31503119 0.31377789 0.37119092]\n",
      " [0.31672725 0.31297674 0.37029601]\n",
      " [0.31506596 0.31375892 0.37117512]\n",
      " [0.31533684 0.31362694 0.37103622]\n",
      " [0.31732654 0.3126705  0.37000296]\n",
      " [0.31845216 0.3117948  0.36975305]\n",
      " [0.31501431 0.31378377 0.37120192]\n",
      " [0.31520452 0.31369273 0.37110275]\n",
      " [0.31671552 0.31315994 0.37012454]\n",
      " [0.36616094 0.27779486 0.3560442 ]\n",
      " [0.31486034 0.31385867 0.37128099]\n",
      " [0.31740881 0.3127978  0.36979339]\n",
      " [0.31610351 0.31326423 0.37063227]\n",
      " [0.31499818 0.31379163 0.37121019]\n",
      " [0.31617395 0.31321978 0.37060627]\n",
      " [0.31672923 0.3130866  0.37018417]\n",
      " [0.31464124 0.31396526 0.3713935 ]\n",
      " [0.31522004 0.31368382 0.37109614]\n",
      " [0.31653715 0.31315023 0.37031262]\n",
      " [0.31481995 0.31387832 0.37130173]\n",
      " [0.31468622 0.31394337 0.3713704 ]\n",
      " [0.31573229 0.31343845 0.37082926]\n",
      " [0.31658684 0.3131123  0.37030086]\n",
      " [0.31498126 0.31380003 0.37121871]]\n",
      "[2 2 2 2 0 2 2 2 2 2 2 2 2 2 2 2 2 2 2 2 2 2 2 0 2 2 2 2 2 2 2 2 2 2 2 2 2\n",
      " 2]\n"
     ]
    }
   ],
   "source": [
    "print(nnclf.predict_proba(X_test))\n",
    "print(nnclf.predict(X_test))"
   ]
  },
  {
   "cell_type": "code",
   "execution_count": 22,
   "metadata": {
    "scrolled": true
   },
   "outputs": [
    {
     "name": "stdout",
     "output_type": "stream",
     "text": [
      "Classes for y:  [0 1 2]\n",
      "Activation function at output layer:  softmax\n",
      "Number of Layers:  3\n",
      "Number of Outputs:  3\n",
      "Number of iterations for convergence:  37\n",
      "\n",
      "Weights matrix:\n",
      " [array([[-0.52998925,  0.36111599,  0.18796543,  0.00311888, -0.13948093],\n",
      "       [ 0.44673126,  0.07644852,  0.42740621,  0.35455554, -0.15755169],\n",
      "       [ 0.52004205,  0.11969676,  0.1036916 ,  0.33844122, -0.43805413],\n",
      "       [-0.36014659, -0.41289383,  0.33042912,  0.25379574,  0.33733733]]), array([[ 0.76893892, -0.4769718 , -0.06402685],\n",
      "       [-0.0612938 , -0.05300824, -0.18462821],\n",
      "       [ 0.35106413, -0.07039123,  0.01814119],\n",
      "       [-0.40492702,  0.08538132,  0.06806998],\n",
      "       [ 0.20906486,  0.41012578,  0.1233021 ]])]\n",
      "\n",
      "Biases:\n",
      " [array([ 0.51745775,  0.3094561 , -0.02450144,  0.24647198, -0.36974329]), array([-0.02666635, -0.10373138,  0.12456878])]\n"
     ]
    }
   ],
   "source": [
    "print(\"Classes for y: \", nnclf.classes_)\n",
    "print(\"Activation function at output layer: \", nnclf.out_activation_)\n",
    "print(\"Number of Layers: \", nnclf.n_layers_)\n",
    "print(\"Number of Outputs: \", nnclf.n_outputs_)\n",
    "print(\"Number of iterations for convergence: \", nnclf.n_iter_)\n",
    "print(\"\\nWeights matrix:\\n\", nnclf.coefs_)\n",
    "print(\"\\nBiases:\\n\", nnclf.intercepts_)"
   ]
  },
  {
   "cell_type": "code",
   "execution_count": 31,
   "metadata": {},
   "outputs": [],
   "source": [
    "# keras"
   ]
  },
  {
   "cell_type": "code",
   "execution_count": 32,
   "metadata": {},
   "outputs": [],
   "source": [
    "# Keras is built in Python and on top of TensorFlow 2.0\n",
    "# Keras is a neural network library while \n",
    "# TensorFlow is the open source library for a number of tasks in machine learning.\n",
    "# Both frameworks provide high-level APIs for building and training models with ease."
   ]
  },
  {
   "cell_type": "code",
   "execution_count": 33,
   "metadata": {},
   "outputs": [],
   "source": [
    "import tensorflow as tf\n",
    "import keras"
   ]
  },
  {
   "cell_type": "code",
   "execution_count": 34,
   "metadata": {},
   "outputs": [],
   "source": [
    "# Creating MLP in Keras\n",
    "# Sequential function groups a linear stack of Layers into a keras model\n",
    "# Sequential model provides training and inference features onthis model\n",
    "from keras import Sequential\n",
    "# A dense layer is just a regular layer of neurons in a neural network.\n",
    "# Each neuron receives input from all the neurons in the previous layer,\n",
    "# thus, densely connected.\n",
    "from keras.layers import Dense"
   ]
  },
  {
   "cell_type": "code",
   "execution_count": 35,
   "metadata": {},
   "outputs": [],
   "source": [
    "# create model\n",
    "model= Sequential()"
   ]
  },
  {
   "cell_type": "code",
   "execution_count": 36,
   "metadata": {},
   "outputs": [],
   "source": [
    "# In first Dense layer, the dimension of input layer can be given\n",
    "model.add(Dense(6, input_dim=4, activation='sigmoid', name='HL1'))\n",
    "model.add(Dense(3, activation='relu', name='HL2'))\n",
    "model.add(Dense(3, activation='softmax', name='OL'))"
   ]
  },
  {
   "cell_type": "code",
   "execution_count": 37,
   "metadata": {},
   "outputs": [
    {
     "name": "stdout",
     "output_type": "stream",
     "text": [
      "[[array([[-0.10976148, -0.724444  , -0.65626395,  0.03619325, -0.65522605,\n",
      "        -0.1286413 ],\n",
      "       [ 0.17736149,  0.43961787,  0.24760103,  0.6833154 , -0.5694884 ,\n",
      "        -0.05032927],\n",
      "       [ 0.7553977 ,  0.49032164, -0.15084296, -0.49373895, -0.06490886,\n",
      "        -0.58194923],\n",
      "       [-0.04479241, -0.69237113,  0.51764345,  0.35794258, -0.16833794,\n",
      "        -0.1721471 ]], dtype=float32), array([0., 0., 0., 0., 0., 0.], dtype=float32)], [array([[ 0.74488175, -0.54191613, -0.5168633 ],\n",
      "       [ 0.5770873 , -0.7906784 ,  0.7854657 ],\n",
      "       [-0.07608813,  0.16662508,  0.24417436],\n",
      "       [-0.26737082, -0.01518101, -0.74629897],\n",
      "       [-0.47043985, -0.811698  ,  0.08906704],\n",
      "       [-0.28696412,  0.44837713, -0.6783608 ]], dtype=float32), array([0., 0., 0.], dtype=float32)], [array([[ 0.9990339 , -0.7179899 , -0.3273058 ],\n",
      "       [-0.08639574,  0.4291401 , -0.8756099 ],\n",
      "       [ 0.6613624 ,  0.17456937, -0.8141086 ]], dtype=float32), array([0., 0., 0.], dtype=float32)]]\n"
     ]
    }
   ],
   "source": [
    "# initialized weights\n",
    "print([layer.get_weights() for layer in model.layers])\n",
    "# print(model.weights)"
   ]
  },
  {
   "cell_type": "code",
   "execution_count": 38,
   "metadata": {},
   "outputs": [
    {
     "name": "stdout",
     "output_type": "stream",
     "text": [
      "Input layer shape:  (None, 4)\n",
      "Output layer shape:  (None, 3)\n"
     ]
    }
   ],
   "source": [
    "print(\"Input layer shape: \", model.input_shape)\n",
    "print(\"Output layer shape: \", model.output_shape)"
   ]
  },
  {
   "cell_type": "code",
   "execution_count": 39,
   "metadata": {},
   "outputs": [],
   "source": [
    "from keras import metrics\n",
    "from keras.metrics import Precision, Recall, AUC"
   ]
  },
  {
   "cell_type": "code",
   "execution_count": 40,
   "metadata": {
    "scrolled": true
   },
   "outputs": [],
   "source": [
    "# Compile model\n",
    "# Compile defines the loss function, the optimizer and the metrics\n",
    "# You need a compiled model to train because training uses the loss function and optimizer\n",
    "# model.compile(loss='mse', optimizer='sgd',\n",
    "#              metrics=['accuracy', AUC, Precision, Recall])\n",
    "\n",
    "model.compile(loss='mse', optimizer='sgd',\n",
    "              metrics=['accuracy', tf.keras.metrics.AUC(), tf.keras.metrics.Precision(),\n",
    "                      tf.keras.metrics.Recall()])"
   ]
  },
  {
   "cell_type": "code",
   "execution_count": null,
   "metadata": {},
   "outputs": [],
   "source": []
  }
 ],
 "metadata": {
  "kernelspec": {
   "display_name": "Python 3",
   "language": "python",
   "name": "python3"
  },
  "language_info": {
   "codemirror_mode": {
    "name": "ipython",
    "version": 3
   },
   "file_extension": ".py",
   "mimetype": "text/x-python",
   "name": "python",
   "nbconvert_exporter": "python",
   "pygments_lexer": "ipython3",
   "version": "3.7.1"
  }
 },
 "nbformat": 4,
 "nbformat_minor": 2
}
