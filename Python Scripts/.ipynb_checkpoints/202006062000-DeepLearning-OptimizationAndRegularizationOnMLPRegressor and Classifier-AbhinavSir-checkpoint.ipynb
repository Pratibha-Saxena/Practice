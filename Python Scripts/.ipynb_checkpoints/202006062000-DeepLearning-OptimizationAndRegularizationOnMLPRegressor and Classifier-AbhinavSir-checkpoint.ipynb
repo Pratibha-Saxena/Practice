{
 "cells": [
  {
   "cell_type": "code",
   "execution_count": 1,
   "metadata": {},
   "outputs": [],
   "source": [
    "# import libraries\n",
    "import pandas as pd\n",
    "import numpy as np\n",
    "\n",
    "import matplotlib as mpl\n",
    "import matplotlib.pyplot as plt\n",
    "%matplotlib notebook"
   ]
  },
  {
   "cell_type": "code",
   "execution_count": 2,
   "metadata": {},
   "outputs": [
    {
     "data": {
      "text/html": [
       "<div>\n",
       "<style scoped>\n",
       "    .dataframe tbody tr th:only-of-type {\n",
       "        vertical-align: middle;\n",
       "    }\n",
       "\n",
       "    .dataframe tbody tr th {\n",
       "        vertical-align: top;\n",
       "    }\n",
       "\n",
       "    .dataframe thead th {\n",
       "        text-align: right;\n",
       "    }\n",
       "</style>\n",
       "<table border=\"1\" class=\"dataframe\">\n",
       "  <thead>\n",
       "    <tr style=\"text-align: right;\">\n",
       "      <th></th>\n",
       "      <th>Unnamed: 0</th>\n",
       "      <th>Sepal.Length</th>\n",
       "      <th>Sepal.Width</th>\n",
       "      <th>Petal.Length</th>\n",
       "      <th>Petal.Width</th>\n",
       "      <th>Species</th>\n",
       "    </tr>\n",
       "  </thead>\n",
       "  <tbody>\n",
       "    <tr>\n",
       "      <th>0</th>\n",
       "      <td>1</td>\n",
       "      <td>5.1</td>\n",
       "      <td>3.5</td>\n",
       "      <td>1.4</td>\n",
       "      <td>0.2</td>\n",
       "      <td>setosa</td>\n",
       "    </tr>\n",
       "    <tr>\n",
       "      <th>1</th>\n",
       "      <td>2</td>\n",
       "      <td>4.9</td>\n",
       "      <td>3.0</td>\n",
       "      <td>1.4</td>\n",
       "      <td>0.2</td>\n",
       "      <td>setosa</td>\n",
       "    </tr>\n",
       "    <tr>\n",
       "      <th>2</th>\n",
       "      <td>3</td>\n",
       "      <td>4.7</td>\n",
       "      <td>3.2</td>\n",
       "      <td>1.3</td>\n",
       "      <td>0.2</td>\n",
       "      <td>setosa</td>\n",
       "    </tr>\n",
       "    <tr>\n",
       "      <th>3</th>\n",
       "      <td>4</td>\n",
       "      <td>4.6</td>\n",
       "      <td>3.1</td>\n",
       "      <td>1.5</td>\n",
       "      <td>0.2</td>\n",
       "      <td>setosa</td>\n",
       "    </tr>\n",
       "    <tr>\n",
       "      <th>4</th>\n",
       "      <td>5</td>\n",
       "      <td>5.0</td>\n",
       "      <td>3.6</td>\n",
       "      <td>1.4</td>\n",
       "      <td>0.2</td>\n",
       "      <td>setosa</td>\n",
       "    </tr>\n",
       "  </tbody>\n",
       "</table>\n",
       "</div>"
      ],
      "text/plain": [
       "   Unnamed: 0  Sepal.Length  Sepal.Width  Petal.Length  Petal.Width Species\n",
       "0           1           5.1          3.5           1.4          0.2  setosa\n",
       "1           2           4.9          3.0           1.4          0.2  setosa\n",
       "2           3           4.7          3.2           1.3          0.2  setosa\n",
       "3           4           4.6          3.1           1.5          0.2  setosa\n",
       "4           5           5.0          3.6           1.4          0.2  setosa"
      ]
     },
     "execution_count": 2,
     "metadata": {},
     "output_type": "execute_result"
    }
   ],
   "source": [
    "# prepare data\n",
    "# IRIS dataset\n",
    "iris = pd.read_csv(\"C:/Users/Admin/Documents/Datasets/iris.csv\")\n",
    "iris.head()"
   ]
  },
  {
   "cell_type": "code",
   "execution_count": 3,
   "metadata": {},
   "outputs": [],
   "source": [
    "iris[\"Species\"] = iris[\"Species\"].astype('category')\n",
    "iris[\"Species1\"] = np.repeat([0, 1, 2], 50)"
   ]
  },
  {
   "cell_type": "code",
   "execution_count": 4,
   "metadata": {},
   "outputs": [
    {
     "data": {
      "text/html": [
       "<div>\n",
       "<style scoped>\n",
       "    .dataframe tbody tr th:only-of-type {\n",
       "        vertical-align: middle;\n",
       "    }\n",
       "\n",
       "    .dataframe tbody tr th {\n",
       "        vertical-align: top;\n",
       "    }\n",
       "\n",
       "    .dataframe thead th {\n",
       "        text-align: right;\n",
       "    }\n",
       "</style>\n",
       "<table border=\"1\" class=\"dataframe\">\n",
       "  <thead>\n",
       "    <tr style=\"text-align: right;\">\n",
       "      <th></th>\n",
       "      <th>Unnamed: 0</th>\n",
       "      <th>Sepal.Length</th>\n",
       "      <th>Sepal.Width</th>\n",
       "      <th>Petal.Length</th>\n",
       "      <th>Petal.Width</th>\n",
       "      <th>Species</th>\n",
       "      <th>Species1</th>\n",
       "    </tr>\n",
       "  </thead>\n",
       "  <tbody>\n",
       "    <tr>\n",
       "      <th>0</th>\n",
       "      <td>1</td>\n",
       "      <td>5.1</td>\n",
       "      <td>3.5</td>\n",
       "      <td>1.4</td>\n",
       "      <td>0.2</td>\n",
       "      <td>setosa</td>\n",
       "      <td>0</td>\n",
       "    </tr>\n",
       "    <tr>\n",
       "      <th>1</th>\n",
       "      <td>2</td>\n",
       "      <td>4.9</td>\n",
       "      <td>3.0</td>\n",
       "      <td>1.4</td>\n",
       "      <td>0.2</td>\n",
       "      <td>setosa</td>\n",
       "      <td>0</td>\n",
       "    </tr>\n",
       "    <tr>\n",
       "      <th>2</th>\n",
       "      <td>3</td>\n",
       "      <td>4.7</td>\n",
       "      <td>3.2</td>\n",
       "      <td>1.3</td>\n",
       "      <td>0.2</td>\n",
       "      <td>setosa</td>\n",
       "      <td>0</td>\n",
       "    </tr>\n",
       "    <tr>\n",
       "      <th>3</th>\n",
       "      <td>4</td>\n",
       "      <td>4.6</td>\n",
       "      <td>3.1</td>\n",
       "      <td>1.5</td>\n",
       "      <td>0.2</td>\n",
       "      <td>setosa</td>\n",
       "      <td>0</td>\n",
       "    </tr>\n",
       "    <tr>\n",
       "      <th>4</th>\n",
       "      <td>5</td>\n",
       "      <td>5.0</td>\n",
       "      <td>3.6</td>\n",
       "      <td>1.4</td>\n",
       "      <td>0.2</td>\n",
       "      <td>setosa</td>\n",
       "      <td>0</td>\n",
       "    </tr>\n",
       "  </tbody>\n",
       "</table>\n",
       "</div>"
      ],
      "text/plain": [
       "   Unnamed: 0  Sepal.Length  Sepal.Width  Petal.Length  Petal.Width Species  \\\n",
       "0           1           5.1          3.5           1.4          0.2  setosa   \n",
       "1           2           4.9          3.0           1.4          0.2  setosa   \n",
       "2           3           4.7          3.2           1.3          0.2  setosa   \n",
       "3           4           4.6          3.1           1.5          0.2  setosa   \n",
       "4           5           5.0          3.6           1.4          0.2  setosa   \n",
       "\n",
       "   Species1  \n",
       "0         0  \n",
       "1         0  \n",
       "2         0  \n",
       "3         0  \n",
       "4         0  "
      ]
     },
     "execution_count": 4,
     "metadata": {},
     "output_type": "execute_result"
    }
   ],
   "source": [
    "iris.head()"
   ]
  },
  {
   "cell_type": "code",
   "execution_count": 5,
   "metadata": {},
   "outputs": [
    {
     "data": {
      "text/html": [
       "<div>\n",
       "<style scoped>\n",
       "    .dataframe tbody tr th:only-of-type {\n",
       "        vertical-align: middle;\n",
       "    }\n",
       "\n",
       "    .dataframe tbody tr th {\n",
       "        vertical-align: top;\n",
       "    }\n",
       "\n",
       "    .dataframe thead th {\n",
       "        text-align: right;\n",
       "    }\n",
       "</style>\n",
       "<table border=\"1\" class=\"dataframe\">\n",
       "  <thead>\n",
       "    <tr style=\"text-align: right;\">\n",
       "      <th></th>\n",
       "      <th>Sepal.Length</th>\n",
       "      <th>Sepal.Width</th>\n",
       "      <th>Petal.Length</th>\n",
       "      <th>Petal.Width</th>\n",
       "    </tr>\n",
       "  </thead>\n",
       "  <tbody>\n",
       "    <tr>\n",
       "      <th>0</th>\n",
       "      <td>5.1</td>\n",
       "      <td>3.5</td>\n",
       "      <td>1.4</td>\n",
       "      <td>0.2</td>\n",
       "    </tr>\n",
       "    <tr>\n",
       "      <th>1</th>\n",
       "      <td>4.9</td>\n",
       "      <td>3.0</td>\n",
       "      <td>1.4</td>\n",
       "      <td>0.2</td>\n",
       "    </tr>\n",
       "    <tr>\n",
       "      <th>2</th>\n",
       "      <td>4.7</td>\n",
       "      <td>3.2</td>\n",
       "      <td>1.3</td>\n",
       "      <td>0.2</td>\n",
       "    </tr>\n",
       "    <tr>\n",
       "      <th>3</th>\n",
       "      <td>4.6</td>\n",
       "      <td>3.1</td>\n",
       "      <td>1.5</td>\n",
       "      <td>0.2</td>\n",
       "    </tr>\n",
       "    <tr>\n",
       "      <th>4</th>\n",
       "      <td>5.0</td>\n",
       "      <td>3.6</td>\n",
       "      <td>1.4</td>\n",
       "      <td>0.2</td>\n",
       "    </tr>\n",
       "  </tbody>\n",
       "</table>\n",
       "</div>"
      ],
      "text/plain": [
       "   Sepal.Length  Sepal.Width  Petal.Length  Petal.Width\n",
       "0           5.1          3.5           1.4          0.2\n",
       "1           4.9          3.0           1.4          0.2\n",
       "2           4.7          3.2           1.3          0.2\n",
       "3           4.6          3.1           1.5          0.2\n",
       "4           5.0          3.6           1.4          0.2"
      ]
     },
     "metadata": {},
     "output_type": "display_data"
    },
    {
     "data": {
      "text/plain": [
       "0    0\n",
       "1    0\n",
       "2    0\n",
       "3    0\n",
       "4    0\n",
       "Name: Species1, dtype: int32"
      ]
     },
     "metadata": {},
     "output_type": "display_data"
    }
   ],
   "source": [
    "X = iris.iloc[:, 1:5]\n",
    "y = iris.iloc[:, -1]\n",
    "X.head()\n",
    "y.value_counts()\n",
    "display(X.head())\n",
    "display(y.head())"
   ]
  },
  {
   "cell_type": "code",
   "execution_count": 6,
   "metadata": {},
   "outputs": [],
   "source": [
    "from sklearn.model_selection import train_test_split\n",
    "X_train, X_test, y_train, y_test = train_test_split(X, y, random_state=0)"
   ]
  },
  {
   "cell_type": "code",
   "execution_count": 7,
   "metadata": {},
   "outputs": [
    {
     "name": "stdout",
     "output_type": "stream",
     "text": [
      "(112, 4)\n",
      "(38, 4)\n",
      "(112,)\n",
      "(38,)\n"
     ]
    }
   ],
   "source": [
    "print(X_train.shape)\n",
    "print(X_test.shape)\n",
    "print(y_train.shape)\n",
    "print(y_test.shape)"
   ]
  },
  {
   "cell_type": "code",
   "execution_count": 8,
   "metadata": {},
   "outputs": [],
   "source": [
    "# import Neural Network libraries (MLP - Multilayer Perceptron)\n",
    "from sklearn.neural_network import MLPClassifier\n",
    "from sklearn.neural_network import MLPRegressor"
   ]
  },
  {
   "cell_type": "markdown",
   "metadata": {},
   "source": [
    "# Classification"
   ]
  },
  {
   "cell_type": "code",
   "execution_count": 9,
   "metadata": {},
   "outputs": [
    {
     "data": {
      "text/plain": [
       "MLPClassifier(activation='relu', alpha=0.0001, batch_size='auto', beta_1=0.9,\n",
       "              beta_2=0.999, early_stopping=False, epsilon=1e-08,\n",
       "              hidden_layer_sizes=3, learning_rate='constant',\n",
       "              learning_rate_init=0.05, max_fun=15000, max_iter=2000,\n",
       "              momentum=0.9, n_iter_no_change=10, nesterovs_momentum=True,\n",
       "              power_t=0.5, random_state=0, shuffle=True, solver='sgd',\n",
       "              tol=0.0001, validation_fraction=0.1, verbose=False,\n",
       "              warm_start=False)"
      ]
     },
     "execution_count": 9,
     "metadata": {},
     "output_type": "execute_result"
    }
   ],
   "source": [
    "# Classification\n",
    "# activation: ('logistic', 'tanh', relu', 'identity')\n",
    "nnclf = MLPClassifier(solver=\"sgd\",\n",
    "                      activation=\"relu\",\n",
    "                      hidden_layer_sizes=(3),\n",
    "                      learning_rate_init=0.05,\n",
    "                      max_iter=2000,\n",
    "                      random_state=0)\n",
    "nnclf.fit(X_train, y_train)"
   ]
  },
  {
   "cell_type": "code",
   "execution_count": 10,
   "metadata": {},
   "outputs": [
    {
     "name": "stdout",
     "output_type": "stream",
     "text": [
      "Iris Data Set\n",
      "weights:  [array([[-2.21896815, -0.83568675,  1.65798896],\n",
      "       [-1.20674166, -0.82277975,  1.29044921],\n",
      "       [-1.32276958,  2.7286258 , -0.63830072],\n",
      "       [-0.54762772,  2.07041739, -1.03606595]]), array([[-0.72995593, -0.95016315,  0.56014762],\n",
      "       [-1.51411114,  0.56587431,  3.20162329],\n",
      "       [ 1.55795984,  0.92526314, -1.40097908]])]\n",
      "biases:  [array([-0.29514534,  0.01990348, -0.08132995]), array([ 0.20917371,  0.76422842, -2.17030465])]\n"
     ]
    }
   ],
   "source": [
    "print(\"Iris Data Set\")\n",
    "print(\"weights: \", nnclf.coefs_)\n",
    "print(\"biases: \", nnclf.intercepts_)"
   ]
  },
  {
   "cell_type": "code",
   "execution_count": 11,
   "metadata": {},
   "outputs": [
    {
     "name": "stdout",
     "output_type": "stream",
     "text": [
      "Accuracy of NN Classifier on training set: 0.982\n",
      "Accuracy of NN Classifier on test set: 0.974\n"
     ]
    }
   ],
   "source": [
    "print(\"Accuracy of NN Classifier on training set: {:.3f}\".format(nnclf.score(X_train, y_train)))\n",
    "print(\"Accuracy of NN Classifier on test set: {:.3f}\".format(nnclf.score(X_test, y_test)))"
   ]
  },
  {
   "cell_type": "code",
   "execution_count": 12,
   "metadata": {},
   "outputs": [
    {
     "name": "stdout",
     "output_type": "stream",
     "text": [
      "[[3.00805656e-14 2.00474379e-05 9.99979953e-01]\n",
      " [4.79105806e-04 9.99131804e-01 3.89090438e-04]\n",
      " [9.99627783e-01 3.72217053e-04 6.34533421e-19]\n",
      " [1.69086413e-12 1.00390660e-03 9.98996093e-01]\n",
      " [9.98742792e-01 1.25720836e-03 1.88811767e-16]]\n",
      "[2 1 0 2 0]\n",
      "114    2\n",
      "62     1\n",
      "33     0\n",
      "107    2\n",
      "7      0\n",
      "Name: Species1, dtype: int32\n"
     ]
    }
   ],
   "source": [
    "print(nnclf.predict_proba(X_test[:5]))\n",
    "print(nnclf.predict(X_test[:5]))\n",
    "print(y_test[:5])"
   ]
  },
  {
   "cell_type": "code",
   "execution_count": 13,
   "metadata": {},
   "outputs": [
    {
     "name": "stdout",
     "output_type": "stream",
     "text": [
      "Classes of y:  [0 1 2]\n",
      "Activation function at Output layer:  relu\n",
      "Number of Layers: 3\n",
      "Number of Outputs:  3\n",
      "Number of iteration for convergence:  195\n",
      "\n",
      "Weights matrix:\n",
      " [array([[-2.21896815, -0.83568675,  1.65798896],\n",
      "       [-1.20674166, -0.82277975,  1.29044921],\n",
      "       [-1.32276958,  2.7286258 , -0.63830072],\n",
      "       [-0.54762772,  2.07041739, -1.03606595]]), array([[-0.72995593, -0.95016315,  0.56014762],\n",
      "       [-1.51411114,  0.56587431,  3.20162329],\n",
      "       [ 1.55795984,  0.92526314, -1.40097908]])]\n",
      "\n",
      "Bias:\n",
      " [array([-0.29514534,  0.01990348, -0.08132995]), array([ 0.20917371,  0.76422842, -2.17030465])]\n"
     ]
    }
   ],
   "source": [
    "print(\"Classes of y: \", nnclf.classes_)\n",
    "print(\"Activation function at Output layer: \", nnclf.activation)\n",
    "print(\"Number of Layers:\", nnclf.n_layers_)\n",
    "print(\"Number of Outputs: \", nnclf.n_outputs_)\n",
    "print(\"Number of iteration for convergence: \", nnclf.n_iter_)\n",
    "print(\"\\nWeights matrix:\\n\", nnclf.coefs_)\n",
    "print(\"\\nBias:\\n\", nnclf.intercepts_)"
   ]
  },
  {
   "cell_type": "markdown",
   "metadata": {},
   "source": [
    "# Classification - Using Different Solvers"
   ]
  },
  {
   "cell_type": "code",
   "execution_count": 269,
   "metadata": {},
   "outputs": [
    {
     "data": {
      "text/plain": [
       "MLPClassifier(activation='logistic', alpha=0.0001, batch_size='auto',\n",
       "              beta_1=0.9, beta_2=0.999, early_stopping=False, epsilon=1e-08,\n",
       "              hidden_layer_sizes=(3, 3), learning_rate='constant',\n",
       "              learning_rate_init=0.05, max_fun=15000, max_iter=2000,\n",
       "              momentum=0.9, n_iter_no_change=10, nesterovs_momentum=True,\n",
       "              power_t=0.5, random_state=0, shuffle=True, solver='adam',\n",
       "              tol=0.0001, validation_fraction=0.1, verbose=False,\n",
       "              warm_start=False)"
      ]
     },
     "execution_count": 269,
     "metadata": {},
     "output_type": "execute_result"
    }
   ],
   "source": [
    "# Classification using different solvers\n",
    "# solver - The solver for weight optimization: {'lbfgs', 'sgd', 'adam'}, default 'adam'\n",
    "#        - 'lfbgs' is an optimizer in the family of quasi-Newton methods.\n",
    "#        - 'sgd' refers to stochastic gradient descent.\n",
    "#        - 'adam' refers to stochastic gradient descent based optimizer proposed\n",
    "\n",
    "# activation: {'logistic', 'tanh', 'relu', 'identity'}: Activation function for hidden layer\n",
    "nnclf = MLPClassifier(solver=\"adam\",\n",
    "                     activation=\"logistic\",\n",
    "                     hidden_layer_sizes=(3, 3),\n",
    "                     learning_rate_init=0.05,\n",
    "                     max_iter=2000,\n",
    "                     random_state=0)\n",
    "nnclf.fit(X_train, y_train)"
   ]
  },
  {
   "cell_type": "code",
   "execution_count": 270,
   "metadata": {},
   "outputs": [
    {
     "name": "stdout",
     "output_type": "stream",
     "text": [
      "Iris Data Set\n",
      "Accuracy of NN Classifier on training set: 1.000\n",
      "Accuracy of NN Classifier on test set: 0.974\n"
     ]
    },
    {
     "data": {
      "text/plain": [
       "262"
      ]
     },
     "execution_count": 270,
     "metadata": {},
     "output_type": "execute_result"
    }
   ],
   "source": [
    "print(\"Iris Data Set\")\n",
    "print(\"Accuracy of NN Classifier on training set: {:.3f}\".format(nnclf.score(X_train, y_train)))\n",
    "print(\"Accuracy of NN Classifier on test set: {:.3f}\".format(nnclf.score(X_test, y_test)))\n",
    "nnclf.n_iter_"
   ]
  },
  {
   "cell_type": "markdown",
   "metadata": {},
   "source": [
    "# Classification - Using Momentum"
   ]
  },
  {
   "cell_type": "code",
   "execution_count": 271,
   "metadata": {},
   "outputs": [
    {
     "data": {
      "text/plain": [
       "MLPClassifier(activation='logistic', alpha=0.0001, batch_size='auto',\n",
       "              beta_1=0.9, beta_2=0.999, early_stopping=False, epsilon=1e-08,\n",
       "              hidden_layer_sizes=3, learning_rate='constant',\n",
       "              learning_rate_init=0.5, max_fun=15000, max_iter=2000,\n",
       "              momentum=0.02, n_iter_no_change=10, nesterovs_momentum=True,\n",
       "              power_t=0.5, random_state=0, shuffle=True, solver='sgd',\n",
       "              tol=0.0001, validation_fraction=0.1, verbose=False,\n",
       "              warm_start=False)"
      ]
     },
     "execution_count": 271,
     "metadata": {},
     "output_type": "execute_result"
    }
   ],
   "source": [
    "# momentum: Momentum for gradient descent update. Should be between 0 and 1: float, default: 0.9\n",
    "# Only used when solver='sgd'\n",
    "# activation: {'logistic', 'tanh', 'relu', 'identity'}: Activation function for hidden layer\n",
    "\n",
    "nnclf = MLPClassifier(solver=\"sgd\",\n",
    "                     momentum=0.02,\n",
    "                     activation=\"logistic\",\n",
    "                     hidden_layer_sizes=(3),\n",
    "                     learning_rate_init=0.5,\n",
    "                     max_iter=2000,\n",
    "                     random_state=0)\n",
    "nnclf.fit(X_train, y_train)"
   ]
  },
  {
   "cell_type": "code",
   "execution_count": 272,
   "metadata": {},
   "outputs": [
    {
     "name": "stdout",
     "output_type": "stream",
     "text": [
      "Iris Data Set\n",
      "Accuracy of NN Classifier on training set: 0.973\n",
      "Accuracy of NN Classifier on test set: 0.947\n"
     ]
    },
    {
     "data": {
      "text/plain": [
       "120"
      ]
     },
     "execution_count": 272,
     "metadata": {},
     "output_type": "execute_result"
    }
   ],
   "source": [
    "print(\"Iris Data Set\")\n",
    "print(\"Accuracy of NN Classifier on training set: {:.3f}\".format(nnclf.score(X_train, y_train)))\n",
    "print(\"Accuracy of NN Classifier on test set: {:.3f}\".format(nnclf.score(X_test, y_test)))\n",
    "nnclf.n_iter_"
   ]
  },
  {
   "cell_type": "markdown",
   "metadata": {},
   "source": [
    "# Classification - Using Adam solver"
   ]
  },
  {
   "cell_type": "code",
   "execution_count": 283,
   "metadata": {},
   "outputs": [
    {
     "data": {
      "text/plain": [
       "MLPClassifier(activation='logistic', alpha=0.0001, batch_size='auto',\n",
       "              beta_1=0.9, beta_2=0.999, early_stopping=False, epsilon=1e-07,\n",
       "              hidden_layer_sizes=3, learning_rate='constant',\n",
       "              learning_rate_init=0.3, max_fun=15000, max_iter=2000,\n",
       "              momentum=0.9, n_iter_no_change=10, nesterovs_momentum=True,\n",
       "              power_t=0.5, random_state=0, shuffle=True, solver='adam',\n",
       "              tol=0.0001, validation_fraction=0.1, verbose=False,\n",
       "              warm_start=False)"
      ]
     },
     "execution_count": 283,
     "metadata": {},
     "output_type": "execute_result"
    }
   ],
   "source": [
    "# Classification - Using Adam solver\n",
    "# activation : {'logistic', 'tanh', 'relu','identity'} : Activation function for hidden layer\n",
    "\n",
    "# solver-The solver for weight optimization: {'lbfgs', 'sgd', 'adam'}, default 'adam'\n",
    "\n",
    "#    - 'adam' refers to a stochastic gradient-based optimizer \n",
    "# beta_1 : float(optional), default 0.9\n",
    "# Exponential decay rate for estimates of first moment vector in adam,should be in [0, 1). Only used when solver='adam'\n",
    "# beta_2 : float, optional, default 0.999\n",
    "# Exponential decay rate for estimates of second moment vector in adam,should be in [0, 1). Only used when solver='adam'\n",
    "# epsilon : float, optional, default 1e-8,Value for numerical stability in adam. Only used when solver='adam'\n",
    "nnclf = MLPClassifier(solver=\"adam\",\n",
    "                      beta_1=0.9,\n",
    "                      beta_2=0.999,\n",
    "                      epsilon=1e-7,\n",
    "                      activation=\"logistic\",\n",
    "                      hidden_layer_sizes=(3),\n",
    "                      learning_rate_init=0.3,\n",
    "                      max_iter=2000,\n",
    "                      random_state=0)\n",
    "nnclf.fit(X_train, y_train)"
   ]
  },
  {
   "cell_type": "code",
   "execution_count": 284,
   "metadata": {},
   "outputs": [
    {
     "name": "stdout",
     "output_type": "stream",
     "text": [
      "Iris Data Set\n",
      "Accuracy of NN CLassifier on training set: 0.964\n",
      "Accuracy of NN CLassifier on test set: 0.947\n"
     ]
    },
    {
     "data": {
      "text/plain": [
       "150"
      ]
     },
     "execution_count": 284,
     "metadata": {},
     "output_type": "execute_result"
    }
   ],
   "source": [
    "print(\"Iris Data Set\")\n",
    "print(\"Accuracy of NN CLassifier on training set: {:.3f}\".format(nnclf.score(X_train, y_train)))\n",
    "print(\"Accuracy of NN CLassifier on test set: {:.3f}\".format(nnclf.score(X_test, y_test)))\n",
    "nnclf.n_iter_"
   ]
  },
  {
   "cell_type": "markdown",
   "metadata": {},
   "source": [
    "# Classification - Using Mini-Batch Gradient Descent"
   ]
  },
  {
   "cell_type": "code",
   "execution_count": 348,
   "metadata": {},
   "outputs": [
    {
     "data": {
      "text/plain": [
       "MLPClassifier(activation='logistic', alpha=0.0001, batch_size=30, beta_1=0.9,\n",
       "              beta_2=0.99, early_stopping=False, epsilon=1e-07,\n",
       "              hidden_layer_sizes=3, learning_rate='constant',\n",
       "              learning_rate_init=0.08, max_fun=15000, max_iter=2000,\n",
       "              momentum=0.9, n_iter_no_change=10, nesterovs_momentum=True,\n",
       "              power_t=0.5, random_state=0, shuffle=True, solver='adam',\n",
       "              tol=0.0001, validation_fraction=0.1, verbose=False,\n",
       "              warm_start=False)"
      ]
     },
     "execution_count": 348,
     "metadata": {},
     "output_type": "execute_result"
    }
   ],
   "source": [
    "# Classification - Using Mini-Batch Gradient Descent\n",
    "# batch_size - Size of minibatches: int(optional), default 'auto'\n",
    "# If the solver is 'lbfgs', the classifier will not use mini-batch\n",
    "# When set to 'auto', `batch_size=min(200, n_sample)`\n",
    "\n",
    "nnclf = MLPClassifier(solver=\"adam\",\n",
    "                      beta_1=0.9, # at beta_1=0.5, decay of older and weights and biases will be very fast.. \n",
    "#                       means only 2nd latest term will have 1/3rd of the importance of latest term in weighted average\n",
    "                      beta_2=0.99,\n",
    "                      epsilon=1e-7,\n",
    "                      batch_size=30,\n",
    "                      activation=\"logistic\",\n",
    "                      hidden_layer_sizes=(3),\n",
    "                      learning_rate_init=0.08,\n",
    "                      max_iter=2000,\n",
    "                      random_state=0\n",
    "                     )\n",
    "nnclf.fit(X_train, y_train)"
   ]
  },
  {
   "cell_type": "code",
   "execution_count": 349,
   "metadata": {},
   "outputs": [
    {
     "name": "stdout",
     "output_type": "stream",
     "text": [
      "Iris Data Set\n",
      "Accuracy of NN Classifier on training set: 0.982\n",
      "Accuracy of NN Classifier on test set: 0.974\n"
     ]
    }
   ],
   "source": [
    "print(\"Iris Data Set\")\n",
    "print(\"Accuracy of NN Classifier on training set: {:.3f}\".format(nnclf.score(X_train, y_train)))\n",
    "print(\"Accuracy of NN Classifier on test set: {:.3f}\".format(nnclf.score(X_test, y_test)))"
   ]
  },
  {
   "cell_type": "markdown",
   "metadata": {},
   "source": [
    "# Classification - Learning Rate Decay"
   ]
  },
  {
   "cell_type": "code",
   "execution_count": 23,
   "metadata": {},
   "outputs": [],
   "source": [
    "# Leraning Rate Decay\n",
    "# - inverse\n",
    "# - adaptive\n",
    "# - constant learning rate\n",
    "# activation: {'logitic', 'tanh', 'relu', 'identity'}: Activation function for hidden layer\n",
    "\n",
    "# learning_rate - Learning rate schedule for weight updates: {'constant', 'invscaling', 'adaptive'}, default 'constant'\n",
    "\n",
    "# constant - is a constant learning rate given by learning_rate_init.\n",
    "\n",
    "# invscaling - gradually decreases the learning rate at each time step 't' using an invscaling exponent of power_t\n",
    "#      effective_learning_rate = learning_rate_init/pow(t, power_t)\n",
    "\n",
    "# adaptive - keeps the learning rate constant to learning_rate_init as long as training-loss keeps decreasing.\n",
    "#      Each time two consecutive epochs fail to decrease the training-loss by atleast \"tol\" parameter,\n",
    "#      or fail to increase validation score by at least \"tol\" parameter if 'early_stopping' is on,\n",
    "#      the current learning rate is divided by 5.\n",
    "#      Only used when solver='sgd'\n",
    "\n",
    "# learning_rate_init - The initial learning rate used: double (optional), default 0.001\n",
    "# It controls the step-size in updating the weights. Only used when solver=\"sgd\" or \"adam\"\n",
    "\n",
    "# power_t - The exponent of inverse-scaling learning-rate: double (optional) default 0.5\n",
    "# It is used in updating effective learning-rate when the \"learning_rate\" is set to \"invscaling\".\n",
    "# Only used when solver=\"sgd\"\n",
    "\n",
    "# tol: float, optional default 1e-4\n",
    "# Tolernace for the optimization. When the loss or score is not improving by atleast \"tol\" for two consecutive iterations,\n",
    "# if \"learning_rate\" is not set to \"adaptive\", convergence is considered to be reached and training stops\n",
    "# but, if it is adaptive, the learning_rate will automatically be divided by 5"
   ]
  },
  {
   "cell_type": "code",
   "execution_count": 350,
   "metadata": {},
   "outputs": [
    {
     "data": {
      "text/plain": [
       "MLPClassifier(activation='logistic', alpha=0.0001, batch_size=10, beta_1=0.9,\n",
       "              beta_2=0.999, early_stopping=False, epsilon=1e-08,\n",
       "              hidden_layer_sizes=3, learning_rate='constant',\n",
       "              learning_rate_init=0.05, max_fun=15000, max_iter=2000,\n",
       "              momentum=0.9, n_iter_no_change=10, nesterovs_momentum=True,\n",
       "              power_t=0.5, random_state=0, shuffle=True, solver='sgd',\n",
       "              tol=0.0001, validation_fraction=0.1, verbose=False,\n",
       "              warm_start=False)"
      ]
     },
     "execution_count": 350,
     "metadata": {},
     "output_type": "execute_result"
    }
   ],
   "source": [
    "# learning_rate=\"constant\"\n",
    "nnclf = MLPClassifier(solver=\"sgd\",\n",
    "                      momentum=0.9,\n",
    "                      batch_size=10,\n",
    "                      activation=\"logistic\",\n",
    "                      hidden_layer_sizes=(3),\n",
    "                      learning_rate_init=0.05,\n",
    "                      learning_rate=\"constant\",\n",
    "                      max_iter=2000,\n",
    "                      random_state=0\n",
    "                     )\n",
    "nnclf.fit(X_train, y_train)"
   ]
  },
  {
   "cell_type": "code",
   "execution_count": 351,
   "metadata": {},
   "outputs": [
    {
     "name": "stdout",
     "output_type": "stream",
     "text": [
      "Iris Data Set\n",
      "Accuracy of NN Classifier on training set: 0.991\n",
      "Accuracy of NN Classifier on test set: 0.947\n"
     ]
    }
   ],
   "source": [
    "print(\"Iris Data Set\")\n",
    "print(\"Accuracy of NN Classifier on training set: {:.3f}\".format(nnclf.score(X_train, y_train)))\n",
    "print(\"Accuracy of NN Classifier on test set: {:.3f}\".format(nnclf.score(X_test, y_test)))"
   ]
  },
  {
   "cell_type": "code",
   "execution_count": 401,
   "metadata": {},
   "outputs": [
    {
     "data": {
      "text/plain": [
       "MLPClassifier(activation='logistic', alpha=0.0001, batch_size='auto',\n",
       "              beta_1=0.9, beta_2=0.999, early_stopping=False, epsilon=1e-08,\n",
       "              hidden_layer_sizes=3, learning_rate='invscaling',\n",
       "              learning_rate_init=0.8, max_fun=15000, max_iter=2000,\n",
       "              momentum=0.9, n_iter_no_change=10, nesterovs_momentum=True,\n",
       "              power_t=0.2, random_state=0, shuffle=True, solver='sgd',\n",
       "              tol=0.0001, validation_fraction=0.1, verbose=False,\n",
       "              warm_start=False)"
      ]
     },
     "execution_count": 401,
     "metadata": {},
     "output_type": "execute_result"
    }
   ],
   "source": [
    "# Learning Rate Decay - Inverse Scaling\n",
    "\n",
    "# learning_rate - Learning rate schedule for weight updates: {'constant', 'invscaling', 'adaptive'}, default 'constant'   \n",
    "# -'invscaling' gradually decreases the learning rate ``learning_rate_`` at each time step 't' \n",
    "# using an inverse scaling exponent of 'power_t'. effective_learning_rate = learning_rate_init / pow(t, power_t)\n",
    "\n",
    "# learning_rate_init - The initial learning rate used: double (optional), default 0.001\n",
    "# It controls the step-size in updating the weights. Only used when solver='sgd' or 'adam'\n",
    "\n",
    "# power_t - The exponent for inverse scaling learning rate: double(optional) default 0.5\n",
    "# It is used in updating effective learning rate when the learning_rate is set to 'invscaling'. Only used when solver='sgd'\n",
    "\n",
    "nnclf = MLPClassifier(solver=\"sgd\",\n",
    "#                       momentum=0.9,\n",
    "#                       batch_size=30,\n",
    "                      activation=\"logistic\",\n",
    "                      hidden_layer_sizes=(3),\n",
    "                      learning_rate_init=0.8,\n",
    "                      learning_rate=\"invscaling\",\n",
    "                      power_t=0.2,\n",
    "                      max_iter=2000,\n",
    "                      random_state=0\n",
    "                     )\n",
    "nnclf.fit(X_train, y_train)"
   ]
  },
  {
   "cell_type": "code",
   "execution_count": 402,
   "metadata": {},
   "outputs": [
    {
     "name": "stdout",
     "output_type": "stream",
     "text": [
      "Iris Data Set\n",
      "Accuracy of NN Classifier on training set: 0.982\n",
      "Accuracy of NN Classifier on test set: 0.974\n"
     ]
    },
    {
     "data": {
      "text/plain": [
       "286"
      ]
     },
     "execution_count": 402,
     "metadata": {},
     "output_type": "execute_result"
    }
   ],
   "source": [
    "print(\"Iris Data Set\")\n",
    "print(\"Accuracy of NN Classifier on training set: {:.3f}\".format(nnclf.score(X_train, y_train)))\n",
    "print(\"Accuracy of NN Classifier on test set: {:.3f}\".format(nnclf.score(X_test, y_test)))\n",
    "nnclf.n_iter_"
   ]
  },
  {
   "cell_type": "code",
   "execution_count": 447,
   "metadata": {},
   "outputs": [
    {
     "data": {
      "text/plain": [
       "MLPClassifier(activation='logistic', alpha=0.0001, batch_size=25, beta_1=0.9,\n",
       "              beta_2=0.999, early_stopping=False, epsilon=1e-08,\n",
       "              hidden_layer_sizes=3, learning_rate='adaptive',\n",
       "              learning_rate_init=0.5, max_fun=15000, max_iter=2000,\n",
       "              momentum=0.9, n_iter_no_change=10, nesterovs_momentum=True,\n",
       "              power_t=0.5, random_state=0, shuffle=True, solver='sgd',\n",
       "              tol=0.0001, validation_fraction=0.1, verbose=False,\n",
       "              warm_start=False)"
      ]
     },
     "execution_count": 447,
     "metadata": {},
     "output_type": "execute_result"
    }
   ],
   "source": [
    "# Learning Rate Decay - Adaptive\n",
    "\n",
    "# learning_rate - Learning rate schedule for weight updates: {'constant', 'invscaling', 'adaptive'}, default 'constant'   \n",
    "# -'adaptive' keeps the learning rate constant to 'learning_rate_init' as long as training loss keeps decreasing.\n",
    "# Each time two consecutive epochs fail to decrease training loss by at least \"tol\",\n",
    "# the current learning rate is divided by 5. Only used when ``solver='sgd'``.\n",
    "\n",
    "# tol : float, optional, default 1e-4\n",
    "# Tolerance for the optimization. When the loss or score is not improving by at least tol for two consecutive iterations\n",
    "# unless `learning_rate` is set to 'adaptive', convergence is considered to be reached and training stops.\n",
    "\n",
    "nnclf = MLPClassifier(solver=\"sgd\",\n",
    "                      momentum=0.9,\n",
    "                      batch_size=25,\n",
    "                      activation=\"logistic\",\n",
    "                      hidden_layer_sizes=(3),\n",
    "                      learning_rate_init=0.5,\n",
    "                      learning_rate=\"adaptive\",\n",
    "                      tol=1e-4,\n",
    "                      max_iter=2000,\n",
    "                      random_state=0\n",
    "                     )\n",
    "nnclf.fit(X_train, y_train)"
   ]
  },
  {
   "cell_type": "code",
   "execution_count": 448,
   "metadata": {},
   "outputs": [
    {
     "name": "stdout",
     "output_type": "stream",
     "text": [
      "Iris Data Set\n",
      "Accuracy of NN Classifier on training set: 0.955\n",
      "Accuracy of NN Classifier on test set: 0.947\n"
     ]
    },
    {
     "data": {
      "application/javascript": [
       "/* Put everything inside the global mpl namespace */\n",
       "window.mpl = {};\n",
       "\n",
       "\n",
       "mpl.get_websocket_type = function() {\n",
       "    if (typeof(WebSocket) !== 'undefined') {\n",
       "        return WebSocket;\n",
       "    } else if (typeof(MozWebSocket) !== 'undefined') {\n",
       "        return MozWebSocket;\n",
       "    } else {\n",
       "        alert('Your browser does not have WebSocket support. ' +\n",
       "              'Please try Chrome, Safari or Firefox ≥ 6. ' +\n",
       "              'Firefox 4 and 5 are also supported but you ' +\n",
       "              'have to enable WebSockets in about:config.');\n",
       "    };\n",
       "}\n",
       "\n",
       "mpl.figure = function(figure_id, websocket, ondownload, parent_element) {\n",
       "    this.id = figure_id;\n",
       "\n",
       "    this.ws = websocket;\n",
       "\n",
       "    this.supports_binary = (this.ws.binaryType != undefined);\n",
       "\n",
       "    if (!this.supports_binary) {\n",
       "        var warnings = document.getElementById(\"mpl-warnings\");\n",
       "        if (warnings) {\n",
       "            warnings.style.display = 'block';\n",
       "            warnings.textContent = (\n",
       "                \"This browser does not support binary websocket messages. \" +\n",
       "                    \"Performance may be slow.\");\n",
       "        }\n",
       "    }\n",
       "\n",
       "    this.imageObj = new Image();\n",
       "\n",
       "    this.context = undefined;\n",
       "    this.message = undefined;\n",
       "    this.canvas = undefined;\n",
       "    this.rubberband_canvas = undefined;\n",
       "    this.rubberband_context = undefined;\n",
       "    this.format_dropdown = undefined;\n",
       "\n",
       "    this.image_mode = 'full';\n",
       "\n",
       "    this.root = $('<div/>');\n",
       "    this._root_extra_style(this.root)\n",
       "    this.root.attr('style', 'display: inline-block');\n",
       "\n",
       "    $(parent_element).append(this.root);\n",
       "\n",
       "    this._init_header(this);\n",
       "    this._init_canvas(this);\n",
       "    this._init_toolbar(this);\n",
       "\n",
       "    var fig = this;\n",
       "\n",
       "    this.waiting = false;\n",
       "\n",
       "    this.ws.onopen =  function () {\n",
       "            fig.send_message(\"supports_binary\", {value: fig.supports_binary});\n",
       "            fig.send_message(\"send_image_mode\", {});\n",
       "            if (mpl.ratio != 1) {\n",
       "                fig.send_message(\"set_dpi_ratio\", {'dpi_ratio': mpl.ratio});\n",
       "            }\n",
       "            fig.send_message(\"refresh\", {});\n",
       "        }\n",
       "\n",
       "    this.imageObj.onload = function() {\n",
       "            if (fig.image_mode == 'full') {\n",
       "                // Full images could contain transparency (where diff images\n",
       "                // almost always do), so we need to clear the canvas so that\n",
       "                // there is no ghosting.\n",
       "                fig.context.clearRect(0, 0, fig.canvas.width, fig.canvas.height);\n",
       "            }\n",
       "            fig.context.drawImage(fig.imageObj, 0, 0);\n",
       "        };\n",
       "\n",
       "    this.imageObj.onunload = function() {\n",
       "        fig.ws.close();\n",
       "    }\n",
       "\n",
       "    this.ws.onmessage = this._make_on_message_function(this);\n",
       "\n",
       "    this.ondownload = ondownload;\n",
       "}\n",
       "\n",
       "mpl.figure.prototype._init_header = function() {\n",
       "    var titlebar = $(\n",
       "        '<div class=\"ui-dialog-titlebar ui-widget-header ui-corner-all ' +\n",
       "        'ui-helper-clearfix\"/>');\n",
       "    var titletext = $(\n",
       "        '<div class=\"ui-dialog-title\" style=\"width: 100%; ' +\n",
       "        'text-align: center; padding: 3px;\"/>');\n",
       "    titlebar.append(titletext)\n",
       "    this.root.append(titlebar);\n",
       "    this.header = titletext[0];\n",
       "}\n",
       "\n",
       "\n",
       "\n",
       "mpl.figure.prototype._canvas_extra_style = function(canvas_div) {\n",
       "\n",
       "}\n",
       "\n",
       "\n",
       "mpl.figure.prototype._root_extra_style = function(canvas_div) {\n",
       "\n",
       "}\n",
       "\n",
       "mpl.figure.prototype._init_canvas = function() {\n",
       "    var fig = this;\n",
       "\n",
       "    var canvas_div = $('<div/>');\n",
       "\n",
       "    canvas_div.attr('style', 'position: relative; clear: both; outline: 0');\n",
       "\n",
       "    function canvas_keyboard_event(event) {\n",
       "        return fig.key_event(event, event['data']);\n",
       "    }\n",
       "\n",
       "    canvas_div.keydown('key_press', canvas_keyboard_event);\n",
       "    canvas_div.keyup('key_release', canvas_keyboard_event);\n",
       "    this.canvas_div = canvas_div\n",
       "    this._canvas_extra_style(canvas_div)\n",
       "    this.root.append(canvas_div);\n",
       "\n",
       "    var canvas = $('<canvas/>');\n",
       "    canvas.addClass('mpl-canvas');\n",
       "    canvas.attr('style', \"left: 0; top: 0; z-index: 0; outline: 0\")\n",
       "\n",
       "    this.canvas = canvas[0];\n",
       "    this.context = canvas[0].getContext(\"2d\");\n",
       "\n",
       "    var backingStore = this.context.backingStorePixelRatio ||\n",
       "\tthis.context.webkitBackingStorePixelRatio ||\n",
       "\tthis.context.mozBackingStorePixelRatio ||\n",
       "\tthis.context.msBackingStorePixelRatio ||\n",
       "\tthis.context.oBackingStorePixelRatio ||\n",
       "\tthis.context.backingStorePixelRatio || 1;\n",
       "\n",
       "    mpl.ratio = (window.devicePixelRatio || 1) / backingStore;\n",
       "\n",
       "    var rubberband = $('<canvas/>');\n",
       "    rubberband.attr('style', \"position: absolute; left: 0; top: 0; z-index: 1;\")\n",
       "\n",
       "    var pass_mouse_events = true;\n",
       "\n",
       "    canvas_div.resizable({\n",
       "        start: function(event, ui) {\n",
       "            pass_mouse_events = false;\n",
       "        },\n",
       "        resize: function(event, ui) {\n",
       "            fig.request_resize(ui.size.width, ui.size.height);\n",
       "        },\n",
       "        stop: function(event, ui) {\n",
       "            pass_mouse_events = true;\n",
       "            fig.request_resize(ui.size.width, ui.size.height);\n",
       "        },\n",
       "    });\n",
       "\n",
       "    function mouse_event_fn(event) {\n",
       "        if (pass_mouse_events)\n",
       "            return fig.mouse_event(event, event['data']);\n",
       "    }\n",
       "\n",
       "    rubberband.mousedown('button_press', mouse_event_fn);\n",
       "    rubberband.mouseup('button_release', mouse_event_fn);\n",
       "    // Throttle sequential mouse events to 1 every 20ms.\n",
       "    rubberband.mousemove('motion_notify', mouse_event_fn);\n",
       "\n",
       "    rubberband.mouseenter('figure_enter', mouse_event_fn);\n",
       "    rubberband.mouseleave('figure_leave', mouse_event_fn);\n",
       "\n",
       "    canvas_div.on(\"wheel\", function (event) {\n",
       "        event = event.originalEvent;\n",
       "        event['data'] = 'scroll'\n",
       "        if (event.deltaY < 0) {\n",
       "            event.step = 1;\n",
       "        } else {\n",
       "            event.step = -1;\n",
       "        }\n",
       "        mouse_event_fn(event);\n",
       "    });\n",
       "\n",
       "    canvas_div.append(canvas);\n",
       "    canvas_div.append(rubberband);\n",
       "\n",
       "    this.rubberband = rubberband;\n",
       "    this.rubberband_canvas = rubberband[0];\n",
       "    this.rubberband_context = rubberband[0].getContext(\"2d\");\n",
       "    this.rubberband_context.strokeStyle = \"#000000\";\n",
       "\n",
       "    this._resize_canvas = function(width, height) {\n",
       "        // Keep the size of the canvas, canvas container, and rubber band\n",
       "        // canvas in synch.\n",
       "        canvas_div.css('width', width)\n",
       "        canvas_div.css('height', height)\n",
       "\n",
       "        canvas.attr('width', width * mpl.ratio);\n",
       "        canvas.attr('height', height * mpl.ratio);\n",
       "        canvas.attr('style', 'width: ' + width + 'px; height: ' + height + 'px;');\n",
       "\n",
       "        rubberband.attr('width', width);\n",
       "        rubberband.attr('height', height);\n",
       "    }\n",
       "\n",
       "    // Set the figure to an initial 600x600px, this will subsequently be updated\n",
       "    // upon first draw.\n",
       "    this._resize_canvas(600, 600);\n",
       "\n",
       "    // Disable right mouse context menu.\n",
       "    $(this.rubberband_canvas).bind(\"contextmenu\",function(e){\n",
       "        return false;\n",
       "    });\n",
       "\n",
       "    function set_focus () {\n",
       "        canvas.focus();\n",
       "        canvas_div.focus();\n",
       "    }\n",
       "\n",
       "    window.setTimeout(set_focus, 100);\n",
       "}\n",
       "\n",
       "mpl.figure.prototype._init_toolbar = function() {\n",
       "    var fig = this;\n",
       "\n",
       "    var nav_element = $('<div/>');\n",
       "    nav_element.attr('style', 'width: 100%');\n",
       "    this.root.append(nav_element);\n",
       "\n",
       "    // Define a callback function for later on.\n",
       "    function toolbar_event(event) {\n",
       "        return fig.toolbar_button_onclick(event['data']);\n",
       "    }\n",
       "    function toolbar_mouse_event(event) {\n",
       "        return fig.toolbar_button_onmouseover(event['data']);\n",
       "    }\n",
       "\n",
       "    for(var toolbar_ind in mpl.toolbar_items) {\n",
       "        var name = mpl.toolbar_items[toolbar_ind][0];\n",
       "        var tooltip = mpl.toolbar_items[toolbar_ind][1];\n",
       "        var image = mpl.toolbar_items[toolbar_ind][2];\n",
       "        var method_name = mpl.toolbar_items[toolbar_ind][3];\n",
       "\n",
       "        if (!name) {\n",
       "            // put a spacer in here.\n",
       "            continue;\n",
       "        }\n",
       "        var button = $('<button/>');\n",
       "        button.addClass('ui-button ui-widget ui-state-default ui-corner-all ' +\n",
       "                        'ui-button-icon-only');\n",
       "        button.attr('role', 'button');\n",
       "        button.attr('aria-disabled', 'false');\n",
       "        button.click(method_name, toolbar_event);\n",
       "        button.mouseover(tooltip, toolbar_mouse_event);\n",
       "\n",
       "        var icon_img = $('<span/>');\n",
       "        icon_img.addClass('ui-button-icon-primary ui-icon');\n",
       "        icon_img.addClass(image);\n",
       "        icon_img.addClass('ui-corner-all');\n",
       "\n",
       "        var tooltip_span = $('<span/>');\n",
       "        tooltip_span.addClass('ui-button-text');\n",
       "        tooltip_span.html(tooltip);\n",
       "\n",
       "        button.append(icon_img);\n",
       "        button.append(tooltip_span);\n",
       "\n",
       "        nav_element.append(button);\n",
       "    }\n",
       "\n",
       "    var fmt_picker_span = $('<span/>');\n",
       "\n",
       "    var fmt_picker = $('<select/>');\n",
       "    fmt_picker.addClass('mpl-toolbar-option ui-widget ui-widget-content');\n",
       "    fmt_picker_span.append(fmt_picker);\n",
       "    nav_element.append(fmt_picker_span);\n",
       "    this.format_dropdown = fmt_picker[0];\n",
       "\n",
       "    for (var ind in mpl.extensions) {\n",
       "        var fmt = mpl.extensions[ind];\n",
       "        var option = $(\n",
       "            '<option/>', {selected: fmt === mpl.default_extension}).html(fmt);\n",
       "        fmt_picker.append(option);\n",
       "    }\n",
       "\n",
       "    // Add hover states to the ui-buttons\n",
       "    $( \".ui-button\" ).hover(\n",
       "        function() { $(this).addClass(\"ui-state-hover\");},\n",
       "        function() { $(this).removeClass(\"ui-state-hover\");}\n",
       "    );\n",
       "\n",
       "    var status_bar = $('<span class=\"mpl-message\"/>');\n",
       "    nav_element.append(status_bar);\n",
       "    this.message = status_bar[0];\n",
       "}\n",
       "\n",
       "mpl.figure.prototype.request_resize = function(x_pixels, y_pixels) {\n",
       "    // Request matplotlib to resize the figure. Matplotlib will then trigger a resize in the client,\n",
       "    // which will in turn request a refresh of the image.\n",
       "    this.send_message('resize', {'width': x_pixels, 'height': y_pixels});\n",
       "}\n",
       "\n",
       "mpl.figure.prototype.send_message = function(type, properties) {\n",
       "    properties['type'] = type;\n",
       "    properties['figure_id'] = this.id;\n",
       "    this.ws.send(JSON.stringify(properties));\n",
       "}\n",
       "\n",
       "mpl.figure.prototype.send_draw_message = function() {\n",
       "    if (!this.waiting) {\n",
       "        this.waiting = true;\n",
       "        this.ws.send(JSON.stringify({type: \"draw\", figure_id: this.id}));\n",
       "    }\n",
       "}\n",
       "\n",
       "\n",
       "mpl.figure.prototype.handle_save = function(fig, msg) {\n",
       "    var format_dropdown = fig.format_dropdown;\n",
       "    var format = format_dropdown.options[format_dropdown.selectedIndex].value;\n",
       "    fig.ondownload(fig, format);\n",
       "}\n",
       "\n",
       "\n",
       "mpl.figure.prototype.handle_resize = function(fig, msg) {\n",
       "    var size = msg['size'];\n",
       "    if (size[0] != fig.canvas.width || size[1] != fig.canvas.height) {\n",
       "        fig._resize_canvas(size[0], size[1]);\n",
       "        fig.send_message(\"refresh\", {});\n",
       "    };\n",
       "}\n",
       "\n",
       "mpl.figure.prototype.handle_rubberband = function(fig, msg) {\n",
       "    var x0 = msg['x0'] / mpl.ratio;\n",
       "    var y0 = (fig.canvas.height - msg['y0']) / mpl.ratio;\n",
       "    var x1 = msg['x1'] / mpl.ratio;\n",
       "    var y1 = (fig.canvas.height - msg['y1']) / mpl.ratio;\n",
       "    x0 = Math.floor(x0) + 0.5;\n",
       "    y0 = Math.floor(y0) + 0.5;\n",
       "    x1 = Math.floor(x1) + 0.5;\n",
       "    y1 = Math.floor(y1) + 0.5;\n",
       "    var min_x = Math.min(x0, x1);\n",
       "    var min_y = Math.min(y0, y1);\n",
       "    var width = Math.abs(x1 - x0);\n",
       "    var height = Math.abs(y1 - y0);\n",
       "\n",
       "    fig.rubberband_context.clearRect(\n",
       "        0, 0, fig.canvas.width / mpl.ratio, fig.canvas.height / mpl.ratio);\n",
       "\n",
       "    fig.rubberband_context.strokeRect(min_x, min_y, width, height);\n",
       "}\n",
       "\n",
       "mpl.figure.prototype.handle_figure_label = function(fig, msg) {\n",
       "    // Updates the figure title.\n",
       "    fig.header.textContent = msg['label'];\n",
       "}\n",
       "\n",
       "mpl.figure.prototype.handle_cursor = function(fig, msg) {\n",
       "    var cursor = msg['cursor'];\n",
       "    switch(cursor)\n",
       "    {\n",
       "    case 0:\n",
       "        cursor = 'pointer';\n",
       "        break;\n",
       "    case 1:\n",
       "        cursor = 'default';\n",
       "        break;\n",
       "    case 2:\n",
       "        cursor = 'crosshair';\n",
       "        break;\n",
       "    case 3:\n",
       "        cursor = 'move';\n",
       "        break;\n",
       "    }\n",
       "    fig.rubberband_canvas.style.cursor = cursor;\n",
       "}\n",
       "\n",
       "mpl.figure.prototype.handle_message = function(fig, msg) {\n",
       "    fig.message.textContent = msg['message'];\n",
       "}\n",
       "\n",
       "mpl.figure.prototype.handle_draw = function(fig, msg) {\n",
       "    // Request the server to send over a new figure.\n",
       "    fig.send_draw_message();\n",
       "}\n",
       "\n",
       "mpl.figure.prototype.handle_image_mode = function(fig, msg) {\n",
       "    fig.image_mode = msg['mode'];\n",
       "}\n",
       "\n",
       "mpl.figure.prototype.updated_canvas_event = function() {\n",
       "    // Called whenever the canvas gets updated.\n",
       "    this.send_message(\"ack\", {});\n",
       "}\n",
       "\n",
       "// A function to construct a web socket function for onmessage handling.\n",
       "// Called in the figure constructor.\n",
       "mpl.figure.prototype._make_on_message_function = function(fig) {\n",
       "    return function socket_on_message(evt) {\n",
       "        if (evt.data instanceof Blob) {\n",
       "            /* FIXME: We get \"Resource interpreted as Image but\n",
       "             * transferred with MIME type text/plain:\" errors on\n",
       "             * Chrome.  But how to set the MIME type?  It doesn't seem\n",
       "             * to be part of the websocket stream */\n",
       "            evt.data.type = \"image/png\";\n",
       "\n",
       "            /* Free the memory for the previous frames */\n",
       "            if (fig.imageObj.src) {\n",
       "                (window.URL || window.webkitURL).revokeObjectURL(\n",
       "                    fig.imageObj.src);\n",
       "            }\n",
       "\n",
       "            fig.imageObj.src = (window.URL || window.webkitURL).createObjectURL(\n",
       "                evt.data);\n",
       "            fig.updated_canvas_event();\n",
       "            fig.waiting = false;\n",
       "            return;\n",
       "        }\n",
       "        else if (typeof evt.data === 'string' && evt.data.slice(0, 21) == \"data:image/png;base64\") {\n",
       "            fig.imageObj.src = evt.data;\n",
       "            fig.updated_canvas_event();\n",
       "            fig.waiting = false;\n",
       "            return;\n",
       "        }\n",
       "\n",
       "        var msg = JSON.parse(evt.data);\n",
       "        var msg_type = msg['type'];\n",
       "\n",
       "        // Call the  \"handle_{type}\" callback, which takes\n",
       "        // the figure and JSON message as its only arguments.\n",
       "        try {\n",
       "            var callback = fig[\"handle_\" + msg_type];\n",
       "        } catch (e) {\n",
       "            console.log(\"No handler for the '\" + msg_type + \"' message type: \", msg);\n",
       "            return;\n",
       "        }\n",
       "\n",
       "        if (callback) {\n",
       "            try {\n",
       "                // console.log(\"Handling '\" + msg_type + \"' message: \", msg);\n",
       "                callback(fig, msg);\n",
       "            } catch (e) {\n",
       "                console.log(\"Exception inside the 'handler_\" + msg_type + \"' callback:\", e, e.stack, msg);\n",
       "            }\n",
       "        }\n",
       "    };\n",
       "}\n",
       "\n",
       "// from http://stackoverflow.com/questions/1114465/getting-mouse-location-in-canvas\n",
       "mpl.findpos = function(e) {\n",
       "    //this section is from http://www.quirksmode.org/js/events_properties.html\n",
       "    var targ;\n",
       "    if (!e)\n",
       "        e = window.event;\n",
       "    if (e.target)\n",
       "        targ = e.target;\n",
       "    else if (e.srcElement)\n",
       "        targ = e.srcElement;\n",
       "    if (targ.nodeType == 3) // defeat Safari bug\n",
       "        targ = targ.parentNode;\n",
       "\n",
       "    // jQuery normalizes the pageX and pageY\n",
       "    // pageX,Y are the mouse positions relative to the document\n",
       "    // offset() returns the position of the element relative to the document\n",
       "    var x = e.pageX - $(targ).offset().left;\n",
       "    var y = e.pageY - $(targ).offset().top;\n",
       "\n",
       "    return {\"x\": x, \"y\": y};\n",
       "};\n",
       "\n",
       "/*\n",
       " * return a copy of an object with only non-object keys\n",
       " * we need this to avoid circular references\n",
       " * http://stackoverflow.com/a/24161582/3208463\n",
       " */\n",
       "function simpleKeys (original) {\n",
       "  return Object.keys(original).reduce(function (obj, key) {\n",
       "    if (typeof original[key] !== 'object')\n",
       "        obj[key] = original[key]\n",
       "    return obj;\n",
       "  }, {});\n",
       "}\n",
       "\n",
       "mpl.figure.prototype.mouse_event = function(event, name) {\n",
       "    var canvas_pos = mpl.findpos(event)\n",
       "\n",
       "    if (name === 'button_press')\n",
       "    {\n",
       "        this.canvas.focus();\n",
       "        this.canvas_div.focus();\n",
       "    }\n",
       "\n",
       "    var x = canvas_pos.x * mpl.ratio;\n",
       "    var y = canvas_pos.y * mpl.ratio;\n",
       "\n",
       "    this.send_message(name, {x: x, y: y, button: event.button,\n",
       "                             step: event.step,\n",
       "                             guiEvent: simpleKeys(event)});\n",
       "\n",
       "    /* This prevents the web browser from automatically changing to\n",
       "     * the text insertion cursor when the button is pressed.  We want\n",
       "     * to control all of the cursor setting manually through the\n",
       "     * 'cursor' event from matplotlib */\n",
       "    event.preventDefault();\n",
       "    return false;\n",
       "}\n",
       "\n",
       "mpl.figure.prototype._key_event_extra = function(event, name) {\n",
       "    // Handle any extra behaviour associated with a key event\n",
       "}\n",
       "\n",
       "mpl.figure.prototype.key_event = function(event, name) {\n",
       "\n",
       "    // Prevent repeat events\n",
       "    if (name == 'key_press')\n",
       "    {\n",
       "        if (event.which === this._key)\n",
       "            return;\n",
       "        else\n",
       "            this._key = event.which;\n",
       "    }\n",
       "    if (name == 'key_release')\n",
       "        this._key = null;\n",
       "\n",
       "    var value = '';\n",
       "    if (event.ctrlKey && event.which != 17)\n",
       "        value += \"ctrl+\";\n",
       "    if (event.altKey && event.which != 18)\n",
       "        value += \"alt+\";\n",
       "    if (event.shiftKey && event.which != 16)\n",
       "        value += \"shift+\";\n",
       "\n",
       "    value += 'k';\n",
       "    value += event.which.toString();\n",
       "\n",
       "    this._key_event_extra(event, name);\n",
       "\n",
       "    this.send_message(name, {key: value,\n",
       "                             guiEvent: simpleKeys(event)});\n",
       "    return false;\n",
       "}\n",
       "\n",
       "mpl.figure.prototype.toolbar_button_onclick = function(name) {\n",
       "    if (name == 'download') {\n",
       "        this.handle_save(this, null);\n",
       "    } else {\n",
       "        this.send_message(\"toolbar_button\", {name: name});\n",
       "    }\n",
       "};\n",
       "\n",
       "mpl.figure.prototype.toolbar_button_onmouseover = function(tooltip) {\n",
       "    this.message.textContent = tooltip;\n",
       "};\n",
       "mpl.toolbar_items = [[\"Home\", \"Reset original view\", \"fa fa-home icon-home\", \"home\"], [\"Back\", \"Back to previous view\", \"fa fa-arrow-left icon-arrow-left\", \"back\"], [\"Forward\", \"Forward to next view\", \"fa fa-arrow-right icon-arrow-right\", \"forward\"], [\"\", \"\", \"\", \"\"], [\"Pan\", \"Pan axes with left mouse, zoom with right\", \"fa fa-arrows icon-move\", \"pan\"], [\"Zoom\", \"Zoom to rectangle\", \"fa fa-square-o icon-check-empty\", \"zoom\"], [\"\", \"\", \"\", \"\"], [\"Download\", \"Download plot\", \"fa fa-floppy-o icon-save\", \"download\"]];\n",
       "\n",
       "mpl.extensions = [\"eps\", \"jpeg\", \"pdf\", \"png\", \"ps\", \"raw\", \"svg\", \"tif\"];\n",
       "\n",
       "mpl.default_extension = \"png\";var comm_websocket_adapter = function(comm) {\n",
       "    // Create a \"websocket\"-like object which calls the given IPython comm\n",
       "    // object with the appropriate methods. Currently this is a non binary\n",
       "    // socket, so there is still some room for performance tuning.\n",
       "    var ws = {};\n",
       "\n",
       "    ws.close = function() {\n",
       "        comm.close()\n",
       "    };\n",
       "    ws.send = function(m) {\n",
       "        //console.log('sending', m);\n",
       "        comm.send(m);\n",
       "    };\n",
       "    // Register the callback with on_msg.\n",
       "    comm.on_msg(function(msg) {\n",
       "        //console.log('receiving', msg['content']['data'], msg);\n",
       "        // Pass the mpl event to the overridden (by mpl) onmessage function.\n",
       "        ws.onmessage(msg['content']['data'])\n",
       "    });\n",
       "    return ws;\n",
       "}\n",
       "\n",
       "mpl.mpl_figure_comm = function(comm, msg) {\n",
       "    // This is the function which gets called when the mpl process\n",
       "    // starts-up an IPython Comm through the \"matplotlib\" channel.\n",
       "\n",
       "    var id = msg.content.data.id;\n",
       "    // Get hold of the div created by the display call when the Comm\n",
       "    // socket was opened in Python.\n",
       "    var element = $(\"#\" + id);\n",
       "    var ws_proxy = comm_websocket_adapter(comm)\n",
       "\n",
       "    function ondownload(figure, format) {\n",
       "        window.open(figure.imageObj.src);\n",
       "    }\n",
       "\n",
       "    var fig = new mpl.figure(id, ws_proxy,\n",
       "                           ondownload,\n",
       "                           element.get(0));\n",
       "\n",
       "    // Call onopen now - mpl needs it, as it is assuming we've passed it a real\n",
       "    // web socket which is closed, not our websocket->open comm proxy.\n",
       "    ws_proxy.onopen();\n",
       "\n",
       "    fig.parent_element = element.get(0);\n",
       "    fig.cell_info = mpl.find_output_cell(\"<div id='\" + id + \"'></div>\");\n",
       "    if (!fig.cell_info) {\n",
       "        console.error(\"Failed to find cell for figure\", id, fig);\n",
       "        return;\n",
       "    }\n",
       "\n",
       "    var output_index = fig.cell_info[2]\n",
       "    var cell = fig.cell_info[0];\n",
       "\n",
       "};\n",
       "\n",
       "mpl.figure.prototype.handle_close = function(fig, msg) {\n",
       "    var width = fig.canvas.width/mpl.ratio\n",
       "    fig.root.unbind('remove')\n",
       "\n",
       "    // Update the output cell to use the data from the current canvas.\n",
       "    fig.push_to_output();\n",
       "    var dataURL = fig.canvas.toDataURL();\n",
       "    // Re-enable the keyboard manager in IPython - without this line, in FF,\n",
       "    // the notebook keyboard shortcuts fail.\n",
       "    IPython.keyboard_manager.enable()\n",
       "    $(fig.parent_element).html('<img src=\"' + dataURL + '\" width=\"' + width + '\">');\n",
       "    fig.close_ws(fig, msg);\n",
       "}\n",
       "\n",
       "mpl.figure.prototype.close_ws = function(fig, msg){\n",
       "    fig.send_message('closing', msg);\n",
       "    // fig.ws.close()\n",
       "}\n",
       "\n",
       "mpl.figure.prototype.push_to_output = function(remove_interactive) {\n",
       "    // Turn the data on the canvas into data in the output cell.\n",
       "    var width = this.canvas.width/mpl.ratio\n",
       "    var dataURL = this.canvas.toDataURL();\n",
       "    this.cell_info[1]['text/html'] = '<img src=\"' + dataURL + '\" width=\"' + width + '\">';\n",
       "}\n",
       "\n",
       "mpl.figure.prototype.updated_canvas_event = function() {\n",
       "    // Tell IPython that the notebook contents must change.\n",
       "    IPython.notebook.set_dirty(true);\n",
       "    this.send_message(\"ack\", {});\n",
       "    var fig = this;\n",
       "    // Wait a second, then push the new image to the DOM so\n",
       "    // that it is saved nicely (might be nice to debounce this).\n",
       "    setTimeout(function () { fig.push_to_output() }, 1000);\n",
       "}\n",
       "\n",
       "mpl.figure.prototype._init_toolbar = function() {\n",
       "    var fig = this;\n",
       "\n",
       "    var nav_element = $('<div/>');\n",
       "    nav_element.attr('style', 'width: 100%');\n",
       "    this.root.append(nav_element);\n",
       "\n",
       "    // Define a callback function for later on.\n",
       "    function toolbar_event(event) {\n",
       "        return fig.toolbar_button_onclick(event['data']);\n",
       "    }\n",
       "    function toolbar_mouse_event(event) {\n",
       "        return fig.toolbar_button_onmouseover(event['data']);\n",
       "    }\n",
       "\n",
       "    for(var toolbar_ind in mpl.toolbar_items){\n",
       "        var name = mpl.toolbar_items[toolbar_ind][0];\n",
       "        var tooltip = mpl.toolbar_items[toolbar_ind][1];\n",
       "        var image = mpl.toolbar_items[toolbar_ind][2];\n",
       "        var method_name = mpl.toolbar_items[toolbar_ind][3];\n",
       "\n",
       "        if (!name) { continue; };\n",
       "\n",
       "        var button = $('<button class=\"btn btn-default\" href=\"#\" title=\"' + name + '\"><i class=\"fa ' + image + ' fa-lg\"></i></button>');\n",
       "        button.click(method_name, toolbar_event);\n",
       "        button.mouseover(tooltip, toolbar_mouse_event);\n",
       "        nav_element.append(button);\n",
       "    }\n",
       "\n",
       "    // Add the status bar.\n",
       "    var status_bar = $('<span class=\"mpl-message\" style=\"text-align:right; float: right;\"/>');\n",
       "    nav_element.append(status_bar);\n",
       "    this.message = status_bar[0];\n",
       "\n",
       "    // Add the close button to the window.\n",
       "    var buttongrp = $('<div class=\"btn-group inline pull-right\"></div>');\n",
       "    var button = $('<button class=\"btn btn-mini btn-primary\" href=\"#\" title=\"Stop Interaction\"><i class=\"fa fa-power-off icon-remove icon-large\"></i></button>');\n",
       "    button.click(function (evt) { fig.handle_close(fig, {}); } );\n",
       "    button.mouseover('Stop Interaction', toolbar_mouse_event);\n",
       "    buttongrp.append(button);\n",
       "    var titlebar = this.root.find($('.ui-dialog-titlebar'));\n",
       "    titlebar.prepend(buttongrp);\n",
       "}\n",
       "\n",
       "mpl.figure.prototype._root_extra_style = function(el){\n",
       "    var fig = this\n",
       "    el.on(\"remove\", function(){\n",
       "\tfig.close_ws(fig, {});\n",
       "    });\n",
       "}\n",
       "\n",
       "mpl.figure.prototype._canvas_extra_style = function(el){\n",
       "    // this is important to make the div 'focusable\n",
       "    el.attr('tabindex', 0)\n",
       "    // reach out to IPython and tell the keyboard manager to turn it's self\n",
       "    // off when our div gets focus\n",
       "\n",
       "    // location in version 3\n",
       "    if (IPython.notebook.keyboard_manager) {\n",
       "        IPython.notebook.keyboard_manager.register_events(el);\n",
       "    }\n",
       "    else {\n",
       "        // location in version 2\n",
       "        IPython.keyboard_manager.register_events(el);\n",
       "    }\n",
       "\n",
       "}\n",
       "\n",
       "mpl.figure.prototype._key_event_extra = function(event, name) {\n",
       "    var manager = IPython.notebook.keyboard_manager;\n",
       "    if (!manager)\n",
       "        manager = IPython.keyboard_manager;\n",
       "\n",
       "    // Check for shift+enter\n",
       "    if (event.shiftKey && event.which == 13) {\n",
       "        this.canvas_div.blur();\n",
       "        // select the cell after this one\n",
       "        var index = IPython.notebook.find_cell_index(this.cell_info[0]);\n",
       "        IPython.notebook.select(index + 1);\n",
       "    }\n",
       "}\n",
       "\n",
       "mpl.figure.prototype.handle_save = function(fig, msg) {\n",
       "    fig.ondownload(fig, null);\n",
       "}\n",
       "\n",
       "\n",
       "mpl.find_output_cell = function(html_output) {\n",
       "    // Return the cell and output element which can be found *uniquely* in the notebook.\n",
       "    // Note - this is a bit hacky, but it is done because the \"notebook_saving.Notebook\"\n",
       "    // IPython event is triggered only after the cells have been serialised, which for\n",
       "    // our purposes (turning an active figure into a static one), is too late.\n",
       "    var cells = IPython.notebook.get_cells();\n",
       "    var ncells = cells.length;\n",
       "    for (var i=0; i<ncells; i++) {\n",
       "        var cell = cells[i];\n",
       "        if (cell.cell_type === 'code'){\n",
       "            for (var j=0; j<cell.output_area.outputs.length; j++) {\n",
       "                var data = cell.output_area.outputs[j];\n",
       "                if (data.data) {\n",
       "                    // IPython >= 3 moved mimebundle to data attribute of output\n",
       "                    data = data.data;\n",
       "                }\n",
       "                if (data['text/html'] == html_output) {\n",
       "                    return [cell, data, j];\n",
       "                }\n",
       "            }\n",
       "        }\n",
       "    }\n",
       "}\n",
       "\n",
       "// Register the function which deals with the matplotlib target/channel.\n",
       "// The kernel may be null if the page has been refreshed.\n",
       "if (IPython.notebook.kernel != null) {\n",
       "    IPython.notebook.kernel.comm_manager.register_target('matplotlib', mpl.mpl_figure_comm);\n",
       "}\n"
      ],
      "text/plain": [
       "<IPython.core.display.Javascript object>"
      ]
     },
     "metadata": {},
     "output_type": "display_data"
    },
    {
     "data": {
      "text/html": [
       "<img src=\"data:image/png;base64,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\" width=\"640\">"
      ],
      "text/plain": [
       "<IPython.core.display.HTML object>"
      ]
     },
     "metadata": {},
     "output_type": "display_data"
    },
    {
     "data": {
      "text/plain": [
       "425"
      ]
     },
     "execution_count": 448,
     "metadata": {},
     "output_type": "execute_result"
    }
   ],
   "source": [
    "print(\"Iris Data Set\")\n",
    "print(\"Accuracy of NN Classifier on training set: {:.3f}\".format(nnclf.score(X_train, y_train)))\n",
    "print(\"Accuracy of NN Classifier on test set: {:.3f}\".format(nnclf.score(X_test, y_test)))\n",
    "plt.plot(nnclf.loss_curve_)\n",
    "plt.show()\n",
    "nnclf.n_iter_"
   ]
  },
  {
   "cell_type": "markdown",
   "metadata": {},
   "source": [
    "# Classification - Regularization"
   ]
  },
  {
   "cell_type": "code",
   "execution_count": 536,
   "metadata": {},
   "outputs": [
    {
     "data": {
      "text/plain": [
       "MLPClassifier(activation='identity', alpha=2, batch_size=20, beta_1=0.9,\n",
       "              beta_2=0.999, early_stopping=False, epsilon=1e-08,\n",
       "              hidden_layer_sizes=(100, 100, 100, 100, 100, 100, 100),\n",
       "              learning_rate='constant', learning_rate_init=1, max_fun=15000,\n",
       "              max_iter=2000, momentum=0.9, n_iter_no_change=10,\n",
       "              nesterovs_momentum=True, power_t=0.5, random_state=0,\n",
       "              shuffle=True, solver='lbfgs', tol=0.0001, validation_fraction=0.1,\n",
       "              verbose=False, warm_start=False)"
      ]
     },
     "execution_count": 536,
     "metadata": {},
     "output_type": "execute_result"
    }
   ],
   "source": [
    "# Classification - Regularization\n",
    "\n",
    "# activation : {'logistic', 'tanh', 'relu','identity'} : Activation function for hidden layer\n",
    "\n",
    "# Regularization:\n",
    "# alpha - L2 penalty (regularization term) parameter: float (optional) default 0.0001\n",
    "\n",
    "nnclf = MLPClassifier(solver=\"lbfgs\",\n",
    "#                       momentum=0.9,\n",
    "                      batch_size=20,\n",
    "                      activation=\"identity\",\n",
    "                      hidden_layer_sizes=(100, 100, 100, 100, 100, 100, 100),\n",
    "                      learning_rate_init=1,\n",
    "                      learning_rate=\"constant\",\n",
    "#                       tol=1e-5,\n",
    "                      max_iter=2000,\n",
    "                      alpha=2,\n",
    "                      random_state=0\n",
    "                     )\n",
    "nnclf.fit(X_train, y_train)"
   ]
  },
  {
   "cell_type": "code",
   "execution_count": 537,
   "metadata": {},
   "outputs": [
    {
     "name": "stdout",
     "output_type": "stream",
     "text": [
      "Iris Data Set\n",
      "Accuracy of NN Classifier on training set: 0.991\n",
      "Accuracy of NN Classifier on test set: 0.974\n"
     ]
    },
    {
     "data": {
      "text/plain": [
       "335"
      ]
     },
     "execution_count": 537,
     "metadata": {},
     "output_type": "execute_result"
    }
   ],
   "source": [
    "print(\"Iris Data Set\")\n",
    "print(\"Accuracy of NN Classifier on training set: {:.3f}\".format(nnclf.score(X_train, y_train)))\n",
    "print(\"Accuracy of NN Classifier on test set: {:.3f}\".format(nnclf.score(X_test, y_test)))\n",
    "nnclf.n_iter_"
   ]
  },
  {
   "cell_type": "markdown",
   "metadata": {},
   "source": [
    "# Regression"
   ]
  },
  {
   "cell_type": "code",
   "execution_count": 538,
   "metadata": {},
   "outputs": [],
   "source": [
    "# Regression\n",
    "# MLPRegressor has same parameters as MLPClassifier\n",
    "# The major difference is MLPClassifier optimizes the log-loss function\n",
    "# whereas, MLPRegressor optimizes the squared-loss using LBFGS or stochastic gradient descent \n",
    "# (Note: adam is also a type of sgd)\n",
    "\n",
    "from sklearn.neural_network import MLPRegressor\n",
    "from sklearn.metrics import mean_squared_error, r2_score"
   ]
  },
  {
   "cell_type": "code",
   "execution_count": 539,
   "metadata": {},
   "outputs": [
    {
     "data": {
      "text/html": [
       "<div>\n",
       "<style scoped>\n",
       "    .dataframe tbody tr th:only-of-type {\n",
       "        vertical-align: middle;\n",
       "    }\n",
       "\n",
       "    .dataframe tbody tr th {\n",
       "        vertical-align: top;\n",
       "    }\n",
       "\n",
       "    .dataframe thead th {\n",
       "        text-align: right;\n",
       "    }\n",
       "</style>\n",
       "<table border=\"1\" class=\"dataframe\">\n",
       "  <thead>\n",
       "    <tr style=\"text-align: right;\">\n",
       "      <th></th>\n",
       "      <th>Unnamed: 0</th>\n",
       "      <th>mpg</th>\n",
       "      <th>cyl</th>\n",
       "      <th>disp</th>\n",
       "      <th>hp</th>\n",
       "      <th>drat</th>\n",
       "      <th>wt</th>\n",
       "      <th>qsec</th>\n",
       "      <th>vs</th>\n",
       "      <th>am</th>\n",
       "      <th>gear</th>\n",
       "      <th>carb</th>\n",
       "    </tr>\n",
       "  </thead>\n",
       "  <tbody>\n",
       "    <tr>\n",
       "      <th>0</th>\n",
       "      <td>Mazda RX4</td>\n",
       "      <td>21.0</td>\n",
       "      <td>6</td>\n",
       "      <td>160.0</td>\n",
       "      <td>110</td>\n",
       "      <td>3.90</td>\n",
       "      <td>2.620</td>\n",
       "      <td>16.46</td>\n",
       "      <td>0</td>\n",
       "      <td>1</td>\n",
       "      <td>4</td>\n",
       "      <td>4</td>\n",
       "    </tr>\n",
       "    <tr>\n",
       "      <th>1</th>\n",
       "      <td>Mazda RX4 Wag</td>\n",
       "      <td>21.0</td>\n",
       "      <td>6</td>\n",
       "      <td>160.0</td>\n",
       "      <td>110</td>\n",
       "      <td>3.90</td>\n",
       "      <td>2.875</td>\n",
       "      <td>17.02</td>\n",
       "      <td>0</td>\n",
       "      <td>1</td>\n",
       "      <td>4</td>\n",
       "      <td>4</td>\n",
       "    </tr>\n",
       "    <tr>\n",
       "      <th>2</th>\n",
       "      <td>Datsun 710</td>\n",
       "      <td>22.8</td>\n",
       "      <td>4</td>\n",
       "      <td>108.0</td>\n",
       "      <td>93</td>\n",
       "      <td>3.85</td>\n",
       "      <td>2.320</td>\n",
       "      <td>18.61</td>\n",
       "      <td>1</td>\n",
       "      <td>1</td>\n",
       "      <td>4</td>\n",
       "      <td>1</td>\n",
       "    </tr>\n",
       "    <tr>\n",
       "      <th>3</th>\n",
       "      <td>Hornet 4 Drive</td>\n",
       "      <td>21.4</td>\n",
       "      <td>6</td>\n",
       "      <td>258.0</td>\n",
       "      <td>110</td>\n",
       "      <td>3.08</td>\n",
       "      <td>3.215</td>\n",
       "      <td>19.44</td>\n",
       "      <td>1</td>\n",
       "      <td>0</td>\n",
       "      <td>3</td>\n",
       "      <td>1</td>\n",
       "    </tr>\n",
       "    <tr>\n",
       "      <th>4</th>\n",
       "      <td>Hornet Sportabout</td>\n",
       "      <td>18.7</td>\n",
       "      <td>8</td>\n",
       "      <td>360.0</td>\n",
       "      <td>175</td>\n",
       "      <td>3.15</td>\n",
       "      <td>3.440</td>\n",
       "      <td>17.02</td>\n",
       "      <td>0</td>\n",
       "      <td>0</td>\n",
       "      <td>3</td>\n",
       "      <td>2</td>\n",
       "    </tr>\n",
       "  </tbody>\n",
       "</table>\n",
       "</div>"
      ],
      "text/plain": [
       "          Unnamed: 0   mpg  cyl   disp   hp  drat     wt   qsec  vs  am  gear  \\\n",
       "0          Mazda RX4  21.0    6  160.0  110  3.90  2.620  16.46   0   1     4   \n",
       "1      Mazda RX4 Wag  21.0    6  160.0  110  3.90  2.875  17.02   0   1     4   \n",
       "2         Datsun 710  22.8    4  108.0   93  3.85  2.320  18.61   1   1     4   \n",
       "3     Hornet 4 Drive  21.4    6  258.0  110  3.08  3.215  19.44   1   0     3   \n",
       "4  Hornet Sportabout  18.7    8  360.0  175  3.15  3.440  17.02   0   0     3   \n",
       "\n",
       "   carb  \n",
       "0     4  \n",
       "1     4  \n",
       "2     1  \n",
       "3     1  \n",
       "4     2  "
      ]
     },
     "execution_count": 539,
     "metadata": {},
     "output_type": "execute_result"
    }
   ],
   "source": [
    "# Load Data Sets\n",
    "# mtcars data set\n",
    "cars = pd.read_csv(\"C:/Users/Admin/Documents/Datasets/mtcars.csv\")\n",
    "cars.head()"
   ]
  },
  {
   "cell_type": "code",
   "execution_count": 540,
   "metadata": {},
   "outputs": [
    {
     "data": {
      "text/html": [
       "<div>\n",
       "<style scoped>\n",
       "    .dataframe tbody tr th:only-of-type {\n",
       "        vertical-align: middle;\n",
       "    }\n",
       "\n",
       "    .dataframe tbody tr th {\n",
       "        vertical-align: top;\n",
       "    }\n",
       "\n",
       "    .dataframe thead th {\n",
       "        text-align: right;\n",
       "    }\n",
       "</style>\n",
       "<table border=\"1\" class=\"dataframe\">\n",
       "  <thead>\n",
       "    <tr style=\"text-align: right;\">\n",
       "      <th></th>\n",
       "      <th>mpg</th>\n",
       "      <th>cyl</th>\n",
       "      <th>disp</th>\n",
       "      <th>hp</th>\n",
       "      <th>drat</th>\n",
       "      <th>wt</th>\n",
       "      <th>qsec</th>\n",
       "      <th>vs</th>\n",
       "      <th>am</th>\n",
       "      <th>gear</th>\n",
       "      <th>carb</th>\n",
       "    </tr>\n",
       "    <tr>\n",
       "      <th>Unnamed: 0</th>\n",
       "      <th></th>\n",
       "      <th></th>\n",
       "      <th></th>\n",
       "      <th></th>\n",
       "      <th></th>\n",
       "      <th></th>\n",
       "      <th></th>\n",
       "      <th></th>\n",
       "      <th></th>\n",
       "      <th></th>\n",
       "      <th></th>\n",
       "    </tr>\n",
       "  </thead>\n",
       "  <tbody>\n",
       "    <tr>\n",
       "      <th>Mazda RX4</th>\n",
       "      <td>21.0</td>\n",
       "      <td>6</td>\n",
       "      <td>160.0</td>\n",
       "      <td>110</td>\n",
       "      <td>3.90</td>\n",
       "      <td>2.620</td>\n",
       "      <td>16.46</td>\n",
       "      <td>0</td>\n",
       "      <td>1</td>\n",
       "      <td>4</td>\n",
       "      <td>4</td>\n",
       "    </tr>\n",
       "    <tr>\n",
       "      <th>Mazda RX4 Wag</th>\n",
       "      <td>21.0</td>\n",
       "      <td>6</td>\n",
       "      <td>160.0</td>\n",
       "      <td>110</td>\n",
       "      <td>3.90</td>\n",
       "      <td>2.875</td>\n",
       "      <td>17.02</td>\n",
       "      <td>0</td>\n",
       "      <td>1</td>\n",
       "      <td>4</td>\n",
       "      <td>4</td>\n",
       "    </tr>\n",
       "    <tr>\n",
       "      <th>Datsun 710</th>\n",
       "      <td>22.8</td>\n",
       "      <td>4</td>\n",
       "      <td>108.0</td>\n",
       "      <td>93</td>\n",
       "      <td>3.85</td>\n",
       "      <td>2.320</td>\n",
       "      <td>18.61</td>\n",
       "      <td>1</td>\n",
       "      <td>1</td>\n",
       "      <td>4</td>\n",
       "      <td>1</td>\n",
       "    </tr>\n",
       "    <tr>\n",
       "      <th>Hornet 4 Drive</th>\n",
       "      <td>21.4</td>\n",
       "      <td>6</td>\n",
       "      <td>258.0</td>\n",
       "      <td>110</td>\n",
       "      <td>3.08</td>\n",
       "      <td>3.215</td>\n",
       "      <td>19.44</td>\n",
       "      <td>1</td>\n",
       "      <td>0</td>\n",
       "      <td>3</td>\n",
       "      <td>1</td>\n",
       "    </tr>\n",
       "    <tr>\n",
       "      <th>Hornet Sportabout</th>\n",
       "      <td>18.7</td>\n",
       "      <td>8</td>\n",
       "      <td>360.0</td>\n",
       "      <td>175</td>\n",
       "      <td>3.15</td>\n",
       "      <td>3.440</td>\n",
       "      <td>17.02</td>\n",
       "      <td>0</td>\n",
       "      <td>0</td>\n",
       "      <td>3</td>\n",
       "      <td>2</td>\n",
       "    </tr>\n",
       "  </tbody>\n",
       "</table>\n",
       "</div>"
      ],
      "text/plain": [
       "                    mpg  cyl   disp   hp  drat     wt   qsec  vs  am  gear  \\\n",
       "Unnamed: 0                                                                   \n",
       "Mazda RX4          21.0    6  160.0  110  3.90  2.620  16.46   0   1     4   \n",
       "Mazda RX4 Wag      21.0    6  160.0  110  3.90  2.875  17.02   0   1     4   \n",
       "Datsun 710         22.8    4  108.0   93  3.85  2.320  18.61   1   1     4   \n",
       "Hornet 4 Drive     21.4    6  258.0  110  3.08  3.215  19.44   1   0     3   \n",
       "Hornet Sportabout  18.7    8  360.0  175  3.15  3.440  17.02   0   0     3   \n",
       "\n",
       "                   carb  \n",
       "Unnamed: 0               \n",
       "Mazda RX4             4  \n",
       "Mazda RX4 Wag         4  \n",
       "Datsun 710            1  \n",
       "Hornet 4 Drive        1  \n",
       "Hornet Sportabout     2  "
      ]
     },
     "execution_count": 540,
     "metadata": {},
     "output_type": "execute_result"
    }
   ],
   "source": [
    "cars.set_index(keys=\"Unnamed: 0\", inplace=True)\n",
    "cars.head()"
   ]
  },
  {
   "cell_type": "code",
   "execution_count": 541,
   "metadata": {},
   "outputs": [],
   "source": [
    "cars[\"cyl\"] = cars[\"cyl\"].astype(\"category\")\n",
    "cars[\"am\"] = cars[\"am\"].astype(\"category\")"
   ]
  },
  {
   "cell_type": "code",
   "execution_count": 542,
   "metadata": {},
   "outputs": [],
   "source": [
    "y = cars[\"mpg\"]\n",
    "X = cars.iloc[:, 1:]"
   ]
  },
  {
   "cell_type": "code",
   "execution_count": 543,
   "metadata": {},
   "outputs": [
    {
     "name": "stdout",
     "output_type": "stream",
     "text": [
      "                  cyl   disp   hp  drat     wt   qsec  vs am  gear  carb\n",
      "Unnamed: 0                                                              \n",
      "Mazda RX4           6  160.0  110  3.90  2.620  16.46   0  1     4     4\n",
      "Mazda RX4 Wag       6  160.0  110  3.90  2.875  17.02   0  1     4     4\n",
      "Datsun 710          4  108.0   93  3.85  2.320  18.61   1  1     4     1\n",
      "Hornet 4 Drive      6  258.0  110  3.08  3.215  19.44   1  0     3     1\n",
      "Hornet Sportabout   8  360.0  175  3.15  3.440  17.02   0  0     3     2\n",
      "Unnamed: 0\n",
      "Mazda RX4            21.0\n",
      "Mazda RX4 Wag        21.0\n",
      "Datsun 710           22.8\n",
      "Hornet 4 Drive       21.4\n",
      "Hornet Sportabout    18.7\n",
      "Name: mpg, dtype: float64\n"
     ]
    }
   ],
   "source": [
    "print(X.head())\n",
    "print(y.head())"
   ]
  },
  {
   "cell_type": "code",
   "execution_count": 544,
   "metadata": {},
   "outputs": [],
   "source": [
    "from sklearn.model_selection import train_test_split\n",
    "X_train, X_test, y_train, y_test = train_test_split(X, y, test_size=0.25, random_state=0)"
   ]
  },
  {
   "cell_type": "code",
   "execution_count": 545,
   "metadata": {},
   "outputs": [
    {
     "name": "stderr",
     "output_type": "stream",
     "text": [
      "C:\\Users\\Admin\\Anaconda3\\lib\\site-packages\\sklearn\\neural_network\\_multilayer_perceptron.py:571: ConvergenceWarning: Stochastic Optimizer: Maximum iterations (8000) reached and the optimization hasn't converged yet.\n",
      "  % self.max_iter, ConvergenceWarning)\n"
     ]
    },
    {
     "data": {
      "text/plain": [
       "MLPRegressor(activation='relu', alpha=0.0001, batch_size='auto', beta_1=0.9,\n",
       "             beta_2=0.999, early_stopping=False, epsilon=1e-08,\n",
       "             hidden_layer_sizes=3, learning_rate='constant',\n",
       "             learning_rate_init=5e-05, max_fun=15000, max_iter=8000,\n",
       "             momentum=0.9, n_iter_no_change=10, nesterovs_momentum=True,\n",
       "             power_t=0.5, random_state=0, shuffle=True, solver='adam',\n",
       "             tol=0.0001, validation_fraction=0.1, verbose=False,\n",
       "             warm_start=False)"
      ]
     },
     "execution_count": 545,
     "metadata": {},
     "output_type": "execute_result"
    }
   ],
   "source": [
    "nnreg = MLPRegressor(solver=\"adam\",\n",
    "                     activation=\"relu\",\n",
    "                     hidden_layer_sizes=(3),\n",
    "                     learning_rate=\"constant\",\n",
    "                     learning_rate_init=0.00005,\n",
    "                     max_iter=8000,\n",
    "                     random_state=0\n",
    "                    )\n",
    "nnreg.fit(X_train, y_train)"
   ]
  },
  {
   "cell_type": "code",
   "execution_count": 546,
   "metadata": {
    "scrolled": true
   },
   "outputs": [
    {
     "name": "stdout",
     "output_type": "stream",
     "text": [
      "\n",
      "Weights matrix:\n",
      " [array([[ 0.11914063,  0.13783809,  0.32723064],\n",
      "       [-0.02383941,  0.01837512,  0.04739211],\n",
      "       [ 0.06227842,  0.37074972,  0.81979246],\n",
      "       [-0.01624542,  0.13719004,  0.32749513],\n",
      "       [ 0.07731423,  0.48330101, -0.46407392],\n",
      "       [-0.48462338, -0.89147706,  0.72236423],\n",
      "       [ 0.50551324,  0.19942386,  0.97954203],\n",
      "       [ 0.61722842, -0.35921993,  0.71285279],\n",
      "       [-0.33007738, -0.07162711, -0.19441294],\n",
      "       [ 0.81067212, -0.18930706,  0.1302123 ]]), array([[ 0.15155028],\n",
      "       [-1.02919118],\n",
      "       [ 0.44381026]])]\n"
     ]
    }
   ],
   "source": [
    "\n",
    "print(\"\\nWeights matrix:\\n\", nnreg.coefs_)"
   ]
  },
  {
   "cell_type": "code",
   "execution_count": 547,
   "metadata": {},
   "outputs": [
    {
     "name": "stdout",
     "output_type": "stream",
     "text": [
      "MTCars Data Set\n",
      "R2 of NN Regressor on training set: 0.459\n",
      "R2 of NN Regressor on test set: 0.315\n",
      "MSE: 14.385\n",
      "R-square: 0.315\n"
     ]
    }
   ],
   "source": [
    "print(\"MTCars Data Set\")\n",
    "print(\"R2 of NN Regressor on training set: {:.3f}\".format(nnreg.score(X_train, y_train)))\n",
    "print(\"R2 of NN Regressor on test set: {:.3f}\".format(nnreg.score(X_test, y_test)))\n",
    "print(\"MSE: {:.3f}\".format(mean_squared_error(y_test, nnreg.predict(X_test))))\n",
    "print(\"R-square: {:.3f}\".format(r2_score(y_test, nnreg.predict(X_test))))"
   ]
  },
  {
   "cell_type": "code",
   "execution_count": 548,
   "metadata": {},
   "outputs": [
    {
     "data": {
      "text/plain": [
       "8000"
      ]
     },
     "execution_count": 548,
     "metadata": {},
     "output_type": "execute_result"
    }
   ],
   "source": [
    "nnreg.n_iter_"
   ]
  },
  {
   "cell_type": "code",
   "execution_count": 620,
   "metadata": {},
   "outputs": [
    {
     "data": {
      "text/plain": [
       "MLPRegressor(activation='relu', alpha=25, batch_size='auto', beta_1=0.9,\n",
       "             beta_2=0.999, early_stopping=False, epsilon=1e-08,\n",
       "             hidden_layer_sizes=(7, 7), learning_rate='constant',\n",
       "             learning_rate_init=1, max_fun=15000, max_iter=6000, momentum=0.9,\n",
       "             n_iter_no_change=10, nesterovs_momentum=True, power_t=0.5,\n",
       "             random_state=0, shuffle=True, solver='lbfgs', tol=0.0001,\n",
       "             validation_fraction=0.1, verbose=False, warm_start=False)"
      ]
     },
     "execution_count": 620,
     "metadata": {},
     "output_type": "execute_result"
    }
   ],
   "source": [
    "# Effect of Regularization\n",
    "# lbfgs, logistic\n",
    "# nnreg = MLPRegressor(solver = 'lbfgs', activation = 'logistic',\n",
    "#                     hidden_layer_sizes = [7,7],\n",
    "#                     learning_rate = 'constant',\n",
    "#                     learning_rate_init = 0.01,\n",
    "#                     max_iter = 2000,\n",
    "#                     power_t = 0.9,\n",
    "#                     alpha = 10,\n",
    "#                     random_state=0).fit(X_train, y_train)\n",
    "\n",
    "nnreg = MLPRegressor(solver=\"lbfgs\",\n",
    "                     activation=\"relu\",\n",
    "                     hidden_layer_sizes=(7, 7),\n",
    "                     learning_rate=\"constant\",\n",
    "                     learning_rate_init=1,\n",
    "                     max_iter=6000,\n",
    "                     alpha=25,\n",
    "                     random_state=0\n",
    "                    )\n",
    "nnreg.fit(X_train, y_train)"
   ]
  },
  {
   "cell_type": "code",
   "execution_count": 621,
   "metadata": {},
   "outputs": [
    {
     "name": "stdout",
     "output_type": "stream",
     "text": [
      "MTCars Data Set\n",
      "R2 of NN Regressor on training set: 0.942\n",
      "R2 of NN Regressor on test set: 0.768\n",
      "MSE: 4.877\n",
      "R-square: 0.768\n"
     ]
    },
    {
     "data": {
      "text/plain": [
       "338"
      ]
     },
     "execution_count": 621,
     "metadata": {},
     "output_type": "execute_result"
    }
   ],
   "source": [
    "print(\"MTCars Data Set\")\n",
    "print(\"R2 of NN Regressor on training set: {:.3f}\".format(nnreg.score(X_train, y_train)))\n",
    "print(\"R2 of NN Regressor on test set: {:.3f}\".format(nnreg.score(X_test, y_test)))\n",
    "print(\"MSE: {:.3f}\".format(mean_squared_error(y_test, nnreg.predict(X_test))))\n",
    "print(\"R-square: {:.3f}\".format(r2_score(y_test, nnreg.predict(X_test))))\n",
    "nnreg.n_iter_"
   ]
  },
  {
   "cell_type": "code",
   "execution_count": 622,
   "metadata": {
    "scrolled": true
   },
   "outputs": [
    {
     "name": "stdout",
     "output_type": "stream",
     "text": [
      "Activation function at Output layer:  identity\n",
      "Number of Layers:  4\n",
      "Number of Outputs:  1\n",
      "Number of iterations for convergence:  338\n",
      "\n",
      "Weights matrix:\n",
      " [array([[ 0.0025532 , -0.07980003,  0.00414122,  0.13326338,  0.00201959,\n",
      "        -0.10013225,  0.0162007 ],\n",
      "       [-0.03929041,  0.22706156, -0.00469715,  0.11297915,  0.13121454,\n",
      "         0.33182696, -0.01415593],\n",
      "       [ 0.00872206, -0.1264967 , -0.01933455,  0.14730941,  0.1295552 ,\n",
      "         0.10605985,  0.09358177],\n",
      "       [ 0.01440131,  0.0070802 ,  0.01130494,  0.4300093 ,  0.03647944,\n",
      "        -0.41387736,  0.0933318 ],\n",
      "       [ 0.00183934, -0.20197878, -0.00948809, -0.35048684, -0.01841968,\n",
      "         0.34403529, -0.07890824],\n",
      "       [ 0.01396792, -0.68844119,  0.00471228,  0.55424774,  0.08560741,\n",
      "        -0.40091486,  0.04520249],\n",
      "       [ 0.00855547, -0.05515418,  0.00672047,  0.0684183 , -0.00247675,\n",
      "        -0.06501604, -0.00101086],\n",
      "       [-0.00468874,  0.06368821, -0.00247428,  0.27179059, -0.00388806,\n",
      "        -0.2424636 ,  0.02868277],\n",
      "       [ 0.00833878,  0.01838702, -0.00135763,  0.51147817,  0.0320011 ,\n",
      "        -0.47393363,  0.08090737],\n",
      "       [-0.01279649, -0.03277213, -0.0052902 , -0.10089244, -0.01180047,\n",
      "         0.11815292, -0.02771978]]), array([[-0.04635027, -0.00905279,  0.00168492,  0.00637235,  0.02075702,\n",
      "         0.00940243, -0.01484458],\n",
      "       [-0.1889318 , -0.01041833,  0.08441419, -0.00123171,  0.25647203,\n",
      "         0.51445009, -0.35296867],\n",
      "       [ 0.00743418, -0.01635073,  0.00960643, -0.00935183, -0.0140685 ,\n",
      "         0.00384177, -0.02131056],\n",
      "       [-0.05048644, -0.02199496,  0.05390363, -0.01656998,  0.41399181,\n",
      "         0.87898138, -0.35379687],\n",
      "       [ 0.09178331,  0.0040873 , -0.00340646, -0.01948055,  0.09775866,\n",
      "         0.13495277,  0.07831895],\n",
      "       [ 0.32142111, -0.00899521, -0.02702699, -0.00251147, -0.20943045,\n",
      "        -0.52950734,  0.60617912],\n",
      "       [ 0.04239211,  0.01000285,  0.05565905,  0.0237556 ,  0.06872898,\n",
      "         0.09025932,  0.00479912]]), array([[-0.32045872],\n",
      "       [ 0.00411008],\n",
      "       [ 0.10880115],\n",
      "       [-0.02360497],\n",
      "       [ 0.568616  ],\n",
      "       [ 1.19406528],\n",
      "       [-0.80304649]])]\n",
      "\n",
      "Biases:\n",
      " [array([ 0.55252367, -0.04623808,  0.56647658,  0.33665814,  0.29605972,\n",
      "       -0.68537452, -0.27365366]), array([-0.68907514, -0.25979955,  0.24862189, -0.26846507,  0.23918275,\n",
      "        0.05672124, -0.60991925]), array([0.9363255])]\n"
     ]
    }
   ],
   "source": [
    "print(\"Activation function at Output layer: \", nnreg.out_activation_)\n",
    "print(\"Number of Layers: \", nnreg.n_layers_)\n",
    "print(\"Number of Outputs: \", nnreg.n_outputs_)\n",
    "print(\"Number of iterations for convergence: \", nnreg.n_iter_)\n",
    "print(\"\\nWeights matrix:\\n\", nnreg.coefs_)\n",
    "print(\"\\nBiases:\\n\", nnreg.intercepts_)"
   ]
  },
  {
   "cell_type": "markdown",
   "metadata": {},
   "source": [
    "# Diverging Layers Example"
   ]
  },
  {
   "cell_type": "code",
   "execution_count": 219,
   "metadata": {},
   "outputs": [],
   "source": [
    "# sgd,relu,[70,70],learning_rate_init = 0.1 diverges\n",
    "nnreg = MLPRegressor(solver = 'sgd', activation = 'relu',\n",
    "                    hidden_layer_sizes = [70,70],\n",
    "                    learning_rate = 'constant',\n",
    "                    learning_rate_init = 0.1,\n",
    "                    random_state=0).fit(X_train, y_train)"
   ]
  },
  {
   "cell_type": "code",
   "execution_count": 220,
   "metadata": {},
   "outputs": [
    {
     "name": "stdout",
     "output_type": "stream",
     "text": [
      "MTCars Data Set\n",
      "R2 of NN Regressor on training set: -475687975948125371173522644763398824734631877138633797934113520288251510784.000\n",
      "R2 of NN Regressor on test set: -830851417972469460248783083074844260392281983407694103387076736910767423488.000\n",
      "MSE: 17444634264070407466771606290736913443223365640406552262354564155858233589760.000\n",
      "R-square: -830851417972469460248783083074844260392281983407694103387076736910767423488.000\n"
     ]
    },
    {
     "data": {
      "text/plain": [
       "12"
      ]
     },
     "execution_count": 220,
     "metadata": {},
     "output_type": "execute_result"
    }
   ],
   "source": [
    "print(\"MTCars Data Set\")\n",
    "print(\"R2 of NN Regressor on training set: {:.3f}\".format(nnreg.score(X_train, y_train)))\n",
    "print(\"R2 of NN Regressor on test set: {:.3f}\".format(nnreg.score(X_test, y_test)))\n",
    "print(\"MSE: {:.3f}\".format(mean_squared_error(y_test, nnreg.predict(X_test))))\n",
    "print(\"R-square: {:.3f}\".format(r2_score(y_test, nnreg.predict(X_test))))\n",
    "nnreg.n_iter_"
   ]
  },
  {
   "cell_type": "code",
   "execution_count": null,
   "metadata": {},
   "outputs": [],
   "source": []
  }
 ],
 "metadata": {
  "kernelspec": {
   "display_name": "Python 3",
   "language": "python",
   "name": "python3"
  },
  "language_info": {
   "codemirror_mode": {
    "name": "ipython",
    "version": 3
   },
   "file_extension": ".py",
   "mimetype": "text/x-python",
   "name": "python",
   "nbconvert_exporter": "python",
   "pygments_lexer": "ipython3",
   "version": "3.7.1"
  }
 },
 "nbformat": 4,
 "nbformat_minor": 4
}
