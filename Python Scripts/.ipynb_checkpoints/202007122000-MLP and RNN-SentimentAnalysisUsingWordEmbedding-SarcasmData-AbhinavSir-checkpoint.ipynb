{
 "cells": [
  {
   "cell_type": "code",
   "execution_count": null,
   "metadata": {},
   "outputs": [],
   "source": []
  },
  {
   "cell_type": "code",
   "execution_count": 2,
   "metadata": {},
   "outputs": [],
   "source": [
    "import json\n",
    "import requests\n",
    "url = \"https://storage.googleapis.com/laurencemoroney-blog.appspot.com/sarcasm.json\"\n",
    "response = requests.get(url)\n",
    "sarcasm_data = response.json()"
   ]
  },
  {
   "cell_type": "code",
   "execution_count": 4,
   "metadata": {},
   "outputs": [
    {
     "data": {
      "text/plain": [
       "{'article_link': 'https://www.huffingtonpost.com/entry/roseanne-revival-review_us_5ab3a497e4b054d118e04365',\n",
       " 'headline': \"the 'roseanne' revival catches up to our thorny political mood, for better and worse\",\n",
       " 'is_sarcastic': 0}"
      ]
     },
     "execution_count": 4,
     "metadata": {},
     "output_type": "execute_result"
    }
   ],
   "source": [
    "sarcasm_data[1]"
   ]
  },
  {
   "cell_type": "code",
   "execution_count": 6,
   "metadata": {},
   "outputs": [],
   "source": [
    "sentences = []\n",
    "labels = []\n",
    "links = []\n",
    "\n",
    "for item in sarcasm_data:\n",
    "    sentences.append(item['headline'])\n",
    "    labels.append(item['is_sarcastic'])\n",
    "    links.append(item['article_link'])"
   ]
  },
  {
   "cell_type": "code",
   "execution_count": 7,
   "metadata": {},
   "outputs": [
    {
     "name": "stdout",
     "output_type": "stream",
     "text": [
      "26709\n",
      "[\"former versace store clerk sues over secret 'black code' for minority shoppers\", \"the 'roseanne' revival catches up to our thorny political mood, for better and worse\", \"mom starting to fear son's web series closest thing she will have to grandchild\"]\n",
      "[0, 0, 1]\n",
      "['https://www.huffingtonpost.com/entry/versace-black-code_us_5861fbefe4b0de3a08f600d5', 'https://www.huffingtonpost.com/entry/roseanne-revival-review_us_5ab3a497e4b054d118e04365', 'https://local.theonion.com/mom-starting-to-fear-son-s-web-series-closest-thing-she-1819576697']\n"
     ]
    }
   ],
   "source": [
    "print(len(sentences))\n",
    "print(sentences[:3])\n",
    "print(labels[:3])\n",
    "print(links[:3])"
   ]
  },
  {
   "cell_type": "code",
   "execution_count": 8,
   "metadata": {},
   "outputs": [],
   "source": [
    "training_size = 20000"
   ]
  },
  {
   "cell_type": "code",
   "execution_count": 9,
   "metadata": {},
   "outputs": [],
   "source": [
    "# conver data into training and test sets\n",
    "training_sentences = sentences[:training_size]\n",
    "testing_sentences = sentences[training_size:]\n",
    "training_labels = labels[:training_size]\n",
    "testing_labels = labels[training_size:]"
   ]
  },
  {
   "cell_type": "code",
   "execution_count": 10,
   "metadata": {},
   "outputs": [
    {
     "name": "stdout",
     "output_type": "stream",
     "text": [
      "20000\n",
      "6709\n"
     ]
    }
   ],
   "source": [
    "print(len(training_labels))\n",
    "print(len(testing_labels))"
   ]
  },
  {
   "cell_type": "code",
   "execution_count": 11,
   "metadata": {},
   "outputs": [],
   "source": [
    "# Load Class/Function\n",
    "from tensorflow.keras.preprocessing.text import Tokenizer\n",
    "from tensorflow.keras.preprocessing.sequence import pad_sequences"
   ]
  },
  {
   "cell_type": "code",
   "execution_count": 12,
   "metadata": {},
   "outputs": [],
   "source": [
    "# Set Hyperparameters\n",
    "vocab_size = 10000\n",
    "embedding_dim = 16\n",
    "max_length = 32\n",
    "trunc_type = 'post'\n",
    "padding_type = 'post'\n",
    "oov_tok = \"OOV\""
   ]
  },
  {
   "cell_type": "code",
   "execution_count": 14,
   "metadata": {},
   "outputs": [],
   "source": [
    "import numpy as np\n",
    "# tokenizing and padding - preparing data for training\n",
    "\n",
    "tokenizer = Tokenizer(num_words = vocab_size, oov_token = oov_tok)\n",
    "tokenizer.fit_on_texts(training_sentences)\n",
    "word_index = tokenizer.word_index\n",
    "\n",
    "training_sequences = tokenizer.texts_to_sequences(training_sentences)\n",
    "training_padded = pad_sequences(training_sequences, maxlen = max_length,\n",
    "truncating = trunc_type)\n",
    "\n",
    "testing_sequences = tokenizer.texts_to_sequences(testing_sentences)\n",
    "testing_padded = pad_sequences(testing_sequences, maxlen = max_length,\n",
    "truncating = trunc_type)\n",
    "\n",
    "training_labels = np.array(training_labels)\n",
    "testing_labels = np.array(testing_labels)"
   ]
  },
  {
   "cell_type": "code",
   "execution_count": 16,
   "metadata": {
    "scrolled": false
   },
   "outputs": [
    {
     "name": "stdout",
     "output_type": "stream",
     "text": [
      "Original review:\n",
      "\n",
      " boehner just wants wife to listen, not come up with alternative debt-reduction ideas\n",
      " \n",
      "training sequences:\n",
      "\n",
      " [1252, 38, 213, 382, 2, 1572, 29, 288, 23, 10, 2405, 1446, 5651, 958]\n",
      " \n",
      "training padded:\n",
      "\n",
      " [   0    0    0    0    0    0    0    0    0    0    0    0    0    0\n",
      "    0    0    0    0 1252   38  213  382    2 1572   29  288   23   10\n",
      " 2405 1446 5651  958]\n",
      " \n",
      "Decoded review:\n",
      "\n",
      " ? ? ? ? ? ? ? ? ? ? ? ? ? ? ? ? ? ? boehner just wants wife to listen not come up with alternative debt reduction ideas\n",
      " \n",
      "Training Label:  1\n"
     ]
    }
   ],
   "source": [
    "reverse_word_index = dict([(value, key) for (key, value) in word_index.items()])\n",
    "\n",
    "def decode_review(text):\n",
    "    return ' '.join([reverse_word_index.get(i, '?') for i in text])\n",
    "\n",
    "print(\"Original review:\\n\\n\", training_sentences[3])\n",
    "print(' ')\n",
    "print(\"training sequences:\\n\\n\", training_sequences[3])\n",
    "print(' ')\n",
    "print(\"training padded:\\n\\n\", training_padded[3])\n",
    "print(' ')\n",
    "print(\"Decoded review:\\n\\n\", decode_review(training_padded[3]))\n",
    "print(' ')\n",
    "print(\"Training Label: \", training_labels[3])"
   ]
  },
  {
   "cell_type": "markdown",
   "metadata": {},
   "source": [
    "# No RNN here-- just like MLP -- described in last in the ppt - SentimentAnalysis using WordEmbeddings"
   ]
  },
  {
   "cell_type": "code",
   "execution_count": 21,
   "metadata": {},
   "outputs": [],
   "source": [
    "# Model instantiation - Embedding layer for Text embedding\n",
    "import tensorflow as tf\n",
    "model = tf.keras.Sequential([tf.keras.layers.Embedding(\n",
    "                                input_dim = vocab_size, output_dim = embedding_dim,\n",
    "                                input_length = max_length),\n",
    "                             tf.keras.layers.Flatten(),\n",
    "                             # tf.keras.layers.GlobalAveragePooling1D(),\n",
    "                             tf.keras.layers.Dense(24, activation = 'relu'),\n",
    "                             tf.keras.layers.Dense(1, activation = 'sigmoid')\n",
    "                            ])"
   ]
  },
  {
   "cell_type": "code",
   "execution_count": 22,
   "metadata": {},
   "outputs": [
    {
     "name": "stdout",
     "output_type": "stream",
     "text": [
      "Model: \"sequential_1\"\n",
      "_________________________________________________________________\n",
      "Layer (type)                 Output Shape              Param #   \n",
      "=================================================================\n",
      "embedding_1 (Embedding)      (None, 32, 16)            160000    \n",
      "_________________________________________________________________\n",
      "flatten_1 (Flatten)          (None, 512)               0         \n",
      "_________________________________________________________________\n",
      "dense_2 (Dense)              (None, 24)                12312     \n",
      "_________________________________________________________________\n",
      "dense_3 (Dense)              (None, 1)                 25        \n",
      "=================================================================\n",
      "Total params: 172,337\n",
      "Trainable params: 172,337\n",
      "Non-trainable params: 0\n",
      "_________________________________________________________________\n"
     ]
    }
   ],
   "source": [
    "# model summary\n",
    "model.summary()"
   ]
  },
  {
   "cell_type": "code",
   "execution_count": 23,
   "metadata": {},
   "outputs": [],
   "source": [
    "# Model compile\n",
    "model.compile(loss = 'binary_crossentropy',\n",
    "optimizer = 'adam',\n",
    "metrics = ['accuracy'])"
   ]
  },
  {
   "cell_type": "code",
   "execution_count": 24,
   "metadata": {
    "scrolled": true
   },
   "outputs": [
    {
     "name": "stdout",
     "output_type": "stream",
     "text": [
      "Train on 20000 samples, validate on 6709 samples\n",
      "Epoch 1/10\n",
      "20000/20000 [==============================] - 6s 289us/sample - loss: 0.4437 - accuracy: 0.7814 - val_loss: 0.3360 - val_accuracy: 0.8556\n",
      "Epoch 2/10\n",
      "20000/20000 [==============================] - 3s 170us/sample - loss: 0.2084 - accuracy: 0.9185 - val_loss: 0.3378 - val_accuracy: 0.8551\n",
      "Epoch 3/10\n",
      "20000/20000 [==============================] - 3s 151us/sample - loss: 0.0963 - accuracy: 0.9686 - val_loss: 0.4115 - val_accuracy: 0.8450\n",
      "Epoch 4/10\n",
      "20000/20000 [==============================] - 3s 140us/sample - loss: 0.0364 - accuracy: 0.9906 - val_loss: 0.4964 - val_accuracy: 0.8457\n",
      "Epoch 5/10\n",
      "20000/20000 [==============================] - 3s 174us/sample - loss: 0.0135 - accuracy: 0.9969 - val_loss: 0.5817 - val_accuracy: 0.8416\n",
      "Epoch 6/10\n",
      "20000/20000 [==============================] - 3s 169us/sample - loss: 0.0051 - accuracy: 0.9991 - val_loss: 0.6498 - val_accuracy: 0.8416\n",
      "Epoch 7/10\n",
      "20000/20000 [==============================] - 3s 129us/sample - loss: 0.0028 - accuracy: 0.9995 - val_loss: 0.7090 - val_accuracy: 0.8426\n",
      "Epoch 8/10\n",
      "20000/20000 [==============================] - 3s 133us/sample - loss: 0.0017 - accuracy: 0.9998 - val_loss: 0.7630 - val_accuracy: 0.8417\n",
      "Epoch 9/10\n",
      "20000/20000 [==============================] - 3s 135us/sample - loss: 0.0015 - accuracy: 0.9995 - val_loss: 0.8212 - val_accuracy: 0.8386\n",
      "Epoch 10/10\n",
      "20000/20000 [==============================] - 3s 160us/sample - loss: 0.0015 - accuracy: 0.9995 - val_loss: 0.8555 - val_accuracy: 0.8362\n"
     ]
    }
   ],
   "source": [
    "num_epochs = 10\n",
    "model_result = model.fit(training_padded,\n",
    "training_labels,\n",
    "epochs = num_epochs,\n",
    "validation_data = (testing_padded, testing_labels))"
   ]
  },
  {
   "cell_type": "code",
   "execution_count": 25,
   "metadata": {
    "scrolled": true
   },
   "outputs": [
    {
     "data": {
      "text/plain": [
       "{'loss': [0.44371591176986697,\n",
       "  0.20842800692915917,\n",
       "  0.09629674442112446,\n",
       "  0.036373466174677016,\n",
       "  0.013454765034280718,\n",
       "  0.005097595919435844,\n",
       "  0.0028205367202870546,\n",
       "  0.0016600298522622325,\n",
       "  0.0014910327459627297,\n",
       "  0.0015284062936261763],\n",
       " 'accuracy': [0.7814,\n",
       "  0.9185,\n",
       "  0.96855,\n",
       "  0.99065,\n",
       "  0.99695,\n",
       "  0.99905,\n",
       "  0.99955,\n",
       "  0.99975,\n",
       "  0.99945,\n",
       "  0.99955],\n",
       " 'val_loss': [0.3360332045434822,\n",
       "  0.33776874995956585,\n",
       "  0.4114680112580959,\n",
       "  0.4964267180926897,\n",
       "  0.5817084802470947,\n",
       "  0.6498346907049328,\n",
       "  0.7089887716982195,\n",
       "  0.7630323298374864,\n",
       "  0.8212017561678987,\n",
       "  0.8554517735020137],\n",
       " 'val_accuracy': [0.85556716,\n",
       "  0.85512,\n",
       "  0.84498435,\n",
       "  0.8457296,\n",
       "  0.84155613,\n",
       "  0.84155613,\n",
       "  0.8425995,\n",
       "  0.84170514,\n",
       "  0.83857507,\n",
       "  0.83619016]}"
      ]
     },
     "execution_count": 25,
     "metadata": {},
     "output_type": "execute_result"
    }
   ],
   "source": [
    "model_result.history"
   ]
  },
  {
   "cell_type": "code",
   "execution_count": 26,
   "metadata": {},
   "outputs": [
    {
     "name": "stdout",
     "output_type": "stream",
     "text": [
      "(10000, 16)\n"
     ]
    }
   ],
   "source": [
    "# trained embeddings\n",
    "e = model.layers[0]\n",
    "weights = e.get_weights()[0]\n",
    "print(weights.shape)"
   ]
  },
  {
   "cell_type": "code",
   "execution_count": 27,
   "metadata": {},
   "outputs": [
    {
     "data": {
      "text/plain": [
       "array([-0.04168708, -0.05735322, -0.04017018,  0.00772668,  0.0340828 ,\n",
       "        0.04734726, -0.0938622 , -0.00344958,  0.00614155, -0.07069272,\n",
       "        0.02877289,  0.01103411,  0.02739995,  0.02392498,  0.02853698,\n",
       "       -0.03440572], dtype=float32)"
      ]
     },
     "execution_count": 27,
     "metadata": {},
     "output_type": "execute_result"
    }
   ],
   "source": [
    "weights[0,:]"
   ]
  },
  {
   "cell_type": "code",
   "execution_count": 29,
   "metadata": {},
   "outputs": [],
   "source": [
    "import matplotlib.pyplot as plt\n",
    "\n",
    "def plot_graphs(history, string):\n",
    "    plt.figure()\n",
    "    plt.plot(history.history[string])\n",
    "    plt.plot(history.history['val_'+string])\n",
    "    plt.xlabel(\"Epochs\")\n",
    "    plt.ylabel(string)\n",
    "    plt.legend(['train_' + string, 'val_' + string])\n",
    "    plt.show()"
   ]
  },
  {
   "cell_type": "code",
   "execution_count": 30,
   "metadata": {
    "scrolled": true
   },
   "outputs": [
    {
     "data": {
      "image/png": "[encoded data removed]",
      "text/plain": [
       "<Figure size 432x288 with 1 Axes>"
      ]
     },
     "metadata": {
      "needs_background": "light"
     },
     "output_type": "display_data"
    },
    {
     "data": {
      "image/png": "[encoded data removed]",
      "text/plain": [
       "<Figure size 432x288 with 1 Axes>"
      ]
     },
     "metadata": {
      "needs_background": "light"
     },
     "output_type": "display_data"
    }
   ],
   "source": [
    "plot_graphs(model_result, \"accuracy\")\n",
    "plot_graphs(model_result, \"loss\")"
   ]
  },
  {
   "cell_type": "code",
   "execution_count": 31,
   "metadata": {},
   "outputs": [],
   "source": [
    "# predict on new headlines"
   ]
  },
  {
   "cell_type": "code",
   "execution_count": 67,
   "metadata": {},
   "outputs": [
    {
     "name": "stdout",
     "output_type": "stream",
     "text": [
      "[[3029, 11, 4, 99, 230, 5, 402, 848], [858, 107, 2, 150, 4758, 11, 27, 130, 27, 2547, 7, 170, 1632], [4, 3517, 234, 73, 108, 130, 28, 73, 58, 7491, 379, 1321, 9, 382], [856, 8289, 4354, 78, 1138, 20, 11, 46, 155, 69, 2317, 5293, 423, 94, 1339]]\n"
     ]
    }
   ],
   "source": [
    "sentence1 = \"Singing is the best job in music industry\"\n",
    "sentence2 = \"Asking him to work properly is as good as beating a dead horse\"\n",
    "sentence3 = \"The parliament debate was so good, it was like discussion between husband and wife\"\n",
    "sentence4 = \"Light travels faster than sound. This is why some people appear bright until they speak\"\n",
    "predict_sequence = tokenizer.texts_to_sequences([sentence1, sentence2, sentence3, sentence4])\n",
    "print(predict_sequence)"
   ]
  },
  {
   "cell_type": "code",
   "execution_count": 68,
   "metadata": {},
   "outputs": [
    {
     "name": "stdout",
     "output_type": "stream",
     "text": [
      "[[   0    0    0    0    0    0    0    0    0    0    0    0    0    0\n",
      "     0    0    0    0    0    0    0    0    0    0 3029   11    4   99\n",
      "   230    5  402  848]\n",
      " [   0    0    0    0    0    0    0    0    0    0    0    0    0    0\n",
      "     0    0    0    0    0  858  107    2  150 4758   11   27  130   27\n",
      "  2547    7  170 1632]\n",
      " [   0    0    0    0    0    0    0    0    0    0    0    0    0    0\n",
      "     0    0    0    0    4 3517  234   73  108  130   28   73   58 7491\n",
      "   379 1321    9  382]\n",
      " [   0    0    0    0    0    0    0    0    0    0    0    0    0    0\n",
      "     0    0    0  856 8289 4354   78 1138   20   11   46  155   69 2317\n",
      "  5293  423   94 1339]]\n"
     ]
    }
   ],
   "source": [
    "predict_padded = pad_sequences(predict_sequence, maxlen = max_length)\n",
    "print(predict_padded)"
   ]
  },
  {
   "cell_type": "code",
   "execution_count": 69,
   "metadata": {},
   "outputs": [
    {
     "data": {
      "text/plain": [
       "array([[1.4901161e-06],\n",
       "       [1.4241040e-03],\n",
       "       [9.9635100e-01],\n",
       "       [1.7881393e-07]], dtype=float32)"
      ]
     },
     "execution_count": 69,
     "metadata": {},
     "output_type": "execute_result"
    }
   ],
   "source": [
    "model.predict(predict_padded)"
   ]
  },
  {
   "cell_type": "code",
   "execution_count": 71,
   "metadata": {},
   "outputs": [],
   "source": [
    "import io"
   ]
  },
  {
   "cell_type": "code",
   "execution_count": 72,
   "metadata": {},
   "outputs": [],
   "source": [
    "# Tensor flow projector is used to visualize the word in a 3D space\n",
    "# We need to write vector and metadata output files for this\n",
    "# TensorFlow projectors read these file type and uses it to\n",
    "# plot the vectors in 3D space\n",
    "# Metadata file contains 'words' and vector file contains 'embeddings'\n",
    "# corresponding to these words\n",
    "\n",
    "out_v = io.open('vecs.tsv', 'w', encoding='utf-8')\n",
    "out_m = io.open('meta.tsv', 'w', encoding='utf-8')\n",
    "\n",
    "for word_num in range(1, vocab_size):\n",
    "    word = reverse_word_index[word_num]\n",
    "    embeddings = weights[word_num]\n",
    "    out_m.write(word + \"\\n\")\n",
    "    out_v.write('\\t'.join([str(x) for x in embeddings]) + \"\\n\")\n",
    "out_v.close()\n",
    "out_m.close()"
   ]
  },
  {
   "cell_type": "code",
   "execution_count": 73,
   "metadata": {},
   "outputs": [],
   "source": [
    "# https://projector.tensorflow.org/\n",
    "# use, word2vec 10K, load both files and click on spherical"
   ]
  },
  {
   "cell_type": "markdown",
   "metadata": {},
   "source": [
    "# ----------------Single Layer Simple RNN---------------------"
   ]
  },
  {
   "cell_type": "code",
   "execution_count": 75,
   "metadata": {},
   "outputs": [],
   "source": [
    "model = tf.keras.Sequential([\n",
    "        tf.keras.layers.Embedding(input_dim = vocab_size,\n",
    "        output_dim = embedding_dim,\n",
    "        input_length = max_length),\n",
    "        tf.keras.layers.SimpleRNN(units = 64, activation = 'tanh'),\n",
    "        tf.keras.layers.Dense(24, activation = 'relu'),\n",
    "        tf.keras.layers.Dense(1, activation = 'sigmoid'),\n",
    "    ])"
   ]
  },
  {
   "cell_type": "code",
   "execution_count": 76,
   "metadata": {},
   "outputs": [
    {
     "name": "stdout",
     "output_type": "stream",
     "text": [
      "Model: \"sequential_3\"\n",
      "_________________________________________________________________\n",
      "Layer (type)                 Output Shape              Param #   \n",
      "=================================================================\n",
      "embedding_3 (Embedding)      (None, 32, 16)            160000    \n",
      "_________________________________________________________________\n",
      "simple_rnn_1 (SimpleRNN)     (None, 64)                5184      \n",
      "_________________________________________________________________\n",
      "dense_6 (Dense)              (None, 24)                1560      \n",
      "_________________________________________________________________\n",
      "dense_7 (Dense)              (None, 1)                 25        \n",
      "=================================================================\n",
      "Total params: 166,769\n",
      "Trainable params: 166,769\n",
      "Non-trainable params: 0\n",
      "_________________________________________________________________\n"
     ]
    }
   ],
   "source": [
    "model.summary()"
   ]
  },
  {
   "cell_type": "code",
   "execution_count": 84,
   "metadata": {},
   "outputs": [],
   "source": [
    "model.compile(loss = 'binary_crossentropy', \n",
    "             optimizer = 'adam',\n",
    "             metrics = ['accuracy'])"
   ]
  },
  {
   "cell_type": "code",
   "execution_count": 85,
   "metadata": {},
   "outputs": [
    {
     "name": "stdout",
     "output_type": "stream",
     "text": [
      "Train on 20000 samples, validate on 6709 samples\n",
      "Epoch 1/10\n",
      "20000/20000 [==============================] - 26s 1ms/sample - loss: 0.6895 - accuracy: 0.5486 - val_loss: 0.6784 - val_accuracy: 0.5581\n",
      "Epoch 2/10\n",
      "20000/20000 [==============================] - 20s 1ms/sample - loss: 0.4258 - accuracy: 0.7958 - val_loss: 0.3813 - val_accuracy: 0.8325\n",
      "Epoch 3/10\n",
      "20000/20000 [==============================] - 18s 887us/sample - loss: 0.1466 - accuracy: 0.9462 - val_loss: 0.5068 - val_accuracy: 0.8024\n",
      "Epoch 4/10\n",
      "20000/20000 [==============================] - 19s 933us/sample - loss: 0.0426 - accuracy: 0.9863 - val_loss: 0.6966 - val_accuracy: 0.7895\n",
      "Epoch 5/10\n",
      "20000/20000 [==============================] - 18s 905us/sample - loss: 0.0180 - accuracy: 0.9944 - val_loss: 0.7761 - val_accuracy: 0.8156\n",
      "Epoch 6/10\n",
      "20000/20000 [==============================] - 19s 927us/sample - loss: 0.0095 - accuracy: 0.9970 - val_loss: 0.9303 - val_accuracy: 0.8000\n",
      "Epoch 7/10\n",
      "20000/20000 [==============================] - 19s 933us/sample - loss: 0.0066 - accuracy: 0.9981 - val_loss: 0.9839 - val_accuracy: 0.8131\n",
      "Epoch 8/10\n",
      "20000/20000 [==============================] - 19s 972us/sample - loss: 0.0073 - accuracy: 0.9973 - val_loss: 1.0788 - val_accuracy: 0.7854\n",
      "Epoch 9/10\n",
      "20000/20000 [==============================] - 21s 1ms/sample - loss: 0.0150 - accuracy: 0.9944 - val_loss: 0.9530 - val_accuracy: 0.8076\n",
      "Epoch 10/10\n",
      "20000/20000 [==============================] - 21s 1ms/sample - loss: 0.0063 - accuracy: 0.9978 - val_loss: 1.0956 - val_accuracy: 0.8109\n"
     ]
    },
    {
     "data": {
      "text/plain": [
       "<tensorflow.python.keras.callbacks.History at 0x27d6003b978>"
      ]
     },
     "execution_count": 85,
     "metadata": {},
     "output_type": "execute_result"
    }
   ],
   "source": [
    "num_epochs = 10\n",
    "model.fit(training_padded,\n",
    "         training_labels,\n",
    "         epochs = num_epochs,\n",
    "         validation_data = (testing_padded, testing_labels))"
   ]
  },
  {
   "cell_type": "code",
   "execution_count": 86,
   "metadata": {},
   "outputs": [
    {
     "data": {
      "text/plain": [
       "array([[3.2949448e-04],\n",
       "       [1.0102987e-05],\n",
       "       [9.9999547e-01],\n",
       "       [9.5844269e-05]], dtype=float32)"
      ]
     },
     "execution_count": 86,
     "metadata": {},
     "output_type": "execute_result"
    }
   ],
   "source": [
    "model.predict(predict_padded)"
   ]
  },
  {
   "cell_type": "markdown",
   "metadata": {},
   "source": [
    "# -----------Single layer simple bidirectional-------------------"
   ]
  },
  {
   "cell_type": "code",
   "execution_count": 79,
   "metadata": {},
   "outputs": [],
   "source": [
    "# Model instantiation - Embedding layer for Text embedding\n",
    "\n",
    "model = tf.keras.Sequential([\n",
    "        tf.keras.layers.Embedding(input_dim = vocab_size,\n",
    "        output_dim = embedding_dim,\n",
    "        input_length = max_length),\n",
    "        tf.keras.layers.Bidirectional(tf.keras.layers.SimpleRNN(units = 64)),\n",
    "        tf.keras.layers.Dense(24, activation = 'relu'),\n",
    "        tf.keras.layers.Dense(1, activation = 'sigmoid'),\n",
    "    ])"
   ]
  },
  {
   "cell_type": "code",
   "execution_count": 80,
   "metadata": {},
   "outputs": [
    {
     "name": "stdout",
     "output_type": "stream",
     "text": [
      "Model: \"sequential_5\"\n",
      "_________________________________________________________________\n",
      "Layer (type)                 Output Shape              Param #   \n",
      "=================================================================\n",
      "embedding_5 (Embedding)      (None, 32, 16)            160000    \n",
      "_________________________________________________________________\n",
      "bidirectional_1 (Bidirection (None, 128)               10368     \n",
      "_________________________________________________________________\n",
      "dense_10 (Dense)             (None, 24)                3096      \n",
      "_________________________________________________________________\n",
      "dense_11 (Dense)             (None, 1)                 25        \n",
      "=================================================================\n",
      "Total params: 173,489\n",
      "Trainable params: 173,489\n",
      "Non-trainable params: 0\n",
      "_________________________________________________________________\n"
     ]
    }
   ],
   "source": [
    "model.summary()"
   ]
  },
  {
   "cell_type": "markdown",
   "metadata": {},
   "source": [
    "# ------------multilayer simple---------------------------\n",
    "#return_sequences = True ensures output of one layer matches with the input of next one"
   ]
  },
  {
   "cell_type": "code",
   "execution_count": 82,
   "metadata": {},
   "outputs": [],
   "source": [
    "model = tf.keras.Sequential([\n",
    "        tf.keras.layers.Embedding(input_dim = vocab_size,\n",
    "        output_dim = embedding_dim,\n",
    "        input_length = max_length),\n",
    "        tf.keras.layers.SimpleRNN(units = 64, return_sequences = True),\n",
    "        tf.keras.layers.SimpleRNN(units = 32),\n",
    "        tf.keras.layers.Dense(24, activation = 'relu'),\n",
    "        tf.keras.layers.Dense(1, activation = 'sigmoid'),\n",
    "    ])"
   ]
  },
  {
   "cell_type": "code",
   "execution_count": null,
   "metadata": {},
   "outputs": [],
   "source": []
  }
 ],
 "metadata": {
  "kernelspec": {
   "display_name": "Python 3",
   "language": "python",
   "name": "python3"
  },
  "language_info": {
   "codemirror_mode": {
    "name": "ipython",
    "version": 3
   },
   "file_extension": ".py",
   "mimetype": "text/x-python",
   "name": "python",
   "nbconvert_exporter": "python",
   "pygments_lexer": "ipython3",
   "version": "3.7.1"
  }
 },
 "nbformat": 4,
 "nbformat_minor": 4
}
