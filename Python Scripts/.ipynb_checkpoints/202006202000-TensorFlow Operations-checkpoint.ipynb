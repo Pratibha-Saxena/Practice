{
 "cells": [
  {
   "cell_type": "code",
   "execution_count": null,
   "metadata": {},
   "outputs": [],
   "source": [
    "# TensorFlow's eager execution is an imperative programming environment that ...."
   ]
  },
  {
   "cell_type": "code",
   "execution_count": 1,
   "metadata": {},
   "outputs": [
    {
     "name": "stderr",
     "output_type": "stream",
     "text": [
      "Using TensorFlow backend.\n"
     ]
    }
   ],
   "source": [
    "import numpy as np\n",
    "import pandas as pd\n",
    "import matplotlib as mp\n",
    "import matplotlib.pyplot as plt\n",
    "%matplotlib notebook\n",
    "import tensorflow as tf\n",
    "import keras"
   ]
  },
  {
   "cell_type": "code",
   "execution_count": 2,
   "metadata": {},
   "outputs": [
    {
     "data": {
      "text/plain": [
       "True"
      ]
     },
     "execution_count": 2,
     "metadata": {},
     "output_type": "execute_result"
    }
   ],
   "source": [
    "# following checks if tf is on eager execution mode\n",
    "tf.executing_eagerly()"
   ]
  },
  {
   "cell_type": "code",
   "execution_count": 3,
   "metadata": {},
   "outputs": [
    {
     "name": "stdout",
     "output_type": "stream",
     "text": [
      "tf.Tensor(1, shape=(), dtype=int32)\n"
     ]
    }
   ],
   "source": [
    "# 0 d tensor -- scalar\n",
    "a = tf.constant(1)\n",
    "print(a)"
   ]
  },
  {
   "cell_type": "code",
   "execution_count": 4,
   "metadata": {},
   "outputs": [
    {
     "name": "stdout",
     "output_type": "stream",
     "text": [
      "tf.Tensor([1], shape=(1,), dtype=int32)\n"
     ]
    }
   ],
   "source": [
    "# 1 d tensor\n",
    "d = tf.constant([1])\n",
    "print(d)"
   ]
  },
  {
   "cell_type": "code",
   "execution_count": 5,
   "metadata": {},
   "outputs": [
    {
     "name": "stdout",
     "output_type": "stream",
     "text": [
      "a:  tf.Tensor([1 2 3], shape=(3,), dtype=int32)\n",
      "b:  tf.Tensor([4 5 6], shape=(3,), dtype=int32)\n",
      "add(a+b):  tf.Tensor([5 7 9], shape=(3,), dtype=int32)\n",
      "subtract(a-b):  tf.Tensor([-3 -3 -3], shape=(3,), dtype=int32)\n",
      "multiply(a*b):  tf.Tensor([ 4 10 18], shape=(3,), dtype=int32)\n",
      "divide(a/b): tf.Tensor([0.25 0.4  0.5 ], shape=(3,), dtype=float64)\n"
     ]
    }
   ],
   "source": [
    "# 1 d tensor\n",
    "a = tf.constant([1,2,3])\n",
    "b = tf.constant([4,5,6])\n",
    "c = tf.add(a,b)\n",
    "d = tf.subtract(a,b)\n",
    "e = tf.multiply(a,b)\n",
    "f = tf.divide(a,b)\n",
    "print(\"a: \", a)\n",
    "print(\"b: \", b)\n",
    "print(\"add(a+b): \", c)\n",
    "print(\"subtract(a-b): \", d)\n",
    "print(\"multiply(a*b): \", e)\n",
    "print(\"divide(a/b):\", f)"
   ]
  },
  {
   "cell_type": "code",
   "execution_count": 6,
   "metadata": {},
   "outputs": [
    {
     "name": "stdout",
     "output_type": "stream",
     "text": [
      "tf.Tensor([[1]], shape=(1, 1), dtype=int32)\n"
     ]
    }
   ],
   "source": [
    "# 2 d tensor\n",
    "a = tf.constant([[1]])\n",
    "print(a)"
   ]
  },
  {
   "cell_type": "code",
   "execution_count": 11,
   "metadata": {},
   "outputs": [
    {
     "name": "stdout",
     "output_type": "stream",
     "text": [
      "tf.Tensor(\n",
      "[[ 1  2]\n",
      " [-3 -2]], shape=(2, 2), dtype=int32)\n"
     ]
    }
   ],
   "source": [
    "# 2 d tensor\n",
    "b = tf.constant([[1, 2],\n",
    "                 [-3, -2]])\n",
    "print(b)"
   ]
  },
  {
   "cell_type": "code",
   "execution_count": 12,
   "metadata": {},
   "outputs": [
    {
     "name": "stdout",
     "output_type": "stream",
     "text": [
      "tf.Tensor(\n",
      "[[ 3  4]\n",
      " [-1  0]], shape=(2, 2), dtype=int32)\n"
     ]
    }
   ],
   "source": [
    "# broadcasting\n",
    "c = tf.add(b,2)\n",
    "print(c)"
   ]
  },
  {
   "cell_type": "code",
   "execution_count": 14,
   "metadata": {},
   "outputs": [
    {
     "name": "stdout",
     "output_type": "stream",
     "text": [
      "b+c: \n",
      " tf.Tensor(\n",
      "[[ 4  6]\n",
      " [-4 -2]], shape=(2, 2), dtype=int32)\n",
      "\n",
      "b*c: \n",
      " tf.Tensor(\n",
      "[[3 8]\n",
      " [3 0]], shape=(2, 2), dtype=int32)\n"
     ]
    }
   ],
   "source": [
    "# operator overloading is supported\n",
    "# operator will switch the operation acc to the context\n",
    "# here, it is adding two tensors element-wise instead of generally adding two numbers\n",
    "print(\"b+c: \\n\", b + c)\n",
    "print(\"\\nb*c: \\n\", b * c) # elementwise multiplication"
   ]
  },
  {
   "cell_type": "code",
   "execution_count": 21,
   "metadata": {},
   "outputs": [
    {
     "name": "stdout",
     "output_type": "stream",
     "text": [
      "1\n",
      "[2, 3, 4]\n",
      "[[2. 3.]\n",
      " [4. 5.]]\n",
      "tf.Tensor(1, shape=(), dtype=int32)\n",
      "tf.Tensor([2. 3. 4.], shape=(3,), dtype=float32)\n",
      "tf.Tensor(\n",
      "[[2 3]\n",
      " [4 5]], shape=(2, 2), dtype=int32)\n"
     ]
    }
   ],
   "source": [
    "# other data types can be converted to tensor for further use\n",
    "# It accepts Tensor objects, numpy arrays, Python lists, and Python scalars\n",
    "\n",
    "# Always remember, while converting from float to int, the decimal part is truncated and not rounded off\n",
    "a = 1\n",
    "b = [2,3,4]\n",
    "c = np.array([[2.0,3.0],\n",
    "              [4.0,5.0]])\n",
    "d = tf.convert_to_tensor(a, dtype = tf.int32)\n",
    "e = tf.convert_to_tensor(b, dtype = tf.float32)\n",
    "f = tf.convert_to_tensor(c, dtype = tf.int32)\n",
    "print(a)\n",
    "print(b)\n",
    "print(c)\n",
    "print(d)\n",
    "print(e)\n",
    "print(f)"
   ]
  },
  {
   "cell_type": "code",
   "execution_count": 22,
   "metadata": {},
   "outputs": [
    {
     "name": "stdout",
     "output_type": "stream",
     "text": [
      "tf.Tensor(\n",
      "[[2 3]\n",
      " [4 5]], shape=(2, 2), dtype=int32)\n",
      " \n",
      "[[2 3]\n",
      " [4 5]]\n"
     ]
    }
   ],
   "source": [
    "# obtain numpy value from tensor\n",
    "print(f)\n",
    "print(' ')\n",
    "print(f.numpy())"
   ]
  },
  {
   "cell_type": "code",
   "execution_count": 23,
   "metadata": {
    "scrolled": true
   },
   "outputs": [
    {
     "name": "stdout",
     "output_type": "stream",
     "text": [
      "before conversion:\n",
      " tf.Tensor(\n",
      "[[2 3]\n",
      " [4 5]], shape=(2, 2), dtype=int32)\n",
      "\n",
      "after conversion:\n",
      " tf.Tensor(\n",
      "[[2. 3.]\n",
      " [4. 5.]], shape=(2, 2), dtype=float32)\n",
      "\n",
      "after adding 0.99:\n",
      " tf.Tensor(\n",
      "[[2.99 3.99]\n",
      " [4.99 5.99]], shape=(2, 2), dtype=float32)\n",
      "\n",
      "after rounding:\n",
      " tf.Tensor(\n",
      "[[3. 4.]\n",
      " [5. 6.]], shape=(2, 2), dtype=float32)\n",
      "\n",
      "after converting back to int:\n",
      " tf.Tensor(\n",
      "[[2 3]\n",
      " [4 5]], shape=(2, 2), dtype=int32)\n"
     ]
    }
   ],
   "source": [
    "# converting to other datatypes using tf.cast\n",
    "print(\"before conversion:\\n\", f)\n",
    "f = tf.cast(f,tf.float32)\n",
    "print(\"\\nafter conversion:\\n\", f)\n",
    "f = tf.add(f, 0.99)\n",
    "print(\"\\nafter adding 0.99:\\n\", f)\n",
    "# tf.round: Rounds the values of a tensor to the nearest integer, element-wise\n",
    "f1 = tf.round(f)\n",
    "print(\"\\nafter rounding:\\n\", f1)\n",
    "f = tf.cast(f, tf.int32)\n",
    "print(\"\\nafter converting back to int:\\n\", f)  # decimal values gets truncated "
   ]
  },
  {
   "cell_type": "code",
   "execution_count": 28,
   "metadata": {
    "scrolled": true
   },
   "outputs": [
    {
     "name": "stdout",
     "output_type": "stream",
     "text": [
      "number to string: \n",
      "\n",
      " [[b'2' b'3']\n",
      " [b'4' b'5']]\n",
      "\n",
      "string to number(int): \n",
      "\n",
      " tf.Tensor(\n",
      "[[2 3]\n",
      " [4 5]], shape=(2, 2), dtype=int32)\n",
      "\n",
      "string to number(float): \n",
      "\n",
      " tf.Tensor(\n",
      "[[2. 3.]\n",
      " [4. 5.]], shape=(2, 2), dtype=float32)\n"
     ]
    }
   ],
   "source": [
    "#convert number to string. b stands for byte string\n",
    "f2 = tf.as_string(f).numpy()\n",
    "# f2 = tf.as_string(f)\n",
    "print(\"number to string: \\n\\n\", f2)\n",
    "\n",
    "f3 = tf.strings.to_number(f2, out_type = tf.int32)\n",
    "print(\"\\nstring to number(int): \\n\\n\", f3)\n",
    "\n",
    "f4 = tf.strings.to_number(f2, out_type = tf.float32)\n",
    "print(\"\\nstring to number(float): \\n\\n\", f4)"
   ]
  },
  {
   "cell_type": "code",
   "execution_count": 29,
   "metadata": {
    "scrolled": true
   },
   "outputs": [
    {
     "name": "stdout",
     "output_type": "stream",
     "text": [
      "Matrix Multiplication(m):\n",
      "\n",
      " tf.Tensor(\n",
      "[[-5 -2]\n",
      " [ 3 -2]], shape=(2, 2), dtype=int32)\n",
      "\n",
      "Square: \n",
      "\n",
      " tf.Tensor(\n",
      "[[25  4]\n",
      " [ 9  4]], shape=(2, 2), dtype=int32)\n",
      "\n",
      "Absolute (positive) values: \n",
      "\n",
      " tf.Tensor(\n",
      "[[5 2]\n",
      " [3 2]], shape=(2, 2), dtype=int32)\n",
      "\n",
      "Reduce Sum (m): \n",
      "\n",
      " tf.Tensor(-6, shape=(), dtype=int32)\n",
      "\n",
      "Reduce prod (m): \n",
      "\n",
      " tf.Tensor(-60, shape=(), dtype=int32)\n"
     ]
    }
   ],
   "source": [
    "# OTHER COMMON FUNCTIONS\n",
    "\n",
    "b = tf.constant([[1, 2],\n",
    "                 [-3, -2]])\n",
    "\n",
    "# matrix multiplication\n",
    "m = tf.matmul(b, b)\n",
    "print(\"Matrix Multiplication(m):\\n\\n\", m)\n",
    "\n",
    "# square\n",
    "m2 = tf.square(m)\n",
    "print(\"\\nSquare: \\n\\n\", m2)\n",
    "\n",
    "# abs\n",
    "print(\"\\nAbsolute (positive) values: \\n\\n\", tf.abs(m))\n",
    "\n",
    "# reduce sum: Sum all values in a tensor\n",
    "print(\"\\nReduce Sum (m): \\n\\n\", tf.reduce_sum(m))\n",
    "\n",
    "# reduce prod\n",
    "print(\"\\nReduce prod (m): \\n\\n\", tf.reduce_prod(m))"
   ]
  },
  {
   "cell_type": "code",
   "execution_count": 30,
   "metadata": {},
   "outputs": [
    {
     "name": "stdout",
     "output_type": "stream",
     "text": [
      "tf.Tensor(\n",
      "[[-5 -2]\n",
      " [ 3 -2]\n",
      " [25  4]\n",
      " [ 9  4]], shape=(4, 2), dtype=int32)\n",
      "tf.Tensor(\n",
      "[[-5 -2 25  4]\n",
      " [ 3 -2  9  4]], shape=(2, 4), dtype=int32)\n"
     ]
    }
   ],
   "source": [
    "#concat(): Concatenates tensors along one dimension\n",
    "# 0 - concatenate as rows (concat virtically)\n",
    "mv = tf.concat([m,m2],0)\n",
    "print(mv)\n",
    "\n",
    "# 1- concatenate as columns (concat horizontally)\n",
    "mh = tf.concat([m,m2],1)\n",
    "print(mh)"
   ]
  },
  {
   "cell_type": "code",
   "execution_count": 39,
   "metadata": {
    "scrolled": true
   },
   "outputs": [
    {
     "name": "stdout",
     "output_type": "stream",
     "text": [
      "\n",
      "Square Root(m): \n",
      "\n",
      " tf.Tensor(\n",
      "[[      nan       nan]\n",
      " [1.7320508       nan]], shape=(2, 2), dtype=float32)\n",
      "\n",
      "Square Root abs(m): \n",
      "\n",
      " tf.Tensor(\n",
      "[[2.236068  1.4142134]\n",
      " [1.7320508 1.4142134]], shape=(2, 2), dtype=float32)\n",
      "\n",
      "Square Root abs(m) \n",
      "result converted to int \n",
      "decimal values are truncated: \n",
      "\n",
      " tf.Tensor(\n",
      "[[2 1]\n",
      " [1 1]], shape=(2, 2), dtype=int32)\n",
      "\n",
      "argmax: \n",
      "\n",
      " tf.Tensor([2 2], shape=(2,), dtype=int64)\n",
      "\n",
      "argmax(0 - column wise): \n",
      "\n",
      " tf.Tensor([2 2], shape=(2,), dtype=int64)\n",
      "\n",
      "argmax(1 - row wise): \n",
      "\n",
      " tf.Tensor([1 0 0 0], shape=(4,), dtype=int64)\n",
      "\n",
      "argmin: \n",
      "\n",
      " tf.Tensor([0 0], shape=(2,), dtype=int64)\n",
      "\n",
      "maximum(m,abs(m)): \n",
      " tf.Tensor(\n",
      "[[5 2]\n",
      " [3 2]], shape=(2, 2), dtype=int32)\n",
      "\n",
      "minimum(m,abs(m)): \n",
      " tf.Tensor(\n",
      "[[-5 -2]\n",
      " [ 3 -2]], shape=(2, 2), dtype=int32)\n"
     ]
    }
   ],
   "source": [
    "# OTHER COMMON FUNCTIONS\n",
    "\n",
    "# square root\n",
    "# cast converts between numbers int to float etc\n",
    "# print(\"\\nSquare Root: \\n\\n\", tf.sqrt(m)) # gives error bcoz sqrt requires float param\n",
    "print(\"\\nSquare Root(m): \\n\\n\", tf.sqrt(tf.cast(m, tf.float32)))\n",
    "print(\"\\nSquare Root abs(m): \\n\\n\", tf.sqrt(tf.cast(tf.abs(m), tf.float32)))\n",
    "print(\"\\nSquare Root abs(m) \\nresult converted to int \\ndecimal values are truncated: \\n\\n\"\\\n",
    "      , tf.cast(tf.sqrt(tf.cast(tf.abs(m), tf.float32)),tf.int32))\n",
    "\n",
    "# argmax: Returns the index with the largest value across axes of a tensor (default axis 0 - colwise)\n",
    "# argmin: Returns the index with the smallest value across axes of a tensor (default axis 0 - colwise)\n",
    "print(\"\\nargmax: \\n\\n\", tf.argmax(mv))\n",
    "print(\"\\nargmax(0 - column wise): \\n\\n\", tf.argmax(mv,0))\n",
    "print(\"\\nargmax(1 - row wise): \\n\\n\", tf.argmax(mv,1))\n",
    "print(\"\\nargmin: \\n\\n\", tf.argmin(mv))\n",
    "\n",
    "# max and min value: Returns the max or min of x and y element wise\n",
    "print(\"\\nmaximum(m,abs(m)): \\n\", tf.maximum(m,tf.abs(m)))\n",
    "print(\"\\nminimum(m,abs(m)): \\n\", tf.minimum(m,tf.abs(m)))"
   ]
  },
  {
   "cell_type": "code",
   "execution_count": 32,
   "metadata": {
    "scrolled": true
   },
   "outputs": [
    {
     "name": "stdout",
     "output_type": "stream",
     "text": [
      "\n",
      "exp(m): \n",
      "\n",
      " tf.Tensor(\n",
      "[[6.7379470e-03 1.3533528e-01]\n",
      " [2.0085537e+01 1.3533528e-01]], shape=(2, 2), dtype=float32)\n",
      "\n",
      "linspace: \n",
      "\n",
      " tf.Tensor([ 2.  3.  4.  5.  6.  7.  8.  9. 10.], shape=(9,), dtype=float32)\n",
      "\n",
      "negative: \n",
      "\n",
      " tf.Tensor([-2  3 -4], shape=(3,), dtype=int32)\n",
      "\n",
      "range from 1 to 10: \n",
      "\n",
      " tf.Tensor([ 1  2  3  4  5  6  7  8  9 10], shape=(10,), dtype=int32)\n",
      "\n",
      "pow: \n",
      " tf.Tensor([ 8 16], shape=(2,), dtype=int32)\n",
      "\n",
      "pow: \n",
      " tf.Tensor([ 8 81], shape=(2,), dtype=int32)\n",
      "\n",
      "pow: \n",
      " tf.Tensor(\n",
      "[[ 8 16]\n",
      " [27 81]], shape=(2, 2), dtype=int32)\n",
      "\n",
      "rank: \n",
      "\n",
      " tf.Tensor(2, shape=(), dtype=int32)\n",
      "\n",
      "shape: \n",
      "\n",
      " tf.Tensor([4 2], shape=(2,), dtype=int32)\n",
      "\n",
      "mv[4,2]: \n",
      "\n",
      " tf.Tensor(\n",
      "[[-5 -2]\n",
      " [ 3 -2]\n",
      " [25  4]\n",
      " [ 9  4]], shape=(4, 2), dtype=int32)\n",
      "\n",
      "reshaped mv[2,4]: \n",
      "\n",
      " tf.Tensor(\n",
      "[[-5 -2  3 -2]\n",
      " [25  4  9  4]], shape=(2, 4), dtype=int32)\n",
      "\n",
      "sign(m): \n",
      "\n",
      " tf.Tensor(\n",
      "[[-1 -1]\n",
      " [ 1 -1]], shape=(2, 2), dtype=int32)\n",
      "\n",
      "sin(pi/2,pi/3,pi/4,pi/5,pi/6,0): \n",
      "\n",
      " tf.Tensor([1.         0.86602545 0.70710677 0.58778524 0.5        0.        ], shape=(6,), dtype=float32)\n",
      "\n",
      "size(mv): \n",
      "\n",
      " tf.Tensor(8, shape=(), dtype=int32)\n",
      "\n",
      "a:  [1, 10, 26.9, 2.8, 166.32, 62.3]\n",
      "sorted ascending:  tf.Tensor([  1.     2.8   10.    26.9   62.3  166.32], shape=(6,), dtype=float32)\n",
      "sorted descending:  tf.Tensor([166.32  62.3   26.9   10.     2.8    1.  ], shape=(6,), dtype=float32)\n",
      "\n",
      "a:  tf.Tensor(\n",
      "[[2 6]\n",
      " [5 4]], shape=(2, 2), dtype=int32)\n",
      "sorted ascending:  tf.Tensor(\n",
      "[[2 4]\n",
      " [5 6]], shape=(2, 2), dtype=int32)\n",
      "sorted descending:  tf.Tensor(\n",
      "[[6 2]\n",
      " [5 4]], shape=(2, 2), dtype=int32)\n"
     ]
    }
   ],
   "source": [
    "# OTHER COMMON FUNCTIONS\n",
    "# exp()\n",
    "print(\"\\nexp(m): \\n\\n\", tf.exp(tf.cast(m, tf.float32)))\n",
    "\n",
    "# tf.linspace(...): Generates values in an interval\n",
    "print(\"\\nlinspace: \\n\\n\", tf.linspace(start = 2.0, stop = 10.0, num = 9))\n",
    "    \n",
    "# tf.negative(): Computes numerical negative value element-wise.\n",
    "print(\"\\nnegative: \\n\\n\", tf.negative([2, -3, 4]))  \n",
    "\n",
    "# tf.range(): Creates a sequence of numbers\n",
    "print(\"\\nrange from 1 to 10: \\n\\n\", tf.range(1,11))\n",
    "\n",
    "# tf.pow(): Computes the power of one value to another\n",
    "print(\"\\npow: \\n\", tf.pow(2,[3,4]))\n",
    "print(\"\\npow: \\n\", tf.pow([2,3],[3,4]))\n",
    "print(\"\\npow: \\n\", tf.pow([[2,2],[3,3]],[3,4]))\n",
    "\n",
    "# tf.rank(): Returns the rank of a tensor\n",
    "print(\"\\nrank: \\n\\n\", tf.rank(m))\n",
    "    \n",
    "# tf.shape(): Returns the shape of a tensor\n",
    "print(\"\\nshape: \\n\\n\", tf.shape(mv))\n",
    "\n",
    "# tf.reshape(): Reshapes a tensor\n",
    "print(\"\\nmv[4,2]: \\n\\n\", mv)\n",
    "print(\"\\nreshaped mv[2,4]: \\n\\n\", tf.reshape(mv,(2,4)))\n",
    " \n",
    "# tf.sign(): Returns an element-wise indication of the sign of a number\n",
    "print(\"\\nsign(m): \\n\\n\", tf.sign(m))\n",
    "\n",
    "# tf.sin(): Computes sine of x element-wise\n",
    "print(\"\\nsin(pi/2,pi/3,pi/4,pi/5,pi/6,0): \\n\\n\"\n",
    "      , tf.sin(tf.divide(tf.constant(np.pi),tf.constant([2.,3.,4.,5.,6.,float(\"inf\")]))))\n",
    "\n",
    "# tf.size(): Returns a 0-D Tensor representing the number of elements in input\n",
    "print(\"\\nsize(mv): \\n\\n\", tf.size(mv))\n",
    "\n",
    "# tf.sort(): Sorts a tensor in ascending or descending order along an axis\n",
    "# axis = -1 means last axis\n",
    "a = [1, 10, 26.9, 2.8, 166.32, 62.3]\n",
    "print(\"\\na: \", a)\n",
    "b = tf.sort(a,axis=-1,direction='ASCENDING')\n",
    "print(\"sorted ascending: \", b)\n",
    "b = tf.sort(a,axis=-1,direction='DESCENDING')\n",
    "print(\"sorted descending: \", b)\n",
    "\n",
    "a = tf.constant([[2,6],[5,4]])\n",
    "print(\"\\na: \", a)\n",
    "b = tf.sort(a,axis=0,direction='ASCENDING')\n",
    "print(\"sorted ascending: \", b)\n",
    "b = tf.sort(a,axis=1,direction='DESCENDING')\n",
    "print(\"sorted descending: \", b)"
   ]
  },
  {
   "cell_type": "code",
   "execution_count": 34,
   "metadata": {
    "scrolled": true
   },
   "outputs": [
    {
     "name": "stdout",
     "output_type": "stream",
     "text": [
      "x:  tf.Tensor([3. 2. 5. 3.], shape=(4,), dtype=float32)\n",
      "y:  tf.Tensor([2. 3. 4. 3.], shape=(4,), dtype=float32)\n",
      "equal(==):  tf.Tensor([False False False  True], shape=(4,), dtype=bool)\n",
      "greater(>):  tf.Tensor([ True False  True False], shape=(4,), dtype=bool)\n",
      "greater(>=):  tf.Tensor([ True False  True  True], shape=(4,), dtype=bool)\n",
      "greater(<):  tf.Tensor([False  True False False], shape=(4,), dtype=bool)\n",
      "greater(<=):  tf.Tensor([False  True False  True], shape=(4,), dtype=bool)\n",
      "greater(!=):  tf.Tensor([ True  True  True False], shape=(4,), dtype=bool)\n",
      "\n",
      "x:  tf.Tensor([ True False  True False], shape=(4,), dtype=bool)\n",
      "y:  tf.Tensor([ True False False  True], shape=(4,), dtype=bool)\n",
      "AND:  tf.Tensor([ True False False False], shape=(4,), dtype=bool)\n",
      "OR:  tf.Tensor([ True False  True  True], shape=(4,), dtype=bool)\n",
      "NOT:  tf.Tensor([False  True False  True], shape=(4,), dtype=bool)\n",
      "tf.Tensor(\n",
      "[[-5 -2]\n",
      " [ 3 -2]\n",
      " [25  4]\n",
      " [ 9  4]], shape=(4, 2), dtype=int32)\n",
      "\n",
      "reduce max:  tf.Tensor([25  4], shape=(2,), dtype=int32)\n",
      "reduce max:  tf.Tensor([-2  3 25  9], shape=(4,), dtype=int32)\n",
      "\n",
      "reduce mean:  tf.Tensor([8. 1.], shape=(2,), dtype=float32)\n",
      "reduce mean:  tf.Tensor([-3.5  0.5 14.5  6.5], shape=(4,), dtype=float32)\n",
      "\n",
      "reduce min:  tf.Tensor([-5 -2], shape=(2,), dtype=int32)\n",
      "reduce min:  tf.Tensor([-5 -2  4  4], shape=(4,), dtype=int32)\n",
      "\n",
      "reduce prod:  tf.Tensor([-3375    64], shape=(2,), dtype=int32)\n",
      "reduce prod:  tf.Tensor([ 10  -6 100  36], shape=(4,), dtype=int32)\n",
      "\n",
      "reduce sum:  tf.Tensor([32  4], shape=(2,), dtype=int32)\n",
      "reduce sum:  tf.Tensor([-7  1 29 13], shape=(4,), dtype=int32)\n"
     ]
    }
   ],
   "source": [
    "# OTHER COMMON FUNCTIONS\n",
    "# These are used for marginal operations means row-wise column-wise operations# Logical operations\n",
    "\n",
    "x = tf.constant([3.,2.,5.,3.])\n",
    "y = tf.constant([2.,3.,4.,3.])\n",
    "print(\"x: \", x)\n",
    "print(\"y: \", y)\n",
    "# tf.equal() Returns the truth value of (x == y) element-wise\n",
    "print(\"equal(==): \", tf.equal(x,y))\n",
    "\n",
    "# tf.greater() Returns the truth value of (x > y) element-wise\n",
    "print(\"greater(>): \", tf.greater(x,y))\n",
    "\n",
    "# tf.greater_equal() Returns the truth value of (x >= y) element-wise\n",
    "print(\"greater(>=): \", tf.greater_equal(x,y))\n",
    "\n",
    "# tf.less() Returns the truth value of (x < y) element-wise\n",
    "print(\"greater(<): \", tf.less(x,y))\n",
    "\n",
    "# tf.less_equal() Returns the truth value of (x <= y) element-wise\n",
    "print(\"greater(<=): \", tf.less_equal(x,y))\n",
    "\n",
    "# tf.not_equal(): Returns the truth value of (x != y) element-wise\n",
    "print(\"greater(!=): \", tf.not_equal(x,y))\n",
    "\n",
    "x = tf.constant([True,False,True,False])\n",
    "y = tf.constant([True,False,False,True])\n",
    "print(\"\\nx: \", x)\n",
    "print(\"y: \", y)\n",
    "# tf.logical_and(): Logical AND function\n",
    "print(\"AND: \", tf.logical_and(x,y))\n",
    "\n",
    "# tf.logical_or(...): Returns the truth value of x OR y element-wise\n",
    "print(\"OR: \", tf.logical_or(x,y))\n",
    "\n",
    "# tf.logical_not(...): Returns the truth value of NOT x element-wise\n",
    "print(\"NOT: \", tf.logical_not(x))\n",
    "\n",
    "print(mv)\n",
    "# 0 - column\n",
    "# 1 - row\n",
    "# tf.reduce_max(): Computes the maximum of elements across dimensions of a tensor\n",
    "print(\"\\nreduce max: \", tf.reduce_max(mv,0))\n",
    "print(\"reduce max: \", tf.reduce_max(mv,1))\n",
    "\n",
    "# tf.reduce_mean(): Computes the mean of elements across dimensions of a tensor\n",
    "print(\"\\nreduce mean: \", tf.reduce_mean(tf.cast(mv,tf.float32),0))\n",
    "print(\"reduce mean: \", tf.reduce_mean(tf.cast(mv,tf.float32),1))\n",
    "\n",
    "# reduce_min(): Computes the minimum of elements across dimensions of a tensor.\n",
    "print(\"\\nreduce min: \", tf.reduce_min(mv,0))\n",
    "print(\"reduce min: \", tf.reduce_min(mv,1))\n",
    "\n",
    "# reduce_prod(): Computes the product of elements across dimensions of a tensor.\n",
    "print(\"\\nreduce prod: \", tf.reduce_prod(mv,0))\n",
    "print(\"reduce prod: \", tf.reduce_prod(mv,1))\n",
    "\n",
    "# reduce_sum(): Computes the sum of elements across dimensions of a tensor.\n",
    "print(\"\\nreduce sum: \", tf.reduce_sum(mv,0))\n",
    "print(\"reduce sum: \", tf.reduce_sum(mv,1))"
   ]
  },
  {
   "cell_type": "code",
   "execution_count": 35,
   "metadata": {
    "scrolled": true
   },
   "outputs": [
    {
     "name": "stdout",
     "output_type": "stream",
     "text": [
      "x:  tf.Tensor([3. 2. 5. 3.], shape=(4,), dtype=float32)\n",
      "y:  tf.Tensor([2. 3. 4. 3.], shape=(4,), dtype=float32)\n",
      "equal(==):  tf.Tensor([False False False  True], shape=(4,), dtype=bool)\n",
      "greater(>):  tf.Tensor([ True False  True False], shape=(4,), dtype=bool)\n",
      "greater(>=):  tf.Tensor([ True False  True  True], shape=(4,), dtype=bool)\n",
      "greater(<):  tf.Tensor([False  True False False], shape=(4,), dtype=bool)\n",
      "greater(<=):  tf.Tensor([False  True False  True], shape=(4,), dtype=bool)\n",
      "greater(!=):  tf.Tensor([ True  True  True False], shape=(4,), dtype=bool)\n",
      "\n",
      "x:  tf.Tensor([ True False  True False], shape=(4,), dtype=bool)\n",
      "y:  tf.Tensor([ True False False  True], shape=(4,), dtype=bool)\n",
      "AND:  tf.Tensor([ True False False False], shape=(4,), dtype=bool)\n",
      "OR:  tf.Tensor([ True False  True  True], shape=(4,), dtype=bool)\n",
      "NOT:  tf.Tensor([False  True False  True], shape=(4,), dtype=bool)\n"
     ]
    }
   ],
   "source": [
    "# Logical operations\n",
    "\n",
    "x = tf.constant([3.,2.,5.,3.])\n",
    "y = tf.constant([2.,3.,4.,3.])\n",
    "print(\"x: \", x)\n",
    "print(\"y: \", y)\n",
    "# tf.equal() Returns the truth value of (x == y) element-wise\n",
    "print(\"equal(==): \", tf.equal(x,y))\n",
    "\n",
    "# tf.greater() Returns the truth value of (x > y) element-wise\n",
    "print(\"greater(>): \", tf.greater(x,y))\n",
    "\n",
    "# tf.greater_equal() Returns the truth value of (x >= y) element-wise\n",
    "print(\"greater(>=): \", tf.greater_equal(x,y))\n",
    "\n",
    "# tf.less() Returns the truth value of (x < y) element-wise\n",
    "print(\"greater(<): \", tf.less(x,y))\n",
    "\n",
    "# tf.less_equal() Returns the truth value of (x <= y) element-wise\n",
    "print(\"greater(<=): \", tf.less_equal(x,y))\n",
    "\n",
    "# tf.not_equal(): Returns the truth value of (x != y) element-wise\n",
    "print(\"greater(!=): \", tf.not_equal(x,y))\n",
    "\n",
    "x = tf.constant([True,False,True,False])\n",
    "y = tf.constant([True,False,False,True])\n",
    "print(\"\\nx: \", x)\n",
    "print(\"y: \", y)\n",
    "# tf.logical_and(): Logical AND function\n",
    "print(\"AND: \", tf.logical_and(x,y))\n",
    "\n",
    "# tf.logical_or(...): Returns the truth value of x OR y element-wise\n",
    "print(\"OR: \", tf.logical_or(x,y))\n",
    "\n",
    "# tf.logical_not(...): Returns the truth value of NOT x element-wise\n",
    "print(\"NOT: \", tf.logical_not(x))"
   ]
  },
  {
   "cell_type": "code",
   "execution_count": 40,
   "metadata": {},
   "outputs": [],
   "source": [
    "# A TensorFlow variable is a way........"
   ]
  },
  {
   "cell_type": "code",
   "execution_count": 41,
   "metadata": {
    "scrolled": true
   },
   "outputs": [
    {
     "name": "stdout",
     "output_type": "stream",
     "text": [
      "my_tensor: \n",
      " tf.Tensor(\n",
      "[[1. 2.]\n",
      " [3. 4.]], shape=(2, 2), dtype=float32)\n",
      "\n",
      "my_variable: \n",
      " <tf.Variable 'Variable:0' shape=(2, 2) dtype=float32, numpy=\n",
      "array([[1., 2.],\n",
      "       [3., 4.]], dtype=float32)>\n",
      "\n",
      "Tensor Shape:  (2, 2)\n",
      "\n",
      "Tensor DType:  <dtype: 'float32'>\n",
      "\n",
      "Tensor As NumPy:  <bound method _EagerTensorBase.numpy of <tf.Tensor: id=295, shape=(2, 2), dtype=float32, numpy=\n",
      "array([[1., 2.],\n",
      "       [3., 4.]], dtype=float32)>>\n",
      "\n",
      "Variable Shape:  (2, 2)\n",
      "\n",
      "Variable DType:  <dtype: 'float32'>\n",
      "\n",
      "Variable As NumPy:  <bound method BaseResourceVariable.numpy of <tf.Variable 'Variable:0' shape=(2, 2) dtype=float32, numpy=\n",
      "array([[1., 2.],\n",
      "       [3., 4.]], dtype=float32)>>\n"
     ]
    }
   ],
   "source": [
    "# A variable is also a tensor internally\n",
    "my_tensor = tf.constant([[1.0, 2.0], [3.0, 4.0]])\n",
    "my_variable = tf.Variable(my_tensor)\n",
    "print(\"my_tensor: \\n\", my_tensor)\n",
    "print(\"\\nmy_variable: \\n\", my_variable)\n",
    "\n",
    "print(\"\\nTensor Shape: \",my_tensor.shape)\n",
    "print(\"\\nTensor DType: \",my_tensor.dtype)\n",
    "print(\"\\nTensor As NumPy: \", my_tensor.numpy)\n",
    "\n",
    "# Like tensors, they have a dtype and a shape, and can be exported to NumPy\n",
    "print(\"\\nVariable Shape: \",my_variable.shape)\n",
    "print(\"\\nVariable DType: \",my_variable.dtype)\n",
    "print(\"\\nVariable As NumPy: \", my_variable.numpy)"
   ]
  },
  {
   "cell_type": "code",
   "execution_count": 42,
   "metadata": {},
   "outputs": [
    {
     "name": "stdout",
     "output_type": "stream",
     "text": [
      "<tf.Variable 'Variable:0' shape=(4,) dtype=bool, numpy=array([False, False, False,  True])>\n"
     ]
    }
   ],
   "source": [
    "# Variables can be all kinds of types, just like tensors\n",
    "bool_variable = tf.Variable([False, False, False, True])\n",
    "print(bool_variable)"
   ]
  },
  {
   "cell_type": "code",
   "execution_count": 43,
   "metadata": {},
   "outputs": [
    {
     "name": "stdout",
     "output_type": "stream",
     "text": [
      "\n",
      "Variable viewed as a tensor: tf.Tensor(\n",
      "[[1. 2.]\n",
      " [3. 4.]], shape=(2, 2), dtype=float32)\n"
     ]
    }
   ],
   "source": [
    "# Converting variable to Tensor\n",
    "print(\"\\nVariable viewed as a tensor:\", tf.convert_to_tensor(my_variable))"
   ]
  },
  {
   "cell_type": "code",
   "execution_count": 44,
   "metadata": {},
   "outputs": [
    {
     "name": "stdout",
     "output_type": "stream",
     "text": [
      "\n",
      "Copying and reshaping:  tf.Tensor([[1. 2. 3. 4.]], shape=(1, 4), dtype=float32)\n"
     ]
    }
   ],
   "source": [
    "# Note: Reshape doesnot works on Variables\n",
    "# Even whe you give Variable as parameter, Tensor will be returned\n",
    "# Most tensor operations work on variables as expected, although variables cannot be reshaped\n",
    "print(\"\\nCopying and reshaping: \", tf.reshape(my_variable, ([1,4]))) # output is a Tensor"
   ]
  },
  {
   "cell_type": "code",
   "execution_count": 45,
   "metadata": {
    "scrolled": true
   },
   "outputs": [
    {
     "name": "stdout",
     "output_type": "stream",
     "text": [
      "updated my_variable(1): \n",
      "\n",
      " <tf.Variable 'Variable:0' shape=(2, 2) dtype=float32, numpy=\n",
      "array([[-1., -2.],\n",
      "       [-3., -4.]], dtype=float32)>\n",
      "\n",
      "updated my_variable(2): \n",
      "\n",
      " <tf.Variable 'Variable:0' shape=(2, 2) dtype=float32, numpy=\n",
      "array([[ 1.,  0.],\n",
      "       [-1., -2.]], dtype=float32)>\n",
      "\n",
      "updated my_variable(3): \n",
      "\n",
      " <tf.Variable 'Variable:0' shape=(2, 2) dtype=float32, numpy=\n",
      "array([[ 0.,  1.],\n",
      "       [-2., -1.]], dtype=float32)>\n"
     ]
    }
   ],
   "source": [
    "# Variables are backed by tensors. We can reassign the tensor using tf.Variable.assign\n",
    "# Calling assign does not (usually) allocate a new tensor; instead, the existing tensor's memory is reused\n",
    "my_variable.assign([[-1.,-2.],[-3.,-4.]])\n",
    "print(\"updated my_variable(1): \\n\\n\", my_variable)\n",
    "\n",
    "# assign_add: adding to a variable\n",
    "my_variable.assign_add([[2.,2.],[2.,2.]])\n",
    "print(\"\\nupdated my_variable(2): \\n\\n\", my_variable)\n",
    "\n",
    "# assign_sub: subtracting from a variable\n",
    "my_variable.assign_sub([[1.,-1.],[1.,-1.]])\n",
    "print(\"\\nupdated my_variable(3): \\n\\n\", my_variable)"
   ]
  },
  {
   "cell_type": "code",
   "execution_count": 46,
   "metadata": {
    "scrolled": true
   },
   "outputs": [
    {
     "name": "stdout",
     "output_type": "stream",
     "text": [
      "<tf.Variable 'Variable:0' shape=() dtype=int32, numpy=0>\n",
      "<tf.Variable 'Variable:0' shape=() dtype=int32, numpy=0>\n",
      "<tf.Variable 'Variable:0' shape=() dtype=int32, numpy=0>\n",
      "<tf.Variable 'Variable:0' shape=() dtype=int32, numpy=1>\n",
      "<tf.Variable 'Variable:0' shape=() dtype=int32, numpy=2>\n",
      "<tf.Variable 'Variable:0' shape=() dtype=int32, numpy=2>\n",
      "<tf.Variable 'Variable:0' shape=() dtype=int32, numpy=2>\n",
      "<tf.Variable 'Variable:0' shape=() dtype=int32, numpy=3>\n",
      "<tf.Variable 'Variable:0' shape=() dtype=int32, numpy=4>\n",
      "<tf.Variable 'Variable:0' shape=() dtype=int32, numpy=4>\n",
      "<tf.Variable 'Variable:0' shape=() dtype=int32, numpy=6>\n",
      "<tf.Variable 'Variable:0' shape=() dtype=int32, numpy=5>\n",
      "<tf.Variable 'Variable:0' shape=() dtype=int32, numpy=6>\n",
      "<tf.Variable 'Variable:0' shape=() dtype=int32, numpy=6>\n",
      "<tf.Variable 'Variable:0' shape=() dtype=int32, numpy=12>\n",
      "<tf.Variable 'Variable:0' shape=() dtype=int32, numpy=7>\n",
      "<tf.Variable 'Variable:0' shape=() dtype=int32, numpy=8>\n",
      "<tf.Variable 'Variable:0' shape=() dtype=int32, numpy=8>\n",
      "<tf.Variable 'Variable:0' shape=() dtype=int32, numpy=20>\n",
      "<tf.Variable 'Variable:0' shape=() dtype=int32, numpy=9>\n",
      "<tf.Variable 'Variable:0' shape=() dtype=int32, numpy=10>\n",
      "<tf.Variable 'Variable:0' shape=() dtype=int32, numpy=10>\n",
      "<tf.Variable 'Variable:0' shape=() dtype=int32, numpy=30>\n",
      "<tf.Variable 'Variable:0' shape=() dtype=int32, numpy=11>\n",
      "<tf.Variable 'Variable:0' shape=() dtype=int32, numpy=12>\n",
      "<tf.Variable 'Variable:0' shape=() dtype=int32, numpy=12>\n",
      "<tf.Variable 'Variable:0' shape=() dtype=int32, numpy=42>\n",
      "<tf.Variable 'Variable:0' shape=() dtype=int32, numpy=13>\n",
      "<tf.Variable 'Variable:0' shape=() dtype=int32, numpy=14>\n",
      "<tf.Variable 'Variable:0' shape=() dtype=int32, numpy=14>\n",
      "<tf.Variable 'Variable:0' shape=() dtype=int32, numpy=56>\n",
      "<tf.Variable 'Variable:0' shape=() dtype=int32, numpy=15>\n",
      "<tf.Variable 'Variable:0' shape=() dtype=int32, numpy=16>\n",
      "sum of all even numbers upto 15 is 56\n"
     ]
    }
   ],
   "source": [
    "# A major benefit of eager execution is that all the functionality of the host language \n",
    "# is available while your model is executing\n",
    "def add_all_even_nums_upto_n(n):\n",
    "    n = tf.constant(n)\n",
    "    sum = tf.Variable(0)\n",
    "    i = tf.Variable(0)\n",
    "    print(i)\n",
    "    while tf.less_equal(i,n):\n",
    "        if int(i % 2) == 0: \n",
    "            print(i)\n",
    "            sum.assign_add(i)\n",
    "            print(sum)\n",
    "        i.assign_add(1)\n",
    "        print(i)\n",
    "#    return(sum)\n",
    "    return(sum.numpy())\n",
    "\n",
    "n = 15\n",
    "print(\"sum of all even numbers upto\",n, \"is\", add_all_even_nums_upto_n(n))"
   ]
  },
  {
   "cell_type": "code",
   "execution_count": null,
   "metadata": {},
   "outputs": [],
   "source": []
  }
 ],
 "metadata": {
  "kernelspec": {
   "display_name": "Python 3",
   "language": "python",
   "name": "python3"
  },
  "language_info": {
   "codemirror_mode": {
    "name": "ipython",
    "version": 3
   },
   "file_extension": ".py",
   "mimetype": "text/x-python",
   "name": "python",
   "nbconvert_exporter": "python",
   "pygments_lexer": "ipython3",
   "version": "3.7.1"
  }
 },
 "nbformat": 4,
 "nbformat_minor": 4
}
