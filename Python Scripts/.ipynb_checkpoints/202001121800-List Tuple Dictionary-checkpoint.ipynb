{
 "cells": [
  {
   "cell_type": "code",
   "execution_count": 12,
   "metadata": {},
   "outputs": [
    {
     "data": {
      "text/plain": [
       "[0, 2, 4, 6, 8, 10, 12, 14, 16, 18]"
      ]
     },
     "execution_count": 12,
     "metadata": {},
     "output_type": "execute_result"
    }
   ],
   "source": [
    "list(range(0, 20, 2))"
   ]
  },
  {
   "cell_type": "code",
   "execution_count": 3,
   "metadata": {},
   "outputs": [
    {
     "name": "stdout",
     "output_type": "stream",
     "text": [
      "The value of a is: 10\n"
     ]
    }
   ],
   "source": [
    "a = 10\n",
    "print(\"The value of a is: %d\"%a)"
   ]
  },
  {
   "cell_type": "code",
   "execution_count": 4,
   "metadata": {},
   "outputs": [
    {
     "name": "stdout",
     "output_type": "stream",
     "text": [
      "The value of a is: 2\n",
      "The value of a is: 4\n",
      "The value of a is: 6\n",
      "The value of a is: 8\n",
      "The value of a is: 10\n",
      "The value of a is: 12\n",
      "The value of a is: 14\n",
      "The value of a is: 16\n",
      "The value of a is: 18\n",
      "The value of a is: 20\n",
      "The value of a is: 22\n",
      "The value of a is: 24\n",
      "The value of a is: 26\n",
      "The value of a is: 28\n"
     ]
    }
   ],
   "source": [
    "for a in range(2, 30, 2):\n",
    "    print(\"The value of a is: %d\"%a)"
   ]
  },
  {
   "cell_type": "code",
   "execution_count": 5,
   "metadata": {},
   "outputs": [
    {
     "name": "stdout",
     "output_type": "stream",
     "text": [
      "Your salary is 200000\n",
      "Your salary is 300000\n",
      "Your salary is 400000\n",
      "Your salary is 700000\n",
      "Your salary is 1200000\n"
     ]
    }
   ],
   "source": [
    "a = [200000, 300000, 400000, 700000, 1200000]\n",
    "for sal in a:\n",
    "    print(\"Your salary is %d\"%sal)"
   ]
  },
  {
   "cell_type": "code",
   "execution_count": 17,
   "metadata": {},
   "outputs": [],
   "source": [
    "taxes_for_a = []\n",
    "for sal in a:\n",
    "    if sal <= 200000:\n",
    "        tax = 0\n",
    "    elif sal <= 500000:\n",
    "        tax = 0 + (sal - 200000)*.1\n",
    "    elif sal <= 1000000:\n",
    "        tax = 0 + 30000 + (sal - 500000)*.2\n",
    "    else:\n",
    "        tax = 0 + 30000 + 100000 + (sal - 1000000)*.3\n",
    "    taxes_for_a.append(tax)"
   ]
  },
  {
   "cell_type": "code",
   "execution_count": 18,
   "metadata": {},
   "outputs": [
    {
     "data": {
      "text/plain": [
       "[0, 10000.0, 20000.0, 70000.0, 190000.0]"
      ]
     },
     "execution_count": 18,
     "metadata": {},
     "output_type": "execute_result"
    }
   ],
   "source": [
    "taxes_for_a"
   ]
  },
  {
   "cell_type": "code",
   "execution_count": 19,
   "metadata": {},
   "outputs": [
    {
     "data": {
      "text/plain": [
       "[(200000, 0),\n",
       " (300000, 10000.0),\n",
       " (400000, 20000.0),\n",
       " (700000, 70000.0),\n",
       " (1200000, 190000.0)]"
      ]
     },
     "execution_count": 19,
     "metadata": {},
     "output_type": "execute_result"
    }
   ],
   "source": [
    "list(zip(a, taxes_for_a))"
   ]
  },
  {
   "cell_type": "code",
   "execution_count": 33,
   "metadata": {},
   "outputs": [
    {
     "name": "stdout",
     "output_type": "stream",
     "text": [
      "[33, 42, 48, 12]\n",
      "[22, 44, 28, 26]\n"
     ]
    }
   ],
   "source": [
    "a = [33, 22, 44, 28, 26, 42, 48, 12]\n",
    "temp = a.copy()\n",
    "b = []\n",
    "for val in temp:\n",
    "    if val % 3 != 0:\n",
    "        a.remove(val)\n",
    "        b.append(val)\n",
    "print(a)\n",
    "print(b)"
   ]
  },
  {
   "cell_type": "code",
   "execution_count": 53,
   "metadata": {},
   "outputs": [
    {
     "name": "stdout",
     "output_type": "stream",
     "text": [
      "[33, 42, 48, 12]\n",
      "[22, 44, 28, 26]\n"
     ]
    }
   ],
   "source": [
    "a = [33, 22, 44, 28, 26, 42, 48, 12]\n",
    "b = []\n",
    "j = 0\n",
    "for i in range(0, len(a), 1):\n",
    "    val = a[j]\n",
    "    if val % 3 != 0:\n",
    "        b.append(a.pop(j))\n",
    "        j -= 1\n",
    "    j += 1\n",
    "    if j == len(a):\n",
    "        break\n",
    "print(a)\n",
    "print(b)"
   ]
  },
  {
   "cell_type": "code",
   "execution_count": 46,
   "metadata": {},
   "outputs": [
    {
     "data": {
      "text/plain": [
       "[33, 42, 48, 12]"
      ]
     },
     "execution_count": 46,
     "metadata": {},
     "output_type": "execute_result"
    }
   ],
   "source": [
    "a"
   ]
  },
  {
   "cell_type": "code",
   "execution_count": 47,
   "metadata": {},
   "outputs": [
    {
     "data": {
      "text/plain": [
       "[22, 44, 28, 26]"
      ]
     },
     "execution_count": 47,
     "metadata": {},
     "output_type": "execute_result"
    }
   ],
   "source": [
    "b"
   ]
  },
  {
   "cell_type": "code",
   "execution_count": 50,
   "metadata": {},
   "outputs": [
    {
     "name": "stdout",
     "output_type": "stream",
     "text": [
      "33\n",
      "42\n",
      "48\n",
      "12\n"
     ]
    }
   ],
   "source": [
    "for i in range(0, len(a), 1):\n",
    "    print(a[i])"
   ]
  },
  {
   "cell_type": "code",
   "execution_count": 52,
   "metadata": {},
   "outputs": [
    {
     "name": "stdout",
     "output_type": "stream",
     "text": [
      "33\n",
      "42\n",
      "48\n",
      "12\n"
     ]
    }
   ],
   "source": [
    "for i in a:\n",
    "    print(i)"
   ]
  },
  {
   "cell_type": "markdown",
   "metadata": {},
   "source": [
    "# Tuple: Access in tuple is always faster compared to list because of sequential storage"
   ]
  },
  {
   "cell_type": "code",
   "execution_count": 57,
   "metadata": {},
   "outputs": [
    {
     "name": "stdout",
     "output_type": "stream",
     "text": [
      "2\n",
      "3\n"
     ]
    }
   ],
   "source": [
    "tuple_1 = (1, 2, 3, \"ABCD\", 2.4, 2)\n",
    "print(tuple_1.count(2))\n",
    "print(tuple_1.index(\"ABCD\"))"
   ]
  },
  {
   "cell_type": "code",
   "execution_count": 58,
   "metadata": {},
   "outputs": [
    {
     "data": {
      "text/plain": [
       "tuple"
      ]
     },
     "execution_count": 58,
     "metadata": {},
     "output_type": "execute_result"
    }
   ],
   "source": [
    "type(tuple_1)"
   ]
  },
  {
   "cell_type": "code",
   "execution_count": 59,
   "metadata": {},
   "outputs": [
    {
     "data": {
      "text/plain": [
       "list"
      ]
     },
     "execution_count": 59,
     "metadata": {},
     "output_type": "execute_result"
    }
   ],
   "source": [
    "type(a)"
   ]
  },
  {
   "cell_type": "markdown",
   "metadata": {},
   "source": [
    "# DICTIONARY"
   ]
  },
  {
   "cell_type": "code",
   "execution_count": 80,
   "metadata": {},
   "outputs": [],
   "source": [
    "pincode = {\"Wakad\": 411057, \"PS\": 411027, \"Rahatani\": 411017}"
   ]
  },
  {
   "cell_type": "code",
   "execution_count": 73,
   "metadata": {},
   "outputs": [
    {
     "name": "stdout",
     "output_type": "stream",
     "text": [
      "{'Wakad': 411057, 'PS': 411027, 'Rahatani': 411017}\n"
     ]
    },
    {
     "data": {
      "text/plain": [
       "{'PS': 411027, 'Rahatani': 411017, 'Wakad': 411057}"
      ]
     },
     "execution_count": 73,
     "metadata": {},
     "output_type": "execute_result"
    }
   ],
   "source": [
    "print(pincode)\n",
    "pincode"
   ]
  },
  {
   "cell_type": "code",
   "execution_count": 74,
   "metadata": {},
   "outputs": [
    {
     "data": {
      "text/plain": [
       "dict"
      ]
     },
     "execution_count": 74,
     "metadata": {},
     "output_type": "execute_result"
    }
   ],
   "source": [
    "type(pincode)"
   ]
  },
  {
   "cell_type": "code",
   "execution_count": 75,
   "metadata": {},
   "outputs": [
    {
     "data": {
      "text/plain": [
       "411027"
      ]
     },
     "execution_count": 75,
     "metadata": {},
     "output_type": "execute_result"
    }
   ],
   "source": [
    "pincode['PS']"
   ]
  },
  {
   "cell_type": "code",
   "execution_count": 67,
   "metadata": {},
   "outputs": [],
   "source": [
    "name_sal = {\"SURAJ\": [10000, 20000, 400000000000], \"NIKHIL\": [900000, 83222, 3547628724983279]}"
   ]
  },
  {
   "cell_type": "code",
   "execution_count": 69,
   "metadata": {},
   "outputs": [
    {
     "name": "stdout",
     "output_type": "stream",
     "text": [
      "{'SURAJ': [10000, 20000, 400000000000], 'NIKHIL': [900000, 83222, 3547628724983279]}\n"
     ]
    },
    {
     "data": {
      "text/plain": [
       "{'NIKHIL': [900000, 83222, 3547628724983279],\n",
       " 'SURAJ': [10000, 20000, 400000000000]}"
      ]
     },
     "execution_count": 69,
     "metadata": {},
     "output_type": "execute_result"
    }
   ],
   "source": [
    "print(name_sal) # Same order\n",
    "name_sal # Sorted"
   ]
  },
  {
   "cell_type": "code",
   "execution_count": 71,
   "metadata": {},
   "outputs": [
    {
     "data": {
      "text/plain": [
       "900000"
      ]
     },
     "execution_count": 71,
     "metadata": {},
     "output_type": "execute_result"
    }
   ],
   "source": [
    "name_sal[\"NIKHIL\"][0]"
   ]
  },
  {
   "cell_type": "code",
   "execution_count": 76,
   "metadata": {},
   "outputs": [],
   "source": [
    "pincode.clear()"
   ]
  },
  {
   "cell_type": "code",
   "execution_count": 78,
   "metadata": {},
   "outputs": [
    {
     "data": {
      "text/plain": [
       "{}"
      ]
     },
     "execution_count": 78,
     "metadata": {},
     "output_type": "execute_result"
    }
   ],
   "source": [
    "pincode"
   ]
  },
  {
   "cell_type": "code",
   "execution_count": 81,
   "metadata": {},
   "outputs": [
    {
     "name": "stdout",
     "output_type": "stream",
     "text": [
      "Wakad\n",
      "PS\n",
      "Rahatani\n"
     ]
    }
   ],
   "source": [
    "pincode = {\"Wakad\": 411057, \"PS\": 411027, \"Rahatani\": 411017}\n",
    "for i in pincode.keys():\n",
    "    print(i)"
   ]
  },
  {
   "cell_type": "code",
   "execution_count": 84,
   "metadata": {},
   "outputs": [
    {
     "name": "stdout",
     "output_type": "stream",
     "text": [
      "Wakad 411057\n",
      "PS 411027\n",
      "Rahatani 411017\n"
     ]
    }
   ],
   "source": [
    "for i in pincode.keys():\n",
    "    print(i, pincode[i])"
   ]
  },
  {
   "cell_type": "code",
   "execution_count": 87,
   "metadata": {},
   "outputs": [
    {
     "name": "stdout",
     "output_type": "stream",
     "text": [
      "[('Wakad', 411057), ('PS', 411027), ('Rahatani', 411017)]\n"
     ]
    }
   ],
   "source": [
    "print([(i, pincode[i]) for i in pincode.keys()])"
   ]
  },
  {
   "cell_type": "code",
   "execution_count": null,
   "metadata": {},
   "outputs": [],
   "source": []
  }
 ],
 "metadata": {
  "kernelspec": {
   "display_name": "Python 3",
   "language": "python",
   "name": "python3"
  },
  "language_info": {
   "codemirror_mode": {
    "name": "ipython",
    "version": 3
   },
   "file_extension": ".py",
   "mimetype": "text/x-python",
   "name": "python",
   "nbconvert_exporter": "python",
   "pygments_lexer": "ipython3",
   "version": "3.6.4"
  }
 },
 "nbformat": 4,
 "nbformat_minor": 2
}
