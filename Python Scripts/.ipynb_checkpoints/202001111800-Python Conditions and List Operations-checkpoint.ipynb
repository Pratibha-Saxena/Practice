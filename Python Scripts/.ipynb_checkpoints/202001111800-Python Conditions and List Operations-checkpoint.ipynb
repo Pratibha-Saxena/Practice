{
 "cells": [
  {
   "cell_type": "code",
   "execution_count": 7,
   "metadata": {},
   "outputs": [
    {
     "name": "stdout",
     "output_type": "stream",
     "text": [
      "Enter any value to check: 35765\n",
      "Given number is odd.\n"
     ]
    }
   ],
   "source": [
    "A = int(input(\"Enter any value to check: \"))\n",
    "if A%2 == 0:\n",
    "    print(\"Given number is even.\")\n",
    "else:\n",
    "    print(\"Given number is odd.\")"
   ]
  },
  {
   "cell_type": "code",
   "execution_count": 12,
   "metadata": {},
   "outputs": [
    {
     "name": "stdout",
     "output_type": "stream",
     "text": [
      "Enter your salary: 700000\n",
      "70000.0\n"
     ]
    }
   ],
   "source": [
    "sal = int(input(\"Enter your salary: \"))\n",
    "if sal <= 200000:\n",
    "    tax = 0\n",
    "    print(tax)\n",
    "#     print(sal, \": Non-Taxable\")\n",
    "elif sal > 200000 and sal <= 500000:\n",
    "    tax = 0 + (sal - 200000)*.1\n",
    "    print(tax)\n",
    "#     bal = sal - 200000\n",
    "#     if bal > 200000:\n",
    "#         print(sal, \": Taxable, Tax: \", bal * 0.1)\n",
    "elif sal > 500000 and sal <= 1000000:\n",
    "    tax = 0 + 30000 + (sal - 500000)*.2\n",
    "    print(tax)\n",
    "#     bal = sal - 200000\n",
    "#     tax = 0\n",
    "#     bal = sal - 200000\n",
    "#     tax = tax + bal * .1\n",
    "#     tax = tax + sal * .2\n",
    "#     if bal > 500000:\n",
    "#         bal = bal - 500000\n",
    "#         tax = tax + (500000 * .2)\n",
    "#     tax = tax + (bal * .3)\n",
    "#     print(sal, \": Taxable, Tax: \", tax)\n",
    "else:\n",
    "    tax = 0 + 30000 + 100000 + (sal - 1000000)\n",
    "    print(tax)\n",
    "#     bal = sal - 200000\n",
    "#     if bal > 500000:\n",
    "#         bal = bal - 500000\n",
    "#         tax = tax + (500000 * .2)\n",
    "#     tax = tax + (bal * .3)\n",
    "#     print(sal, \": Taxable, Tax: 30%\")"
   ]
  },
  {
   "cell_type": "code",
   "execution_count": 14,
   "metadata": {},
   "outputs": [
    {
     "data": {
      "text/plain": [
       "7000000"
      ]
     },
     "execution_count": 14,
     "metadata": {},
     "output_type": "execute_result"
    }
   ],
   "source": [
    "A = [\"ZAHIR\", \"SHEIKH\", [\"ENDURANCE\", \"ABC\"], 7000000, 85]\n",
    "A[3]"
   ]
  },
  {
   "cell_type": "code",
   "execution_count": 16,
   "metadata": {},
   "outputs": [
    {
     "data": {
      "text/plain": [
       "'ENDURANCE'"
      ]
     },
     "execution_count": 16,
     "metadata": {},
     "output_type": "execute_result"
    }
   ],
   "source": [
    "A[2][0]"
   ]
  },
  {
   "cell_type": "code",
   "execution_count": 21,
   "metadata": {},
   "outputs": [],
   "source": [
    "A.append(90)"
   ]
  },
  {
   "cell_type": "code",
   "execution_count": 22,
   "metadata": {},
   "outputs": [
    {
     "data": {
      "text/plain": [
       "['ZAHIR', 'SHEIKH', ['ENDURANCE', 'ABC'], 7000000, 85, 90]"
      ]
     },
     "execution_count": 22,
     "metadata": {},
     "output_type": "execute_result"
    }
   ],
   "source": [
    "A"
   ]
  },
  {
   "cell_type": "code",
   "execution_count": 23,
   "metadata": {},
   "outputs": [],
   "source": [
    "A.append(100)"
   ]
  },
  {
   "cell_type": "code",
   "execution_count": 24,
   "metadata": {},
   "outputs": [
    {
     "data": {
      "text/plain": [
       "['ZAHIR', 'SHEIKH', ['ENDURANCE', 'ABC'], 7000000, 85, 90, 100]"
      ]
     },
     "execution_count": 24,
     "metadata": {},
     "output_type": "execute_result"
    }
   ],
   "source": [
    "A"
   ]
  },
  {
   "cell_type": "code",
   "execution_count": 25,
   "metadata": {},
   "outputs": [],
   "source": [
    "A.insert(2, 20)"
   ]
  },
  {
   "cell_type": "code",
   "execution_count": 26,
   "metadata": {},
   "outputs": [
    {
     "data": {
      "text/plain": [
       "['ZAHIR', 'SHEIKH', 20, ['ENDURANCE', 'ABC'], 7000000, 85, 90, 100]"
      ]
     },
     "execution_count": 26,
     "metadata": {},
     "output_type": "execute_result"
    }
   ],
   "source": [
    "A"
   ]
  },
  {
   "cell_type": "code",
   "execution_count": 27,
   "metadata": {},
   "outputs": [
    {
     "data": {
      "text/plain": [
       "8"
      ]
     },
     "execution_count": 27,
     "metadata": {},
     "output_type": "execute_result"
    }
   ],
   "source": [
    "len(A)"
   ]
  },
  {
   "cell_type": "code",
   "execution_count": 30,
   "metadata": {},
   "outputs": [],
   "source": [
    "A.append(20)"
   ]
  },
  {
   "cell_type": "code",
   "execution_count": 31,
   "metadata": {},
   "outputs": [
    {
     "data": {
      "text/plain": [
       "2"
      ]
     },
     "execution_count": 31,
     "metadata": {},
     "output_type": "execute_result"
    }
   ],
   "source": [
    "A.count(20)"
   ]
  },
  {
   "cell_type": "code",
   "execution_count": 32,
   "metadata": {},
   "outputs": [],
   "source": [
    "B = [7000, 8000, 9000]"
   ]
  },
  {
   "cell_type": "code",
   "execution_count": 35,
   "metadata": {},
   "outputs": [],
   "source": [
    "A.remove(B)"
   ]
  },
  {
   "cell_type": "code",
   "execution_count": 36,
   "metadata": {},
   "outputs": [
    {
     "data": {
      "text/plain": [
       "['ZAHIR', 'SHEIKH', 20, ['ENDURANCE', 'ABC'], 7000000, 85, 90, 100, 20]"
      ]
     },
     "execution_count": 36,
     "metadata": {},
     "output_type": "execute_result"
    }
   ],
   "source": [
    "A"
   ]
  },
  {
   "cell_type": "code",
   "execution_count": 37,
   "metadata": {},
   "outputs": [],
   "source": [
    "A.extend(B)"
   ]
  },
  {
   "cell_type": "code",
   "execution_count": 38,
   "metadata": {},
   "outputs": [
    {
     "data": {
      "text/plain": [
       "['ZAHIR',\n",
       " 'SHEIKH',\n",
       " 20,\n",
       " ['ENDURANCE', 'ABC'],\n",
       " 7000000,\n",
       " 85,\n",
       " 90,\n",
       " 100,\n",
       " 20,\n",
       " 7000,\n",
       " 8000,\n",
       " 9000]"
      ]
     },
     "execution_count": 38,
     "metadata": {},
     "output_type": "execute_result"
    }
   ],
   "source": [
    "A"
   ]
  },
  {
   "cell_type": "code",
   "execution_count": 40,
   "metadata": {},
   "outputs": [
    {
     "data": {
      "text/plain": [
       "2"
      ]
     },
     "execution_count": 40,
     "metadata": {},
     "output_type": "execute_result"
    }
   ],
   "source": [
    "A.index(20)"
   ]
  },
  {
   "cell_type": "code",
   "execution_count": 41,
   "metadata": {},
   "outputs": [
    {
     "data": {
      "text/plain": [
       "9000"
      ]
     },
     "execution_count": 41,
     "metadata": {},
     "output_type": "execute_result"
    }
   ],
   "source": [
    "A.pop()"
   ]
  },
  {
   "cell_type": "code",
   "execution_count": 42,
   "metadata": {},
   "outputs": [
    {
     "data": {
      "text/plain": [
       "'ZAHIR'"
      ]
     },
     "execution_count": 42,
     "metadata": {},
     "output_type": "execute_result"
    }
   ],
   "source": [
    "A.pop(0)"
   ]
  },
  {
   "cell_type": "code",
   "execution_count": 43,
   "metadata": {},
   "outputs": [],
   "source": [
    "A.remove(85)"
   ]
  },
  {
   "cell_type": "code",
   "execution_count": 44,
   "metadata": {},
   "outputs": [
    {
     "data": {
      "text/plain": [
       "['SHEIKH', 20, ['ENDURANCE', 'ABC'], 7000000, 90, 100, 20, 7000, 8000]"
      ]
     },
     "execution_count": 44,
     "metadata": {},
     "output_type": "execute_result"
    }
   ],
   "source": [
    "A"
   ]
  },
  {
   "cell_type": "code",
   "execution_count": null,
   "metadata": {},
   "outputs": [],
   "source": []
  }
 ],
 "metadata": {
  "kernelspec": {
   "display_name": "Python 3",
   "language": "python",
   "name": "python3"
  },
  "language_info": {
   "codemirror_mode": {
    "name": "ipython",
    "version": 3
   },
   "file_extension": ".py",
   "mimetype": "text/x-python",
   "name": "python",
   "nbconvert_exporter": "python",
   "pygments_lexer": "ipython3",
   "version": "3.6.4"
  }
 },
 "nbformat": 4,
 "nbformat_minor": 2
}
