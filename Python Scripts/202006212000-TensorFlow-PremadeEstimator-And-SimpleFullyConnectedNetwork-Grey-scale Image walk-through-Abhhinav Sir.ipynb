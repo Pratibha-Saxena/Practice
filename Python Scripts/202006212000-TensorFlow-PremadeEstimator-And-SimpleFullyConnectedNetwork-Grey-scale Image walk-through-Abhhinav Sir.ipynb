{
 "cells": [
  {
   "cell_type": "code",
   "execution_count": 37,
   "metadata": {},
   "outputs": [],
   "source": [
    "import pandas as pd\n",
    "import numpy as np\n",
    "import matplotlib as mp\n",
    "import matplotlib.pyplot as plt\n",
    "# %matplotlib notebook\n",
    "import tensorflow as tf\n",
    "import keras"
   ]
  },
  {
   "cell_type": "code",
   "execution_count": 40,
   "metadata": {},
   "outputs": [
    {
     "data": {
      "text/plain": [
       "True"
      ]
     },
     "execution_count": 40,
     "metadata": {},
     "output_type": "execute_result"
    }
   ],
   "source": [
    "tf.executing_eagerly()"
   ]
  },
  {
   "cell_type": "code",
   "execution_count": 41,
   "metadata": {},
   "outputs": [],
   "source": [
    "# Tensor Flow has a premade estimator. That is all bioler plate code is aleready pre-written.\n",
    "# We just need to plug-in the values."
   ]
  },
  {
   "cell_type": "code",
   "execution_count": 42,
   "metadata": {},
   "outputs": [],
   "source": [
    "# Define few constraints for parsing the data\n",
    "CSV_COLUMN_NAMES = ['SepalLength', 'SepalWidth', 'PetalLength', 'PetalWidth', 'Species']\n",
    "SPECIES = ['Setosa', 'Versicolor', 'Virginica']"
   ]
  },
  {
   "cell_type": "code",
   "execution_count": 43,
   "metadata": {},
   "outputs": [],
   "source": [
    "# Set the path where the file is found\n",
    "train_path = \"C:/Users/Admin/Documents/Datasets/iris_training.csv\"\n",
    "test_path = \"C:/Users/Admin/Documents/Datasets/iris_test.csv\""
   ]
  },
  {
   "cell_type": "code",
   "execution_count": 44,
   "metadata": {},
   "outputs": [],
   "source": [
    "# read file from the path\n",
    "train = pd.read_csv(train_path, names=CSV_COLUMN_NAMES, header=0)\n",
    "test = pd.read_csv(test_path, names=CSV_COLUMN_NAMES, header=0)"
   ]
  },
  {
   "cell_type": "code",
   "execution_count": 45,
   "metadata": {},
   "outputs": [
    {
     "data": {
      "text/html": [
       "<div>\n",
       "<style scoped>\n",
       "    .dataframe tbody tr th:only-of-type {\n",
       "        vertical-align: middle;\n",
       "    }\n",
       "\n",
       "    .dataframe tbody tr th {\n",
       "        vertical-align: top;\n",
       "    }\n",
       "\n",
       "    .dataframe thead th {\n",
       "        text-align: right;\n",
       "    }\n",
       "</style>\n",
       "<table border=\"1\" class=\"dataframe\">\n",
       "  <thead>\n",
       "    <tr style=\"text-align: right;\">\n",
       "      <th></th>\n",
       "      <th>SepalLength</th>\n",
       "      <th>SepalWidth</th>\n",
       "      <th>PetalLength</th>\n",
       "      <th>PetalWidth</th>\n",
       "      <th>Species</th>\n",
       "    </tr>\n",
       "  </thead>\n",
       "  <tbody>\n",
       "    <tr>\n",
       "      <th>0</th>\n",
       "      <td>6.4</td>\n",
       "      <td>2.8</td>\n",
       "      <td>5.6</td>\n",
       "      <td>2.2</td>\n",
       "      <td>2</td>\n",
       "    </tr>\n",
       "    <tr>\n",
       "      <th>1</th>\n",
       "      <td>5.0</td>\n",
       "      <td>2.3</td>\n",
       "      <td>3.3</td>\n",
       "      <td>1.0</td>\n",
       "      <td>1</td>\n",
       "    </tr>\n",
       "    <tr>\n",
       "      <th>2</th>\n",
       "      <td>4.9</td>\n",
       "      <td>2.5</td>\n",
       "      <td>4.5</td>\n",
       "      <td>1.7</td>\n",
       "      <td>2</td>\n",
       "    </tr>\n",
       "    <tr>\n",
       "      <th>3</th>\n",
       "      <td>4.9</td>\n",
       "      <td>3.1</td>\n",
       "      <td>1.5</td>\n",
       "      <td>0.1</td>\n",
       "      <td>0</td>\n",
       "    </tr>\n",
       "    <tr>\n",
       "      <th>4</th>\n",
       "      <td>5.7</td>\n",
       "      <td>3.8</td>\n",
       "      <td>1.7</td>\n",
       "      <td>0.3</td>\n",
       "      <td>0</td>\n",
       "    </tr>\n",
       "  </tbody>\n",
       "</table>\n",
       "</div>"
      ],
      "text/plain": [
       "   SepalLength  SepalWidth  PetalLength  PetalWidth  Species\n",
       "0          6.4         2.8          5.6         2.2        2\n",
       "1          5.0         2.3          3.3         1.0        1\n",
       "2          4.9         2.5          4.5         1.7        2\n",
       "3          4.9         3.1          1.5         0.1        0\n",
       "4          5.7         3.8          1.7         0.3        0"
      ]
     },
     "execution_count": 45,
     "metadata": {},
     "output_type": "execute_result"
    }
   ],
   "source": [
    "train.head()"
   ]
  },
  {
   "cell_type": "code",
   "execution_count": 46,
   "metadata": {},
   "outputs": [],
   "source": [
    "# .... split out the labels, which the model be trained to predict"
   ]
  },
  {
   "cell_type": "code",
   "execution_count": 47,
   "metadata": {},
   "outputs": [],
   "source": [
    "y_train = train.pop('Species')\n",
    "y_test = test.pop('Species')"
   ]
  },
  {
   "cell_type": "code",
   "execution_count": 48,
   "metadata": {},
   "outputs": [
    {
     "data": {
      "text/html": [
       "<div>\n",
       "<style scoped>\n",
       "    .dataframe tbody tr th:only-of-type {\n",
       "        vertical-align: middle;\n",
       "    }\n",
       "\n",
       "    .dataframe tbody tr th {\n",
       "        vertical-align: top;\n",
       "    }\n",
       "\n",
       "    .dataframe thead th {\n",
       "        text-align: right;\n",
       "    }\n",
       "</style>\n",
       "<table border=\"1\" class=\"dataframe\">\n",
       "  <thead>\n",
       "    <tr style=\"text-align: right;\">\n",
       "      <th></th>\n",
       "      <th>SepalLength</th>\n",
       "      <th>SepalWidth</th>\n",
       "      <th>PetalLength</th>\n",
       "      <th>PetalWidth</th>\n",
       "    </tr>\n",
       "  </thead>\n",
       "  <tbody>\n",
       "    <tr>\n",
       "      <th>0</th>\n",
       "      <td>6.4</td>\n",
       "      <td>2.8</td>\n",
       "      <td>5.6</td>\n",
       "      <td>2.2</td>\n",
       "    </tr>\n",
       "    <tr>\n",
       "      <th>1</th>\n",
       "      <td>5.0</td>\n",
       "      <td>2.3</td>\n",
       "      <td>3.3</td>\n",
       "      <td>1.0</td>\n",
       "    </tr>\n",
       "    <tr>\n",
       "      <th>2</th>\n",
       "      <td>4.9</td>\n",
       "      <td>2.5</td>\n",
       "      <td>4.5</td>\n",
       "      <td>1.7</td>\n",
       "    </tr>\n",
       "    <tr>\n",
       "      <th>3</th>\n",
       "      <td>4.9</td>\n",
       "      <td>3.1</td>\n",
       "      <td>1.5</td>\n",
       "      <td>0.1</td>\n",
       "    </tr>\n",
       "    <tr>\n",
       "      <th>4</th>\n",
       "      <td>5.7</td>\n",
       "      <td>3.8</td>\n",
       "      <td>1.7</td>\n",
       "      <td>0.3</td>\n",
       "    </tr>\n",
       "  </tbody>\n",
       "</table>\n",
       "</div>"
      ],
      "text/plain": [
       "   SepalLength  SepalWidth  PetalLength  PetalWidth\n",
       "0          6.4         2.8          5.6         2.2\n",
       "1          5.0         2.3          3.3         1.0\n",
       "2          4.9         2.5          4.5         1.7\n",
       "3          4.9         3.1          1.5         0.1\n",
       "4          5.7         3.8          1.7         0.3"
      ]
     },
     "execution_count": 48,
     "metadata": {},
     "output_type": "execute_result"
    }
   ],
   "source": [
    "train.head()"
   ]
  },
  {
   "cell_type": "code",
   "execution_count": 49,
   "metadata": {},
   "outputs": [
    {
     "data": {
      "text/plain": [
       "0    2\n",
       "1    1\n",
       "2    2\n",
       "3    0\n",
       "4    0\n",
       "Name: Species, dtype: int64"
      ]
     },
     "execution_count": 49,
     "metadata": {},
     "output_type": "execute_result"
    }
   ],
   "source": [
    "y_train.head()"
   ]
  },
  {
   "cell_type": "code",
   "execution_count": 50,
   "metadata": {},
   "outputs": [],
   "source": [
    "# Programming with Estimator : define a model using TensorFlow Estimator"
   ]
  },
  {
   "cell_type": "code",
   "execution_count": 51,
   "metadata": {},
   "outputs": [],
   "source": [
    "# An Estimator is any class derived from ..\n",
    "# Tensorflow provides a collection of tf.estimator"
   ]
  },
  {
   "cell_type": "code",
   "execution_count": 52,
   "metadata": {},
   "outputs": [],
   "source": [
    "# To write a TensorFlow program based on pre-made Estimators, you must perform the following tasks:\n",
    "# a) Create one or more input functions\n",
    "# b) Define the model's feature columns\n",
    "# c) Instantiate an Estimator, specifying the feature columns and various hyperparameters\n",
    "# d) Call one or more methods on the Estimator object, \n",
    "#    passing the appropriate input function as the source of the data"
   ]
  },
  {
   "cell_type": "code",
   "execution_count": 78,
   "metadata": {},
   "outputs": [],
   "source": [
    "# a) Create one or more input functions\n",
    "\n",
    "# Input functions are created to supply data for training, evaluating, and prediction\n",
    "# An input function outputs the following two-element tuple:\n",
    "#   i) features - A Python dictionary in which each key is the name of a feature and \n",
    "#      each value is an array containing all of that feature's values (X)\n",
    "#   ii) label - An array containing the values of the label for every example(y)\n",
    "# from_tensor_slices: Creates a `Dataset` whose elements are slices of the given tensors (e.g. rows of a dataset)\n",
    "\n",
    "def input_fn(features, labels, training=True, batch_size=256):\n",
    "    dataset = tf.data.Dataset.from_tensor_slices((dict(features), labels))\n",
    "    # Shuffle and repeat if you are in training mode\n",
    "    if training:\n",
    "        dataset = dataset.shuffle(1000).repeat()\n",
    "    return dataset.batch(batch_size)"
   ]
  },
  {
   "cell_type": "code",
   "execution_count": 79,
   "metadata": {},
   "outputs": [],
   "source": [
    "# NOTES:\n",
    "# Shuffle: Randomly shuffles the elements of this dataset.\n",
    "# This dataset fills a buffer with buffer_size (here 1000) elements, then randomly \n",
    "# samples elements from this buffer, replacing the selected elements with new elements. \n",
    "# For perfect shuffling, a buffer size greater than or equal to the full size of the dataset is required.\n",
    "# For instance, if your dataset contains 10,000 elements but buffer_size is set to 1,000, \n",
    "# then shuffle will initially select a random element from only the first 1,000 elements in the buffer. \n",
    "# Once an element is selected, its space in the buffer is replaced by the next (i.e. 1,001-st) element, \n",
    "# maintaining the 1,000 element buffer\n",
    "# Repeat: Repeats this dataset so each original value is seen \"count\" times\n",
    "# if no \"count\" parameter in repeat, then it repeats indefinitely"
   ]
  },
  {
   "cell_type": "code",
   "execution_count": 80,
   "metadata": {},
   "outputs": [
    {
     "name": "stdout",
     "output_type": "stream",
     "text": [
      "Index(['SepalLength', 'SepalWidth', 'PetalLength', 'PetalWidth'], dtype='object')\n",
      " \n",
      "[NumericColumn(key='SepalLength', shape=(1,), default_value=None, dtype=tf.float32, normalizer_fn=None), NumericColumn(key='SepalWidth', shape=(1,), default_value=None, dtype=tf.float32, normalizer_fn=None), NumericColumn(key='PetalLength', shape=(1,), default_value=None, dtype=tf.float32, normalizer_fn=None), NumericColumn(key='PetalWidth', shape=(1,), default_value=None, dtype=tf.float32, normalizer_fn=None)]\n"
     ]
    }
   ],
   "source": [
    "# b) Define the model's feature columns\n",
    "\n",
    "# A feature column is an object describing how the model should use raw input data \n",
    "# from the features dictionary. When you build an Estimator model, you pass it a list \n",
    "# of feature columns that describes each of the features you want the model to use\n",
    "\n",
    "print(train.keys())\n",
    "my_feature_columns = []\n",
    "for key in train.keys():\n",
    "    my_feature_columns.append(tf.feature_column.numeric_column(key=key))\n",
    "print(' ')\n",
    "print(my_feature_columns)"
   ]
  },
  {
   "cell_type": "code",
   "execution_count": 81,
   "metadata": {
    "scrolled": true
   },
   "outputs": [
    {
     "name": "stdout",
     "output_type": "stream",
     "text": [
      "INFO:tensorflow:Using default config.\n",
      "INFO:tensorflow:Using config: {'_model_dir': 'C:\\\\Python\\\\logs', '_tf_random_seed': None, '_save_summary_steps': 100, '_save_checkpoints_steps': None, '_save_checkpoints_secs': 600, '_session_config': allow_soft_placement: true\n",
      "graph_options {\n",
      "  rewrite_options {\n",
      "    meta_optimizer_iterations: ONE\n",
      "  }\n",
      "}\n",
      ", '_keep_checkpoint_max': 5, '_keep_checkpoint_every_n_hours': 10000, '_log_step_count_steps': 100, '_train_distribute': None, '_device_fn': None, '_protocol': None, '_eval_distribute': None, '_experimental_distribute': None, '_experimental_max_worker_delay_secs': None, '_session_creation_timeout_secs': 7200, '_service': None, '_cluster_spec': <tensorflow.python.training.server_lib.ClusterSpec object at 0x00000225639ECBE0>, '_task_type': 'worker', '_task_id': 0, '_global_id_in_cluster': 0, '_master': '', '_evaluation_master': '', '_is_chief': True, '_num_ps_replicas': 0, '_num_worker_replicas': 1}\n"
     ]
    }
   ],
   "source": [
    "# c).....\n",
    "classifier = tf.estimator.DNNClassifier(\n",
    "    feature_columns=my_feature_columns,\n",
    "    hidden_units=[5,5],\n",
    "    activation_fn=tf.keras.activations.relu,\n",
    "    dropout=0.2,\n",
    "    optimizer='Adam',\n",
    "    model_dir=\"C:\\Python\\logs\",     \n",
    "    n_classes=3,\n",
    "    batch_norm=True)"
   ]
  },
  {
   "cell_type": "code",
   "execution_count": 85,
   "metadata": {
    "scrolled": true
   },
   "outputs": [
    {
     "name": "stdout",
     "output_type": "stream",
     "text": [
      "INFO:tensorflow:Calling model_fn.\n",
      "WARNING:tensorflow:Layer dnn is casting an input tensor from dtype float64 to the layer's dtype of float32, which is new behavior in TensorFlow 2.  The layer has dtype float32 because it's dtype defaults to floatx.\n",
      "\n",
      "If you intended to run this layer in float32, you can safely ignore this warning. If in doubt, this warning is likely only an issue if you are porting a TensorFlow 1.X model to TensorFlow 2.\n",
      "\n",
      "To change all layers to have dtype float64 by default, call `tf.keras.backend.set_floatx('float64')`. To change just this layer, pass dtype='float64' to the layer constructor. If you are the author of this layer, you can disable autocasting by passing autocast=False to the base Layer constructor.\n",
      "\n",
      "INFO:tensorflow:Done calling model_fn.\n",
      "INFO:tensorflow:Create CheckpointSaverHook.\n",
      "INFO:tensorflow:Graph was finalized.\n",
      "INFO:tensorflow:Restoring parameters from C:\\Python\\logs\\model.ckpt-10000\n",
      "INFO:tensorflow:Running local_init_op.\n",
      "INFO:tensorflow:Done running local_init_op.\n",
      "INFO:tensorflow:Saving checkpoints for 10000 into C:\\Python\\logs\\model.ckpt.\n",
      "INFO:tensorflow:loss = 0.2809369, step = 10000\n",
      "INFO:tensorflow:global_step/sec: 174.203\n",
      "INFO:tensorflow:loss = 0.2932639, step = 10100 (0.580 sec)\n",
      "INFO:tensorflow:global_step/sec: 290.63\n",
      "INFO:tensorflow:loss = 0.23129645, step = 10200 (0.342 sec)\n",
      "INFO:tensorflow:global_step/sec: 316.791\n",
      "INFO:tensorflow:loss = 0.20577994, step = 10300 (0.316 sec)\n",
      "INFO:tensorflow:global_step/sec: 316.785\n",
      "INFO:tensorflow:loss = 0.21431752, step = 10400 (0.315 sec)\n",
      "INFO:tensorflow:global_step/sec: 308.634\n",
      "INFO:tensorflow:loss = 0.22949354, step = 10500 (0.323 sec)\n",
      "INFO:tensorflow:global_step/sec: 321.288\n",
      "INFO:tensorflow:loss = 0.21379262, step = 10600 (0.313 sec)\n",
      "INFO:tensorflow:global_step/sec: 312.791\n",
      "INFO:tensorflow:loss = 0.3286581, step = 10700 (0.318 sec)\n",
      "INFO:tensorflow:global_step/sec: 313.302\n",
      "INFO:tensorflow:loss = 0.18021569, step = 10800 (0.319 sec)\n",
      "INFO:tensorflow:global_step/sec: 310.426\n",
      "INFO:tensorflow:loss = 0.28223997, step = 10900 (0.322 sec)\n",
      "INFO:tensorflow:global_step/sec: 314.493\n",
      "INFO:tensorflow:loss = 0.24337234, step = 11000 (0.318 sec)\n",
      "INFO:tensorflow:global_step/sec: 314.863\n",
      "INFO:tensorflow:loss = 0.17903145, step = 11100 (0.318 sec)\n",
      "INFO:tensorflow:global_step/sec: 314.814\n",
      "INFO:tensorflow:loss = 0.21629648, step = 11200 (0.322 sec)\n",
      "INFO:tensorflow:global_step/sec: 313.811\n",
      "INFO:tensorflow:loss = 0.31757635, step = 11300 (0.316 sec)\n",
      "INFO:tensorflow:global_step/sec: 311.438\n",
      "INFO:tensorflow:loss = 0.17718206, step = 11400 (0.320 sec)\n",
      "INFO:tensorflow:global_step/sec: 303.454\n",
      "INFO:tensorflow:loss = 0.20100975, step = 11500 (0.331 sec)\n",
      "INFO:tensorflow:global_step/sec: 316.179\n",
      "INFO:tensorflow:loss = 0.20425428, step = 11600 (0.317 sec)\n",
      "INFO:tensorflow:global_step/sec: 315.46\n",
      "INFO:tensorflow:loss = 0.24444368, step = 11700 (0.316 sec)\n",
      "INFO:tensorflow:global_step/sec: 313.34\n",
      "INFO:tensorflow:loss = 0.20496805, step = 11800 (0.318 sec)\n",
      "INFO:tensorflow:global_step/sec: 287.298\n",
      "INFO:tensorflow:loss = 0.19367802, step = 11900 (0.348 sec)\n",
      "INFO:tensorflow:global_step/sec: 305.221\n",
      "INFO:tensorflow:loss = 0.21391544, step = 12000 (0.328 sec)\n",
      "INFO:tensorflow:global_step/sec: 309.92\n",
      "INFO:tensorflow:loss = 0.2832954, step = 12100 (0.324 sec)\n",
      "INFO:tensorflow:global_step/sec: 318.764\n",
      "INFO:tensorflow:loss = 0.25188148, step = 12200 (0.315 sec)\n",
      "INFO:tensorflow:global_step/sec: 297.5\n",
      "INFO:tensorflow:loss = 0.17584004, step = 12300 (0.335 sec)\n",
      "INFO:tensorflow:global_step/sec: 302.901\n",
      "INFO:tensorflow:loss = 0.22789913, step = 12400 (0.331 sec)\n",
      "INFO:tensorflow:global_step/sec: 243.602\n",
      "INFO:tensorflow:loss = 0.17775741, step = 12500 (0.410 sec)\n",
      "INFO:tensorflow:global_step/sec: 314.084\n",
      "INFO:tensorflow:loss = 0.27822763, step = 12600 (0.317 sec)\n",
      "INFO:tensorflow:global_step/sec: 235.578\n",
      "INFO:tensorflow:loss = 0.22628027, step = 12700 (0.425 sec)\n",
      "INFO:tensorflow:global_step/sec: 246.729\n",
      "INFO:tensorflow:loss = 0.2921417, step = 12800 (0.404 sec)\n",
      "INFO:tensorflow:global_step/sec: 214.665\n",
      "INFO:tensorflow:loss = 0.195809, step = 12900 (0.466 sec)\n",
      "INFO:tensorflow:global_step/sec: 314.312\n",
      "INFO:tensorflow:loss = 0.25135863, step = 13000 (0.319 sec)\n",
      "INFO:tensorflow:global_step/sec: 315.682\n",
      "INFO:tensorflow:loss = 0.18788841, step = 13100 (0.317 sec)\n",
      "INFO:tensorflow:global_step/sec: 219.639\n",
      "INFO:tensorflow:loss = 0.26007378, step = 13200 (0.454 sec)\n",
      "INFO:tensorflow:global_step/sec: 236.194\n",
      "INFO:tensorflow:loss = 0.24379182, step = 13300 (0.423 sec)\n",
      "INFO:tensorflow:global_step/sec: 255.119\n",
      "INFO:tensorflow:loss = 0.24425498, step = 13400 (0.406 sec)\n",
      "INFO:tensorflow:global_step/sec: 217.258\n",
      "INFO:tensorflow:loss = 0.31131032, step = 13500 (0.447 sec)\n",
      "INFO:tensorflow:global_step/sec: 221.078\n",
      "INFO:tensorflow:loss = 0.23509738, step = 13600 (0.452 sec)\n",
      "INFO:tensorflow:global_step/sec: 274.307\n",
      "INFO:tensorflow:loss = 0.22354782, step = 13700 (0.367 sec)\n",
      "INFO:tensorflow:global_step/sec: 201.203\n",
      "INFO:tensorflow:loss = 0.20076306, step = 13800 (0.495 sec)\n",
      "INFO:tensorflow:global_step/sec: 180.885\n",
      "INFO:tensorflow:loss = 0.2172195, step = 13900 (0.553 sec)\n",
      "INFO:tensorflow:global_step/sec: 176.839\n",
      "INFO:tensorflow:loss = 0.30037874, step = 14000 (0.565 sec)\n",
      "INFO:tensorflow:global_step/sec: 244.555\n",
      "INFO:tensorflow:loss = 0.20988396, step = 14100 (0.415 sec)\n",
      "INFO:tensorflow:global_step/sec: 159.763\n",
      "INFO:tensorflow:loss = 0.16003925, step = 14200 (0.620 sec)\n",
      "INFO:tensorflow:global_step/sec: 165.631\n",
      "INFO:tensorflow:loss = 0.27977192, step = 14300 (0.612 sec)\n",
      "INFO:tensorflow:global_step/sec: 154.235\n",
      "INFO:tensorflow:loss = 0.2538857, step = 14400 (0.645 sec)\n",
      "INFO:tensorflow:global_step/sec: 167.928\n",
      "INFO:tensorflow:loss = 0.24361527, step = 14500 (0.590 sec)\n",
      "INFO:tensorflow:global_step/sec: 296.391\n",
      "INFO:tensorflow:loss = 0.28214633, step = 14600 (0.337 sec)\n",
      "INFO:tensorflow:global_step/sec: 310.857\n",
      "INFO:tensorflow:loss = 0.2950365, step = 14700 (0.323 sec)\n",
      "INFO:tensorflow:global_step/sec: 242.471\n",
      "INFO:tensorflow:loss = 0.16826522, step = 14800 (0.412 sec)\n",
      "INFO:tensorflow:global_step/sec: 245.187\n",
      "INFO:tensorflow:loss = 0.19621985, step = 14900 (0.407 sec)\n",
      "INFO:tensorflow:Saving checkpoints for 15000 into C:\\Python\\logs\\model.ckpt.\n",
      "INFO:tensorflow:Loss for final step: 0.3105541.\n"
     ]
    },
    {
     "data": {
      "text/plain": [
       "<tensorflow_estimator.python.estimator.canned.dnn.DNNClassifierV2 at 0x225639ec5c0>"
      ]
     },
     "execution_count": 85,
     "metadata": {},
     "output_type": "execute_result"
    }
   ],
   "source": [
    "classifier.train(\n",
    "    input_fn=lambda: input_fn(train, y_train, training=True),\n",
    "    steps=5000)"
   ]
  },
  {
   "cell_type": "code",
   "execution_count": 86,
   "metadata": {
    "scrolled": true
   },
   "outputs": [
    {
     "name": "stdout",
     "output_type": "stream",
     "text": [
      "INFO:tensorflow:Calling model_fn.\n",
      "WARNING:tensorflow:Layer dnn is casting an input tensor from dtype float64 to the layer's dtype of float32, which is new behavior in TensorFlow 2.  The layer has dtype float32 because it's dtype defaults to floatx.\n",
      "\n",
      "If you intended to run this layer in float32, you can safely ignore this warning. If in doubt, this warning is likely only an issue if you are porting a TensorFlow 1.X model to TensorFlow 2.\n",
      "\n",
      "To change all layers to have dtype float64 by default, call `tf.keras.backend.set_floatx('float64')`. To change just this layer, pass dtype='float64' to the layer constructor. If you are the author of this layer, you can disable autocasting by passing autocast=False to the base Layer constructor.\n",
      "\n",
      "INFO:tensorflow:Done calling model_fn.\n",
      "INFO:tensorflow:Starting evaluation at 2020-06-21T21:26:06Z\n",
      "INFO:tensorflow:Graph was finalized.\n",
      "INFO:tensorflow:Restoring parameters from C:\\Python\\logs\\model.ckpt-15000\n",
      "INFO:tensorflow:Running local_init_op.\n",
      "INFO:tensorflow:Done running local_init_op.\n",
      "INFO:tensorflow:Finished evaluation at 2020-06-21-21:26:07\n",
      "INFO:tensorflow:Saving dict for global step 15000: accuracy = 0.7416667, average_loss = 0.5787796, global_step = 15000, loss = 0.5787796\n",
      "INFO:tensorflow:Saving 'checkpoint_path' summary for global step 15000: C:\\Python\\logs\\model.ckpt-15000\n",
      "INFO:tensorflow:Calling model_fn.\n",
      "WARNING:tensorflow:Layer dnn is casting an input tensor from dtype float64 to the layer's dtype of float32, which is new behavior in TensorFlow 2.  The layer has dtype float32 because it's dtype defaults to floatx.\n",
      "\n",
      "If you intended to run this layer in float32, you can safely ignore this warning. If in doubt, this warning is likely only an issue if you are porting a TensorFlow 1.X model to TensorFlow 2.\n",
      "\n",
      "To change all layers to have dtype float64 by default, call `tf.keras.backend.set_floatx('float64')`. To change just this layer, pass dtype='float64' to the layer constructor. If you are the author of this layer, you can disable autocasting by passing autocast=False to the base Layer constructor.\n",
      "\n",
      "INFO:tensorflow:Done calling model_fn.\n",
      "INFO:tensorflow:Starting evaluation at 2020-06-21T21:26:07Z\n",
      "INFO:tensorflow:Graph was finalized.\n",
      "INFO:tensorflow:Restoring parameters from C:\\Python\\logs\\model.ckpt-15000\n",
      "INFO:tensorflow:Running local_init_op.\n",
      "INFO:tensorflow:Done running local_init_op.\n",
      "INFO:tensorflow:Finished evaluation at 2020-06-21-21:26:08\n",
      "INFO:tensorflow:Saving dict for global step 15000: accuracy = 0.76666665, average_loss = 0.60426253, global_step = 15000, loss = 0.60426253\n",
      "INFO:tensorflow:Saving 'checkpoint_path' summary for global step 15000: C:\\Python\\logs\\model.ckpt-15000\n",
      "\n",
      "Train set accuracy: 0.742\n",
      "\n",
      "\n",
      "Test set accuracy: 0.767\n",
      "\n"
     ]
    }
   ],
   "source": [
    "train_eval_result = classifier.evaluate(\n",
    "    input_fn=lambda: input_fn(train, y_train, training=False))\n",
    "\n",
    "test_eval_result = classifier.evaluate(\n",
    "    input_fn=lambda: input_fn(test, y_test, training=False))\n",
    "\n",
    "print('\\nTrain set accuracy: {accuracy:0.3f}\\n'.format(**train_eval_result))\n",
    "print('\\nTest set accuracy: {accuracy:0.3f}\\n'.format(**test_eval_result))"
   ]
  },
  {
   "cell_type": "code",
   "execution_count": 87,
   "metadata": {},
   "outputs": [
    {
     "name": "stdout",
     "output_type": "stream",
     "text": [
      "<generator object Estimator.predict at 0x000002255FA8E1B0>\n"
     ]
    }
   ],
   "source": [
    "# Generate predictions from the model\n",
    "expected = ['Setosa', 'Versicolor', 'Virginica']\n",
    "predict_x = {\n",
    "    'SepalLength': [5.1, 5.9, 6.9],\n",
    "    'SepalWidth': [3.3, 3.0, 3.1],\n",
    "    'PetalLength': [1.7, 4.2, 5.4],\n",
    "    'PetalWidth': [0.5, 1.5, 2.1],\n",
    "}\n",
    "\n",
    "# An input function for prediction\n",
    "def input_fn(features, batch_size=256):\n",
    "    # Convert the inputs to a Dataset without labels.\n",
    "    return tf.data.Dataset.from_tensor_slices(dict(features)).batch(batch_size)\n",
    "\n",
    "predictions = classifier.predict(\n",
    "    input_fn=lambda: input_fn(predict_x))\n",
    "\n",
    "print(predictions)"
   ]
  },
  {
   "cell_type": "code",
   "execution_count": 88,
   "metadata": {
    "scrolled": true
   },
   "outputs": [
    {
     "name": "stdout",
     "output_type": "stream",
     "text": [
      "INFO:tensorflow:Calling model_fn.\n",
      "INFO:tensorflow:Done calling model_fn.\n",
      "INFO:tensorflow:Graph was finalized.\n",
      "INFO:tensorflow:Restoring parameters from C:\\Python\\logs\\model.ckpt-15000\n",
      "INFO:tensorflow:Running local_init_op.\n",
      "INFO:tensorflow:Done running local_init_op.\n",
      "expec Setosa\n",
      "class_id 0\n",
      "probability 0.9278204\n",
      "Prediction is \"Setosa\" (92.8%), expected \"Setosa\"\n",
      "expec Versicolor\n",
      "class_id 1\n",
      "probability 0.82008654\n",
      "Prediction is \"Versicolor\" (82.0%), expected \"Versicolor\"\n",
      "expec Virginica\n",
      "class_id 2\n",
      "probability 0.9959818\n",
      "Prediction is \"Virginica\" (99.6%), expected \"Virginica\"\n"
     ]
    }
   ],
   "source": [
    "for pred_dict, expec in zip(predictions, expected):\n",
    "    print(\"expec\", expec)\n",
    "    class_id = pred_dict['class_ids'][0]\n",
    "    print(\"class_id\", class_id)\n",
    "    probability = pred_dict['probabilities'][class_id]\n",
    "    print(\"probability\", probability)\n",
    "    print('Prediction is \"{}\" ({:.1f}%), expected \"{}\"'.format(\n",
    "        SPECIES[class_id], 100 * probability, expec))"
   ]
  },
  {
   "cell_type": "code",
   "execution_count": 89,
   "metadata": {},
   "outputs": [],
   "source": []
  },
  {
   "cell_type": "code",
   "execution_count": 108,
   "metadata": {},
   "outputs": [
    {
     "name": "stdout",
     "output_type": "stream",
     "text": [
      "0\n",
      "1\n",
      "2\n",
      "3\n"
     ]
    }
   ],
   "source": [
    "# Trying to understand\n",
    "\n",
    "def trial(features, labels, training=True, batch_size=256):\n",
    "    dataset = tf.data.Dataset.from_tensor_slices((dict(features), labels))\n",
    "    # Shuffle and repeat if you are in training mode\n",
    "    if training:\n",
    "        dataset = dataset.shuffle(1000).repeat()\n",
    "    return dataset.batch(batch_size)\n",
    "\n",
    "dataset = tf.data.Dataset.from_tensor_slices((dict(train), y_train))\n",
    "dataset = dataset.batch(30)\n",
    "i=0\n",
    "for x, y in dataset:\n",
    "    print(i)\n",
    "    i = i + 1\n",
    "#     print(x, y)\n",
    "#     print()"
   ]
  },
  {
   "cell_type": "code",
   "execution_count": null,
   "metadata": {},
   "outputs": [],
   "source": []
  },
  {
   "cell_type": "markdown",
   "metadata": {},
   "source": [
    "# Using tensorflow to classify using keras model"
   ]
  },
  {
   "cell_type": "code",
   "execution_count": 110,
   "metadata": {},
   "outputs": [],
   "source": [
    "# Using tensorflow to classify images using keras model"
   ]
  },
  {
   "cell_type": "code",
   "execution_count": 111,
   "metadata": {},
   "outputs": [],
   "source": [
    "import keras"
   ]
  },
  {
   "cell_type": "code",
   "execution_count": 112,
   "metadata": {},
   "outputs": [
    {
     "name": "stdout",
     "output_type": "stream",
     "text": [
      "Downloading data from https://storage.googleapis.com/tensorflow/tf-keras-datasets/train-labels-idx1-ubyte.gz\n",
      "32768/29515 [=================================] - 0s 2us/step\n",
      "Downloading data from https://storage.googleapis.com/tensorflow/tf-keras-datasets/train-images-idx3-ubyte.gz\n",
      "26427392/26421880 [==============================] - 24s 1us/step\n",
      "Downloading data from https://storage.googleapis.com/tensorflow/tf-keras-datasets/t10k-labels-idx1-ubyte.gz\n",
      "8192/5148 [===============================================] - 0s 0s/step\n",
      "Downloading data from https://storage.googleapis.com/tensorflow/tf-keras-datasets/t10k-images-idx3-ubyte.gz\n",
      "4423680/4422102 [==============================] - 3s 1us/step\n"
     ]
    }
   ],
   "source": [
    "# Loading dataset fashion_mnist\n",
    "# It is grey scale image of 28*28 with pixel values from 0 to 255 \n",
    "mnist = tf.keras.datasets.fashion_mnist\n",
    "(train_images, train_labels), (test_images, test_labels) = mnist.load_data()\n",
    "class_names = ['T-shirt/top', 'Trouser', 'Pullover', 'Dress', 'Coat',\n",
    "               'Sandal', 'Shirt', 'Sneaker', 'Bag', 'Ankle boot']"
   ]
  },
  {
   "cell_type": "code",
   "execution_count": 113,
   "metadata": {},
   "outputs": [],
   "source": [
    "# Loading dataset fashion_mnist\n",
    "# It is grey scale image of 28*28 with pixel values from 0 to 255 \n",
    "mnist = tf.keras.datasets.fashion_mnist\n",
    "(train_images, train_labels), (test_images, test_labels) = mnist.load_data()\n",
    "class_names = ['T-shirt/top', 'Trouser', 'Pullover', 'Dress', 'Coat',\n",
    "               'Sandal', 'Shirt', 'Sneaker', 'Bag', 'Ankle boot']"
   ]
  },
  {
   "cell_type": "code",
   "execution_count": 114,
   "metadata": {},
   "outputs": [
    {
     "data": {
      "text/plain": [
       "<matplotlib.image.AxesImage at 0x22561f82dd8>"
      ]
     },
     "execution_count": 114,
     "metadata": {},
     "output_type": "execute_result"
    },
    {
     "data": {
      "image/png": "[encoded data removed]",
      "text/plain": [
       "<Figure size 432x288 with 1 Axes>"
      ]
     },
     "metadata": {
      "needs_background": "light"
     },
     "output_type": "display_data"
    }
   ],
   "source": [
    "plt.imshow(train_images[0], cmap=plt.cm.binary)"
   ]
  },
  {
   "cell_type": "code",
   "execution_count": 115,
   "metadata": {},
   "outputs": [
    {
     "data": {
      "image/png": "[encoded data removed]",
      "text/plain": [
       "<Figure size 720x720 with 49 Axes>"
      ]
     },
     "metadata": {},
     "output_type": "display_data"
    }
   ],
   "source": [
    "plt.figure(figsize=(10,10))\n",
    "a = 7\n",
    "b = 7\n",
    "for i in range(a*b):\n",
    "    plt.subplot(a,b,i+1)\n",
    "    plt.xticks([])\n",
    "    plt.yticks([])\n",
    "    plt.grid(False)\n",
    "    plt.imshow(train_images[i], cmap=plt.cm.binary)\n",
    "    plt.xlabel(class_names[train_labels[i]])\n",
    "plt.show()"
   ]
  },
  {
   "cell_type": "code",
   "execution_count": 116,
   "metadata": {},
   "outputs": [],
   "source": [
    "# normalize input data\n",
    "training_images  = train_images / 255.0\n",
    "test_images = test_images / 255.0"
   ]
  },
  {
   "cell_type": "code",
   "execution_count": 117,
   "metadata": {},
   "outputs": [],
   "source": [
    "model = keras.Sequential([\n",
    "    keras.layers.Flatten(),\n",
    "    keras.layers.Dense(512, activation=tf.nn.relu),\n",
    "    keras.layers.Dense(10, activation = tf.nn.softmax)\n",
    "])"
   ]
  },
  {
   "cell_type": "code",
   "execution_count": 118,
   "metadata": {},
   "outputs": [
    {
     "name": "stdout",
     "output_type": "stream",
     "text": [
      "Epoch 1/10\n",
      "60000/60000 [==============================] - 15s 255us/step - loss: 4.1598 - accuracy: 0.7633\n",
      "Epoch 2/10\n",
      "60000/60000 [==============================] - 13s 222us/step - loss: 0.5305 - accuracy: 0.8157\n",
      "Epoch 3/10\n",
      "60000/60000 [==============================] - 14s 238us/step - loss: 0.5078 - accuracy: 0.8226\n",
      "Epoch 4/10\n",
      "60000/60000 [==============================] - 13s 219us/step - loss: 0.4965 - accuracy: 0.8266\n",
      "Epoch 5/10\n",
      "60000/60000 [==============================] - 14s 237us/step - loss: 0.4912 - accuracy: 0.8294\n",
      "Epoch 6/10\n",
      "60000/60000 [==============================] - 13s 222us/step - loss: 0.4777 - accuracy: 0.8346\n",
      "Epoch 7/10\n",
      "60000/60000 [==============================] - 14s 232us/step - loss: 0.4652 - accuracy: 0.8403\n",
      "Epoch 8/10\n",
      "60000/60000 [==============================] - 14s 232us/step - loss: 0.4547 - accuracy: 0.8436\n",
      "Epoch 9/10\n",
      "60000/60000 [==============================] - 14s 231us/step - loss: 0.4458 - accuracy: 0.8470\n",
      "Epoch 10/10\n",
      "60000/60000 [==============================] - 14s 237us/step - loss: 0.4450 - accuracy: 0.8485\n"
     ]
    },
    {
     "data": {
      "text/plain": [
       "<keras.callbacks.callbacks.History at 0x2255e91cfd0>"
      ]
     },
     "execution_count": 118,
     "metadata": {},
     "output_type": "execute_result"
    }
   ],
   "source": [
    "model.compile(optimizer = tf.optimizers.Adam(),\n",
    "              loss = 'sparse_categorical_crossentropy',\n",
    "              metrics=['accuracy']\n",
    "             )\n",
    "\n",
    "model.fit(train_images, train_labels, epochs=10)"
   ]
  },
  {
   "cell_type": "code",
   "execution_count": 119,
   "metadata": {},
   "outputs": [
    {
     "name": "stdout",
     "output_type": "stream",
     "text": [
      "10000/10000 [==============================] - 1s 94us/step\n"
     ]
    },
    {
     "data": {
      "text/plain": [
       "[2.248713750457764, 0.13089999556541443]"
      ]
     },
     "execution_count": 119,
     "metadata": {},
     "output_type": "execute_result"
    }
   ],
   "source": [
    "model.evaluate(test_images, test_labels)"
   ]
  },
  {
   "cell_type": "code",
   "execution_count": 122,
   "metadata": {},
   "outputs": [],
   "source": [
    "classifications = model.predict(test_images)"
   ]
  },
  {
   "cell_type": "code",
   "execution_count": 123,
   "metadata": {},
   "outputs": [
    {
     "name": "stdout",
     "output_type": "stream",
     "text": [
      "[0.13175406 0.04360651 0.08880334 0.09824453 0.04546929 0.12607443\n",
      " 0.17284332 0.09942131 0.16247876 0.03130439]\n",
      "9\n"
     ]
    }
   ],
   "source": [
    "print(classifications[0])\n",
    "print(test_labels[0])"
   ]
  },
  {
   "cell_type": "code",
   "execution_count": 121,
   "metadata": {},
   "outputs": [
    {
     "name": "stdout",
     "output_type": "stream",
     "text": [
      "Model: \"sequential_1\"\n",
      "_________________________________________________________________\n",
      "Layer (type)                 Output Shape              Param #   \n",
      "=================================================================\n",
      "flatten_1 (Flatten)          (None, 784)               0         \n",
      "_________________________________________________________________\n",
      "dense_1 (Dense)              (None, 512)               401920    \n",
      "_________________________________________________________________\n",
      "dense_2 (Dense)              (None, 10)                5130      \n",
      "=================================================================\n",
      "Total params: 407,050\n",
      "Trainable params: 407,050\n",
      "Non-trainable params: 0\n",
      "_________________________________________________________________\n"
     ]
    }
   ],
   "source": [
    "model.summary()"
   ]
  },
  {
   "cell_type": "code",
   "execution_count": null,
   "metadata": {},
   "outputs": [],
   "source": []
  }
 ],
 "metadata": {
  "kernelspec": {
   "display_name": "Python 3",
   "language": "python",
   "name": "python3"
  },
  "language_info": {
   "codemirror_mode": {
    "name": "ipython",
    "version": 3
   },
   "file_extension": ".py",
   "mimetype": "text/x-python",
   "name": "python",
   "nbconvert_exporter": "python",
   "pygments_lexer": "ipython3",
   "version": "3.7.1"
  }
 },
 "nbformat": 4,
 "nbformat_minor": 4
}
