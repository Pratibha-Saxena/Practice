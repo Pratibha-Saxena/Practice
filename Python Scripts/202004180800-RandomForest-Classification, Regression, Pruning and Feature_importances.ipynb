{
 "cells": [
  {
   "cell_type": "raw",
   "metadata": {},
   "source": [
    "Random Forest Regression:\n",
    "   \n",
    "   Multiple decision trees\n",
    "   select best feature\n",
    "   minimize error and improve modelRandom forest classification\n",
    "   Multiple decision trees\n",
    "   select best feature\n",
    "   minimize error and improve accuracy of the model Tree1(diff subset of data and different subset of features)\n",
    "Tree2(diff subset of data and different subset of features)\n",
    "Tree3(diff subset of data and different subset of features)\n",
    "..\n",
    "..\n",
    "..\n",
    "Tree n(diff subset of data and different subset of features)\n",
    "\n",
    "========\n",
    "->mean for Regression\n",
    "->Majority vote for classification\n",
    "================================="
   ]
  },
  {
   "cell_type": "raw",
   "metadata": {},
   "source": [
    "Tree1 Species--> setosa\n",
    "Tree2 Species--> Setosa\n",
    "Tree3 Species--> versicolor"
   ]
  },
  {
   "cell_type": "code",
   "execution_count": 3,
   "metadata": {},
   "outputs": [],
   "source": [
    "import pandas as pd\n",
    "df = pd.read_csv(\"C:/Users/Admin/Documents/Datasets/Credit.csv\")"
   ]
  },
  {
   "cell_type": "code",
   "execution_count": 4,
   "metadata": {},
   "outputs": [
    {
     "data": {
      "text/html": [
       "<div>\n",
       "<style scoped>\n",
       "    .dataframe tbody tr th:only-of-type {\n",
       "        vertical-align: middle;\n",
       "    }\n",
       "\n",
       "    .dataframe tbody tr th {\n",
       "        vertical-align: top;\n",
       "    }\n",
       "\n",
       "    .dataframe thead th {\n",
       "        text-align: right;\n",
       "    }\n",
       "</style>\n",
       "<table border=\"1\" class=\"dataframe\">\n",
       "  <thead>\n",
       "    <tr style=\"text-align: right;\">\n",
       "      <th></th>\n",
       "      <th>Unnamed: 0</th>\n",
       "      <th>ID</th>\n",
       "      <th>Income</th>\n",
       "      <th>Limit</th>\n",
       "      <th>Rating</th>\n",
       "      <th>Cards</th>\n",
       "      <th>Age</th>\n",
       "      <th>Education</th>\n",
       "      <th>Gender</th>\n",
       "      <th>Student</th>\n",
       "      <th>Married</th>\n",
       "      <th>Ethnicity</th>\n",
       "      <th>Balance</th>\n",
       "    </tr>\n",
       "  </thead>\n",
       "  <tbody>\n",
       "    <tr>\n",
       "      <th>0</th>\n",
       "      <td>1</td>\n",
       "      <td>1</td>\n",
       "      <td>14.891</td>\n",
       "      <td>3606</td>\n",
       "      <td>283</td>\n",
       "      <td>2</td>\n",
       "      <td>34</td>\n",
       "      <td>11</td>\n",
       "      <td>Male</td>\n",
       "      <td>No</td>\n",
       "      <td>Yes</td>\n",
       "      <td>Caucasian</td>\n",
       "      <td>333</td>\n",
       "    </tr>\n",
       "    <tr>\n",
       "      <th>1</th>\n",
       "      <td>2</td>\n",
       "      <td>2</td>\n",
       "      <td>106.025</td>\n",
       "      <td>6645</td>\n",
       "      <td>483</td>\n",
       "      <td>3</td>\n",
       "      <td>82</td>\n",
       "      <td>15</td>\n",
       "      <td>Female</td>\n",
       "      <td>Yes</td>\n",
       "      <td>Yes</td>\n",
       "      <td>Asian</td>\n",
       "      <td>903</td>\n",
       "    </tr>\n",
       "    <tr>\n",
       "      <th>2</th>\n",
       "      <td>3</td>\n",
       "      <td>3</td>\n",
       "      <td>104.593</td>\n",
       "      <td>7075</td>\n",
       "      <td>514</td>\n",
       "      <td>4</td>\n",
       "      <td>71</td>\n",
       "      <td>11</td>\n",
       "      <td>Male</td>\n",
       "      <td>No</td>\n",
       "      <td>No</td>\n",
       "      <td>Asian</td>\n",
       "      <td>580</td>\n",
       "    </tr>\n",
       "    <tr>\n",
       "      <th>3</th>\n",
       "      <td>4</td>\n",
       "      <td>4</td>\n",
       "      <td>148.924</td>\n",
       "      <td>9504</td>\n",
       "      <td>681</td>\n",
       "      <td>3</td>\n",
       "      <td>36</td>\n",
       "      <td>11</td>\n",
       "      <td>Female</td>\n",
       "      <td>No</td>\n",
       "      <td>No</td>\n",
       "      <td>Asian</td>\n",
       "      <td>964</td>\n",
       "    </tr>\n",
       "    <tr>\n",
       "      <th>4</th>\n",
       "      <td>5</td>\n",
       "      <td>5</td>\n",
       "      <td>55.882</td>\n",
       "      <td>4897</td>\n",
       "      <td>357</td>\n",
       "      <td>2</td>\n",
       "      <td>68</td>\n",
       "      <td>16</td>\n",
       "      <td>Male</td>\n",
       "      <td>No</td>\n",
       "      <td>Yes</td>\n",
       "      <td>Caucasian</td>\n",
       "      <td>331</td>\n",
       "    </tr>\n",
       "  </tbody>\n",
       "</table>\n",
       "</div>"
      ],
      "text/plain": [
       "   Unnamed: 0  ID   Income  Limit  Rating  Cards  Age  Education  Gender  \\\n",
       "0           1   1   14.891   3606     283      2   34         11    Male   \n",
       "1           2   2  106.025   6645     483      3   82         15  Female   \n",
       "2           3   3  104.593   7075     514      4   71         11    Male   \n",
       "3           4   4  148.924   9504     681      3   36         11  Female   \n",
       "4           5   5   55.882   4897     357      2   68         16    Male   \n",
       "\n",
       "  Student Married  Ethnicity  Balance  \n",
       "0      No     Yes  Caucasian      333  \n",
       "1     Yes     Yes      Asian      903  \n",
       "2      No      No      Asian      580  \n",
       "3      No      No      Asian      964  \n",
       "4      No     Yes  Caucasian      331  "
      ]
     },
     "execution_count": 4,
     "metadata": {},
     "output_type": "execute_result"
    }
   ],
   "source": [
    "df.head()"
   ]
  },
  {
   "cell_type": "code",
   "execution_count": 8,
   "metadata": {},
   "outputs": [
    {
     "data": {
      "image/png": "[encoded data removed]",
      "text/plain": [
       "<Figure size 432x288 with 1 Axes>"
      ]
     },
     "metadata": {},
     "output_type": "display_data"
    },
    {
     "data": {
      "image/png": "[encoded data removed]",
      "text/plain": [
       "<Figure size 432x288 with 1 Axes>"
      ]
     },
     "metadata": {},
     "output_type": "display_data"
    },
    {
     "data": {
      "image/png": "[encoded data removed]",
      "text/plain": [
       "<Figure size 432x288 with 1 Axes>"
      ]
     },
     "metadata": {},
     "output_type": "display_data"
    },
    {
     "data": {
      "image/png": "[encoded data removed]",
      "text/plain": [
       "<Figure size 432x288 with 1 Axes>"
      ]
     },
     "metadata": {},
     "output_type": "display_data"
    },
    {
     "data": {
      "image/png": "[encoded data removed]",
      "text/plain": [
       "<Figure size 432x288 with 1 Axes>"
      ]
     },
     "metadata": {},
     "output_type": "display_data"
    },
    {
     "data": {
      "image/png": "[encoded data removed]",
      "text/plain": [
       "<Figure size 432x288 with 1 Axes>"
      ]
     },
     "metadata": {},
     "output_type": "display_data"
    },
    {
     "data": {
      "image/png": "[encoded data removed]",
      "text/plain": [
       "<Figure size 432x288 with 1 Axes>"
      ]
     },
     "metadata": {},
     "output_type": "display_data"
    },
    {
     "data": {
      "image/png": "[encoded data removed]",
      "text/plain": [
       "<Figure size 432x288 with 1 Axes>"
      ]
     },
     "metadata": {},
     "output_type": "display_data"
    },
    {
     "data": {
      "image/png": "[encoded data removed]",
      "text/plain": [
       "<Figure size 432x288 with 1 Axes>"
      ]
     },
     "metadata": {},
     "output_type": "display_data"
    },
    {
     "data": {
      "image/png": "[encoded data removed]",
      "text/plain": [
       "<Figure size 432x288 with 1 Axes>"
      ]
     },
     "metadata": {},
     "output_type": "display_data"
    },
    {
     "data": {
      "image/png": "[encoded data removed]",
      "text/plain": [
       "<Figure size 432x288 with 1 Axes>"
      ]
     },
     "metadata": {},
     "output_type": "display_data"
    },
    {
     "data": {
      "image/png": "[encoded data removed]",
      "text/plain": [
       "<Figure size 432x288 with 1 Axes>"
      ]
     },
     "metadata": {},
     "output_type": "display_data"
    },
    {
     "data": {
      "image/png": "[encoded data removed]",
      "text/plain": [
       "<Figure size 432x288 with 1 Axes>"
      ]
     },
     "metadata": {},
     "output_type": "display_data"
    }
   ],
   "source": [
    "import seaborn as sb\n",
    "import matplotlib.pyplot as plt\n",
    "\n",
    "for i in df.columns:\n",
    "    if(df[i].dtypes == 'object'):\n",
    "        sb.countplot(df.Married, hue=df[i])\n",
    "    else:\n",
    "        sb.boxplot(df.Married, df[i])\n",
    "    plt.show()"
   ]
  },
  {
   "cell_type": "code",
   "execution_count": 6,
   "metadata": {},
   "outputs": [],
   "source": [
    "Student1 = pd.get_dummies(df.Student)\n",
    "Gender1 = pd.get_dummies(df.Gender)\n",
    "Ethnicity1 = pd.get_dummies(df.Ethnicity)\n",
    "X1 = Student1.join(Gender1)\n",
    "X2 = X1.join(Ethnicity1)"
   ]
  },
  {
   "cell_type": "code",
   "execution_count": 10,
   "metadata": {},
   "outputs": [],
   "source": [
    "X = df.drop(labels=[\"Unnamed: 0\",\"Married\",\"ID\",\"Gender\",\"Ethnicity\",\"Student\"], axis=1).join(X2)\n",
    "y = df[[\"Married\"]]\n",
    "from sklearn.model_selection import train_test_split\n",
    "X_train, X_test, y_train, y_test = train_test_split(X, y, test_size=0.2, random_state=30)"
   ]
  },
  {
   "cell_type": "code",
   "execution_count": 11,
   "metadata": {},
   "outputs": [
    {
     "data": {
      "text/html": [
       "<div>\n",
       "<style scoped>\n",
       "    .dataframe tbody tr th:only-of-type {\n",
       "        vertical-align: middle;\n",
       "    }\n",
       "\n",
       "    .dataframe tbody tr th {\n",
       "        vertical-align: top;\n",
       "    }\n",
       "\n",
       "    .dataframe thead th {\n",
       "        text-align: right;\n",
       "    }\n",
       "</style>\n",
       "<table border=\"1\" class=\"dataframe\">\n",
       "  <thead>\n",
       "    <tr style=\"text-align: right;\">\n",
       "      <th></th>\n",
       "      <th>Income</th>\n",
       "      <th>Limit</th>\n",
       "      <th>Rating</th>\n",
       "      <th>Cards</th>\n",
       "      <th>Age</th>\n",
       "      <th>Education</th>\n",
       "      <th>Balance</th>\n",
       "      <th>No</th>\n",
       "      <th>Yes</th>\n",
       "      <th>Male</th>\n",
       "      <th>Female</th>\n",
       "      <th>African American</th>\n",
       "      <th>Asian</th>\n",
       "      <th>Caucasian</th>\n",
       "    </tr>\n",
       "  </thead>\n",
       "  <tbody>\n",
       "    <tr>\n",
       "      <th>0</th>\n",
       "      <td>14.891</td>\n",
       "      <td>3606</td>\n",
       "      <td>283</td>\n",
       "      <td>2</td>\n",
       "      <td>34</td>\n",
       "      <td>11</td>\n",
       "      <td>333</td>\n",
       "      <td>1</td>\n",
       "      <td>0</td>\n",
       "      <td>1</td>\n",
       "      <td>0</td>\n",
       "      <td>0</td>\n",
       "      <td>0</td>\n",
       "      <td>1</td>\n",
       "    </tr>\n",
       "    <tr>\n",
       "      <th>1</th>\n",
       "      <td>106.025</td>\n",
       "      <td>6645</td>\n",
       "      <td>483</td>\n",
       "      <td>3</td>\n",
       "      <td>82</td>\n",
       "      <td>15</td>\n",
       "      <td>903</td>\n",
       "      <td>0</td>\n",
       "      <td>1</td>\n",
       "      <td>0</td>\n",
       "      <td>1</td>\n",
       "      <td>0</td>\n",
       "      <td>1</td>\n",
       "      <td>0</td>\n",
       "    </tr>\n",
       "  </tbody>\n",
       "</table>\n",
       "</div>"
      ],
      "text/plain": [
       "    Income  Limit  Rating  Cards  Age  Education  Balance  No  Yes   Male  \\\n",
       "0   14.891   3606     283      2   34         11      333   1    0      1   \n",
       "1  106.025   6645     483      3   82         15      903   0    1      0   \n",
       "\n",
       "   Female  African American  Asian  Caucasian  \n",
       "0       0                 0      0          1  \n",
       "1       1                 0      1          0  "
      ]
     },
     "execution_count": 11,
     "metadata": {},
     "output_type": "execute_result"
    }
   ],
   "source": [
    "X.head(2)"
   ]
  },
  {
   "cell_type": "code",
   "execution_count": 12,
   "metadata": {},
   "outputs": [
    {
     "data": {
      "image/png": "[encoded data removed]",
      "text/plain": [
       "<Figure size 432x288 with 1 Axes>"
      ]
     },
     "metadata": {},
     "output_type": "display_data"
    },
    {
     "data": {
      "image/png": "[encoded data removed]",
      "text/plain": [
       "<Figure size 432x288 with 1 Axes>"
      ]
     },
     "metadata": {},
     "output_type": "display_data"
    }
   ],
   "source": [
    "sb.countplot(y.Married)\n",
    "plt.show()\n",
    "sb.countplot(y_train.Married)\n",
    "plt.show()"
   ]
  },
  {
   "cell_type": "code",
   "execution_count": 44,
   "metadata": {},
   "outputs": [
    {
     "name": "stdout",
     "output_type": "stream",
     "text": [
      "2 0.625\n",
      "3 0.5625\n",
      "4 0.6375\n",
      "5 0.6375\n",
      "6 0.625\n",
      "7 0.6375\n",
      "8 0.6375\n",
      "9 0.6125\n",
      "10 0.6125\n",
      "11 0.6375\n",
      "12 0.575\n",
      "13 0.6375\n",
      "14 0.6375\n",
      "15 0.5875\n",
      "16 0.6375\n",
      "17 0.6375\n",
      "18 0.6\n",
      "19 0.6375\n",
      "20 0.6375\n",
      "21 0.625\n",
      "22 0.6125\n",
      "23 0.6125\n",
      "24 0.6375\n",
      "25 0.5875\n",
      "26 0.575\n",
      "27 0.65\n",
      "28 0.6375\n",
      "29 0.625\n"
     ]
    }
   ],
   "source": [
    "from sklearn.ensemble import RandomForestClassifier\n",
    "import sklearn.metrics as sm\n",
    "for i in range(2, 30, 1):\n",
    "    rf = RandomForestClassifier(n_estimators=20, max_leaf_nodes=5, min_impurity_decrease=0.009)\n",
    "    model = rf.fit(X_train, y_train.Married)\n",
    "    pred = model.predict(X_test)\n",
    "    print(i, sm.accuracy_score(y_test, pred))"
   ]
  },
  {
   "cell_type": "raw",
   "metadata": {},
   "source": [
    "RandomForest Drawback: Time taken"
   ]
  },
  {
   "cell_type": "code",
   "execution_count": 57,
   "metadata": {},
   "outputs": [
    {
     "name": "stdout",
     "output_type": "stream",
     "text": [
      "0.6375\n"
     ]
    }
   ],
   "source": [
    "from sklearn.ensemble import RandomForestClassifier\n",
    "rf = RandomForestClassifier(n_estimators=17, min, random_state=45, max_leaf_nodes=5, min_impurity_decrease=0.009)\n",
    "model = rf.fit(X_train, y_train.Married)\n",
    "pred = model.predict(X_test)\n",
    "print(sm.accuracy_score(y_test, pred))"
   ]
  },
  {
   "cell_type": "code",
   "execution_count": 58,
   "metadata": {},
   "outputs": [
    {
     "data": {
      "text/plain": [
       "array([0.12589439, 0.24141348, 0.04046462, 0.02742182, 0.24636403,\n",
       "       0.15177501, 0.        , 0.04143893, 0.        , 0.        ,\n",
       "       0.        , 0.12522774, 0.        , 0.        ])"
      ]
     },
     "execution_count": 58,
     "metadata": {},
     "output_type": "execute_result"
    }
   ],
   "source": [
    "model.feature_importances_"
   ]
  },
  {
   "cell_type": "code",
   "execution_count": 59,
   "metadata": {},
   "outputs": [
    {
     "data": {
      "text/plain": [
       "Index(['Income', 'Limit', 'Rating', 'Cards', 'Age', 'Education', 'Balance',\n",
       "       'No', 'Yes', ' Male', 'Female', 'African American', 'Asian',\n",
       "       'Caucasian'],\n",
       "      dtype='object')"
      ]
     },
     "execution_count": 59,
     "metadata": {},
     "output_type": "execute_result"
    }
   ],
   "source": [
    "X.columns"
   ]
  },
  {
   "cell_type": "code",
   "execution_count": 60,
   "metadata": {},
   "outputs": [
    {
     "data": {
      "text/plain": [
       "[('Income', 0.12589438792254634),\n",
       " ('Limit', 0.24141347683201433),\n",
       " ('Rating', 0.040464616468742755),\n",
       " ('Cards', 0.027421815292402313),\n",
       " ('Age', 0.24636402896449916),\n",
       " ('Education', 0.15177500785312845),\n",
       " ('Balance', 0.0),\n",
       " ('No', 0.041438928159835416),\n",
       " ('Yes', 0.0),\n",
       " (' Male', 0.0),\n",
       " ('Female', 0.0),\n",
       " ('African American', 0.12522773850683125),\n",
       " ('Asian', 0.0),\n",
       " ('Caucasian', 0.0)]"
      ]
     },
     "execution_count": 60,
     "metadata": {},
     "output_type": "execute_result"
    }
   ],
   "source": [
    "list(zip(X.columns, model.feature_importances_))"
   ]
  },
  {
   "cell_type": "code",
   "execution_count": 61,
   "metadata": {},
   "outputs": [
    {
     "data": {
      "text/plain": [
       "<BarContainer object of 14 artists>"
      ]
     },
     "execution_count": 61,
     "metadata": {},
     "output_type": "execute_result"
    },
    {
     "data": {
      "image/png": "[encoded data removed]",
      "text/plain": [
       "<Figure size 432x288 with 1 Axes>"
      ]
     },
     "metadata": {},
     "output_type": "display_data"
    }
   ],
   "source": [
    "plt.barh(X.columns, model.feature_importances_)"
   ]
  },
  {
   "cell_type": "markdown",
   "metadata": {},
   "source": [
    "# Regression using Random Forest"
   ]
  },
  {
   "cell_type": "code",
   "execution_count": 67,
   "metadata": {},
   "outputs": [],
   "source": [
    "df = pd.read_csv(\"C:/Users/Admin/Documents/Datasets/Credit.csv\")"
   ]
  },
  {
   "cell_type": "code",
   "execution_count": 68,
   "metadata": {},
   "outputs": [],
   "source": [
    "Student1 = pd.get_dummies(df.Student)\n",
    "Gender1 = pd.get_dummies(df.Gender)\n",
    "Ethnicity1 = pd.get_dummies(df.Ethnicity)\n",
    "X1 = Student1.join(Gender1)\n",
    "X2 = X1.join(Ethnicity1)"
   ]
  },
  {
   "cell_type": "code",
   "execution_count": 69,
   "metadata": {},
   "outputs": [],
   "source": [
    "X = df.drop(labels=[\"Unnamed: 0\",\"Income\",\"Married\",\"ID\",\"Gender\",\"Ethnicity\",\"Student\"], axis=1).join(X2)\n",
    "y = df[[\"Income\"]]\n",
    "from sklearn.model_selection import train_test_split\n",
    "X_train, X_test, y_train, y_test = train_test_split(X, y, test_size=0.2, random_state=30)"
   ]
  },
  {
   "cell_type": "code",
   "execution_count": 71,
   "metadata": {},
   "outputs": [
    {
     "name": "stdout",
     "output_type": "stream",
     "text": [
      "<class 'pandas.core.frame.DataFrame'>\n",
      "RangeIndex: 400 entries, 0 to 399\n",
      "Data columns (total 13 columns):\n",
      " #   Column      Non-Null Count  Dtype  \n",
      "---  ------      --------------  -----  \n",
      " 0   Unnamed: 0  400 non-null    int64  \n",
      " 1   ID          400 non-null    int64  \n",
      " 2   Income      400 non-null    float64\n",
      " 3   Limit       400 non-null    int64  \n",
      " 4   Rating      400 non-null    int64  \n",
      " 5   Cards       400 non-null    int64  \n",
      " 6   Age         400 non-null    int64  \n",
      " 7   Education   400 non-null    int64  \n",
      " 8   Gender      400 non-null    object \n",
      " 9   Student     400 non-null    object \n",
      " 10  Married     400 non-null    object \n",
      " 11  Ethnicity   400 non-null    object \n",
      " 12  Balance     400 non-null    int64  \n",
      "dtypes: float64(1), int64(8), object(4)\n",
      "memory usage: 40.8+ KB\n"
     ]
    }
   ],
   "source": [
    "df.info()"
   ]
  },
  {
   "cell_type": "code",
   "execution_count": 74,
   "metadata": {},
   "outputs": [
    {
     "name": "stdout",
     "output_type": "stream",
     "text": [
      "2 281.3369938621414\n",
      "3 274.51745987012447\n",
      "4 279.77386380561467\n",
      "5 265.3591023981371\n",
      "6 266.73907897281345\n",
      "7 282.67589701100223\n",
      "8 262.1041790529854\n",
      "9 285.24631659404525\n",
      "10 281.96380084009525\n",
      "11 267.71854377361785\n",
      "12 284.51308048699696\n",
      "13 275.4852438801454\n",
      "14 260.93616282288565\n",
      "15 268.9468380519076\n",
      "16 271.3875269927951\n",
      "17 261.01934980537396\n",
      "18 285.8503257131823\n",
      "19 285.51488042165323\n",
      "20 287.9711983561524\n",
      "21 268.43132899968975\n",
      "22 267.8489202490141\n",
      "23 272.2609312555033\n",
      "24 272.5900735881395\n",
      "25 280.2442240721462\n",
      "26 251.9683210832315\n",
      "27 273.5021231083529\n",
      "28 289.0527712338862\n",
      "29 271.4508778405642\n"
     ]
    }
   ],
   "source": [
    "from sklearn.ensemble import RandomForestRegressor\n",
    "for i in range(2, 30, 1):\n",
    "    rfr = RandomForestRegressor(n_estimators=20, max_leaf_nodes=5, min_impurity_decrease=0.009)\n",
    "    model = rfr.fit(X_train, y_train.Income)\n",
    "    pred = model.predict(X_test)\n",
    "    print(i, sm.mean_squared_error(y_test, pred))"
   ]
  },
  {
   "cell_type": "code",
   "execution_count": 75,
   "metadata": {},
   "outputs": [
    {
     "data": {
      "text/plain": [
       "<BarContainer object of 13 artists>"
      ]
     },
     "execution_count": 75,
     "metadata": {},
     "output_type": "execute_result"
    },
    {
     "data": {
      "image/png": "[encoded data removed]",
      "text/plain": [
       "<Figure size 432x288 with 1 Axes>"
      ]
     },
     "metadata": {},
     "output_type": "display_data"
    }
   ],
   "source": [
    "plt.barh(X.columns, model.feature_importances_)"
   ]
  },
  {
   "cell_type": "raw",
   "metadata": {},
   "source": [
    "1tb data -> 5 fold --> 4 tuning paramaeters --> 6hrs\n",
    "\n",
    "how will u run it faster...?   6hrs --> 30mins\n",
    "\n",
    "(MlLib using Spark, Sagemaker on AWS)\n",
    "\n",
    "-->How can we overcome this performance bottleneck\n"
   ]
  },
  {
   "cell_type": "code",
   "execution_count": null,
   "metadata": {},
   "outputs": [],
   "source": []
  }
 ],
 "metadata": {
  "kernelspec": {
   "display_name": "Python 3",
   "language": "python",
   "name": "python3"
  },
  "language_info": {
   "codemirror_mode": {
    "name": "ipython",
    "version": 3
   },
   "file_extension": ".py",
   "mimetype": "text/x-python",
   "name": "python",
   "nbconvert_exporter": "python",
   "pygments_lexer": "ipython3",
   "version": "3.6.4"
  }
 },
 "nbformat": 4,
 "nbformat_minor": 2
}
